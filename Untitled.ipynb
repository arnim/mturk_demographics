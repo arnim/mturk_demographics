{
 "cells": [
  {
   "cell_type": "code",
   "execution_count": 11,
   "metadata": {},
   "outputs": [
    {
     "data": {
      "text/plain": [
       "[{'entity': 'Kobach',\n",
       "  'relevance': 0.266637,\n",
       "  'sentiment': ['sentiment'],\n",
       "  'url': 'http://www.cnn.com/2017/06/30/opinions/voter-rolls-demand-douglas/index.html'},\n",
       " {'entity': 'Presidential Commission',\n",
       "  'relevance': 0.194451,\n",
       "  'sentiment': ['sentiment'],\n",
       "  'url': 'http://www.cnn.com/2017/06/30/opinions/voter-rolls-demand-douglas/index.html'},\n",
       " {'entity': 'Barack Obama',\n",
       "  'relevance': 0.1895,\n",
       "  'sentiment': ['sentiment'],\n",
       "  'url': 'http://www.cnn.com/2017/06/30/opinions/voter-rolls-demand-douglas/index.html'},\n",
       " {'entity': 'Trump',\n",
       "  'relevance': 0.166808,\n",
       "  'sentiment': ['sentiment'],\n",
       "  'url': 'http://www.cnn.com/2017/06/30/opinions/voter-rolls-demand-douglas/index.html'},\n",
       " {'entity': 'Trump',\n",
       "  'relevance': 0.15853,\n",
       "  'sentiment': ['sentiment'],\n",
       "  'url': 'http://www.cnn.com/2017/06/30/opinions/voter-rolls-demand-douglas/index.html'},\n",
       " {'entity': 'Mitt Romney',\n",
       "  'relevance': 0.14372,\n",
       "  'sentiment': ['sentiment'],\n",
       "  'url': 'http://www.cnn.com/2017/06/30/opinions/voter-rolls-demand-douglas/index.html'},\n",
       " {'entity': 'John Smith',\n",
       "  'relevance': 0.138945,\n",
       "  'sentiment': ['sentiment'],\n",
       "  'url': 'http://www.cnn.com/2017/06/30/opinions/voter-rolls-demand-douglas/index.html'},\n",
       " {'entity': 'Virginia',\n",
       "  'relevance': 0.123462,\n",
       "  'sentiment': ['sentiment'],\n",
       "  'url': 'http://www.cnn.com/2017/06/30/opinions/voter-rolls-demand-douglas/index.html'},\n",
       " {'entity': 'President',\n",
       "  'relevance': 0.119701,\n",
       "  'sentiment': ['sentiment'],\n",
       "  'url': 'http://www.cnn.com/2017/06/30/opinions/voter-rolls-demand-douglas/index.html'},\n",
       " {'entity': 'Kentucky',\n",
       "  'relevance': 0.119019,\n",
       "  'sentiment': ['sentiment'],\n",
       "  'url': 'http://www.cnn.com/2017/06/30/opinions/voter-rolls-demand-douglas/index.html'},\n",
       " {'entity': 'four years',\n",
       "  'relevance': 0.119019,\n",
       "  'sentiment': ['sentiment'],\n",
       "  'url': 'http://www.cnn.com/2017/06/30/opinions/voter-rolls-demand-douglas/index.html'}]"
      ]
     },
     "execution_count": 11,
     "metadata": {},
     "output_type": "execute_result"
    }
   ],
   "source": [
    "import requests\n",
    "import json\n",
    "url = \"http://www.cnn.com/2017/06/30/opinions/voter-rolls-demand-douglas/index.html\" #define the url here\n",
    "def extractEntities(url):\n",
    "    result=[]\n",
    "    endpoint = \"https://gateway.watsonplatform.net/natural-language-understanding/api/v1/analyze\"\n",
    "    username = \"6929aa3a-0c38-4bad-b578-69f73817b955\"\n",
    "    password = \"NA1Cx3Wiy037\"\n",
    "    parameters = {\n",
    "        'features' : 'concepts,categories,emotion,entities,keywords,metadata,relations,semantic_roles,sentiment',\n",
    "        'version' : '2017-02-27',\n",
    "        'language' : 'en',\n",
    "        'url' : url\n",
    "    }\n",
    "    resp = requests.get(endpoint, params=parameters, auth=(username, password))\n",
    "    data = resp.json()\n",
    "    for entity in data[\"entities\"]:\n",
    "        if 'disambiguation' in entity and 'name' in entity['disambiguation']:\n",
    "            result.append({'entity': entity['disambiguation']['name'], 'url': url, 'relevance': entity['relevance'], 'sentiment':['sentiment']})\n",
    "        else:\n",
    "            result.append({'entity': entity['text'], 'url': url, 'relevance': entity['relevance'], 'sentiment':['sentiment']})\n",
    "        \n",
    "    return result\n",
    "data = extractEntities(url)\n",
    "data"
   ]
  },
  {
   "cell_type": "code",
   "execution_count": null,
   "metadata": {
    "collapsed": true
   },
   "outputs": [],
   "source": []
  }
 ],
 "metadata": {
  "kernelspec": {
   "display_name": "Python 3",
   "language": "python",
   "name": "python3"
  },
  "language_info": {
   "codemirror_mode": {
    "name": "ipython",
    "version": 3
   },
   "file_extension": ".py",
   "mimetype": "text/x-python",
   "name": "python",
   "nbconvert_exporter": "python",
   "pygments_lexer": "ipython3",
   "version": "3.5.2"
  }
 },
 "nbformat": 4,
 "nbformat_minor": 2
}
