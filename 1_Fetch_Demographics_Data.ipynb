{
 "cells": [
  {
   "cell_type": "markdown",
   "metadata": {},
   "source": [
    "### Demographics API\n",
    "\n",
    "Below we have the code that retrieves the data from the  Mechanical Turk Tracker Demographics API."
   ]
  },
  {
   "cell_type": "code",
   "execution_count": 7,
   "metadata": {},
   "outputs": [],
   "source": [
    "from datetime import datetime\n",
    "import time\n",
    "\n",
    "# This function takes as input the response for a single survey, and transforms it into a flat dictionary\n",
    "def flatten(item):\n",
    "    fmt = \"%Y-%m-%dT%H:%M:%S.%fZ\"\n",
    "    \n",
    "    hit_answer_date = datetime.strptime(item[\"date\"], fmt)\n",
    "    hit_creation_str = item.get(\"hitCreationDate\")\n",
    "    \n",
    "    if hit_creation_str is None: \n",
    "        hit_creation_date = None \n",
    "        diff = None\n",
    "    else:\n",
    "        hit_creation_date = datetime.strptime(hit_creation_str, fmt)\n",
    "        # convert to unix timestamp\n",
    "        hit_date_ts = time.mktime(hit_creation_date.timetuple())\n",
    "        answer_date_ts = time.mktime(hit_answer_date.timetuple())\n",
    "        diff = int(answer_date_ts-hit_date_ts)\n",
    "    \n",
    "    result = {\n",
    "        \"worker_id\": str(item[\"workerId\"]),\n",
    "        \"gender\": str(item[\"answers\"][\"gender\"]).lower(),\n",
    "        \"household_income\": str(item[\"answers\"][\"householdIncome\"]),\n",
    "        \"household_size\": str(item[\"answers\"][\"householdSize\"]),\n",
    "        \"marital_status\": str(item[\"answers\"].get(\"maritalStatus\")),\n",
    "        \"year_of_birth\": int(item[\"answers\"][\"yearOfBirth\"]),\n",
    "        \"location_city\": str(item.get(\"locationCity\")),\n",
    "        \"location_region\": str(item.get(\"locationRegion\")),\n",
    "        \"location_country\": str(item[\"locationCountry\"]),\n",
    "        \"hit_answered_date\": hit_answer_date,\n",
    "        \"hit_creation_date\": hit_creation_date,\n",
    "        \"post_to_completion_secs\": diff\n",
    "    }\n",
    "    return result"
   ]
  },
  {
   "cell_type": "code",
   "execution_count": 8,
   "metadata": {},
   "outputs": [
    {
     "name": "stdout",
     "output_type": "stream",
     "text": [
      "Retrieved  5000  responses\n",
      "Total of  5000  responses in our data\n",
      "Retrieved  5000  responses\n",
      "Total of  10000  responses in our data\n",
      "Retrieved  5000  responses\n",
      "Total of  15000  responses in our data\n",
      "Retrieved  5000  responses\n",
      "Total of  20000  responses in our data\n",
      "Retrieved  5000  responses\n",
      "Total of  25000  responses in our data\n",
      "Retrieved  5000  responses\n",
      "Total of  30000  responses in our data\n",
      "Retrieved  5000  responses\n",
      "Total of  35000  responses in our data\n",
      "Retrieved  5000  responses\n",
      "Total of  40000  responses in our data\n",
      "Retrieved  5000  responses\n",
      "Total of  45000  responses in our data\n",
      "Retrieved  5000  responses\n",
      "Total of  50000  responses in our data\n",
      "Retrieved  5000  responses\n",
      "Total of  55000  responses in our data\n",
      "Retrieved  5000  responses\n",
      "Total of  60000  responses in our data\n",
      "Retrieved  5000  responses\n",
      "Total of  65000  responses in our data\n",
      "Retrieved  5000  responses\n",
      "Total of  70000  responses in our data\n",
      "Retrieved  5000  responses\n",
      "Total of  75000  responses in our data\n",
      "Retrieved  5000  responses\n",
      "Total of  80000  responses in our data\n",
      "Retrieved  5000  responses\n",
      "Total of  85000  responses in our data\n",
      "Retrieved  5000  responses\n",
      "Total of  90000  responses in our data\n",
      "Retrieved  5000  responses\n",
      "Total of  95000  responses in our data\n",
      "Retrieved  5000  responses\n",
      "Total of  100000  responses in our data\n",
      "Retrieved  5000  responses\n",
      "Total of  105000  responses in our data\n",
      "Retrieved  5000  responses\n",
      "Total of  110000  responses in our data\n",
      "Retrieved  5000  responses\n",
      "Total of  115000  responses in our data\n",
      "Retrieved  5000  responses\n",
      "Total of  120000  responses in our data\n",
      "Retrieved  5000  responses\n",
      "Total of  125000  responses in our data\n",
      "Retrieved  5000  responses\n",
      "Total of  130000  responses in our data\n",
      "Retrieved  5000  responses\n",
      "Total of  135000  responses in our data\n",
      "Retrieved  5000  responses\n",
      "Total of  140000  responses in our data\n",
      "Retrieved  5000  responses\n",
      "Total of  145000  responses in our data\n",
      "Retrieved  5000  responses\n",
      "Total of  150000  responses in our data\n",
      "Retrieved  5000  responses\n",
      "Total of  155000  responses in our data\n",
      "Retrieved  5000  responses\n",
      "Total of  160000  responses in our data\n",
      "Retrieved  2287  responses\n",
      "Total of  162287  responses in our data\n"
     ]
    }
   ],
   "source": [
    "# The code below retrieves all the responses from the Demographics API\n",
    "# Since we cannot get all the responses at once, we fetch a few thousand\n",
    "# records at a time, until fetching them all\n",
    "\n",
    "import requests\n",
    "import json\n",
    "\n",
    "limit = 5000\n",
    "\n",
    "# The API call that returns the last survey responses\n",
    "baseurl = \"https://mturk-surveys.appspot.com/\" + \\\n",
    "    \"_ah/api/survey/v1/survey/demographics/answers?limit=\" + str(limit)\n",
    "\n",
    "# This is the cursor variable, used to retrieve more pages of results\n",
    "nextPageToken = None\n",
    "\n",
    "# We store the results in this list\n",
    "results = []\n",
    "\n",
    "while True:\n",
    "    if nextPageToken == None:\n",
    "        url = baseurl\n",
    "    else:\n",
    "        url = baseurl + \"&cursor=\" + nextPageToken\n",
    "\n",
    "    resp = requests.get(url)\n",
    "    if resp.status_code == 200:\n",
    "        data = json.loads(resp.text)\n",
    "        items = data.get(\"items\")\n",
    "        if items == None:\n",
    "            break\n",
    "        print(\"Retrieved \", len(items), \" responses\")\n",
    "        responses = [flatten(item) for item in items]\n",
    "        results.extend(responses)\n",
    "        print(\"Total of \", len(results), \" responses in our data\")\n",
    "    else:\n",
    "        print(\"Something went wrong with the network call\")\n",
    "\n",
    "    nextPageToken = data.get(\"nextPageToken\")\n",
    "    if nextPageToken == None:\n",
    "        break\n"
   ]
  },
  {
   "cell_type": "code",
   "execution_count": 9,
   "metadata": {},
   "outputs": [],
   "source": [
    "import pandas as pd\n",
    "df = pd.DataFrame(results)\n",
    "# Let's save the file as a CSV\n",
    "df.to_csv(\"mturk_surveys.csv\")"
   ]
  },
  {
   "cell_type": "code",
   "execution_count": 10,
   "metadata": {},
   "outputs": [
    {
     "name": "stdout",
     "output_type": "stream",
     "text": [
      "Total number of responses: 162287\n"
     ]
    }
   ],
   "source": [
    "# Let's print the total number of retrieved responses\n",
    "print(\"Total number of responses:\", len(results))"
   ]
  },
  {
   "cell_type": "code",
   "execution_count": 11,
   "metadata": {},
   "outputs": [
    {
     "name": "stdout",
     "output_type": "stream",
     "text": [
      "Unique workers: 68956\n"
     ]
    }
   ],
   "source": [
    "print(\"Unique workers:\", len(set(df.worker_id.values)))"
   ]
  },
  {
   "cell_type": "code",
   "execution_count": 12,
   "metadata": {},
   "outputs": [
    {
     "name": "stdout",
     "output_type": "stream",
     "text": [
      "First date: 2015-03-26 11:47:28.877000\n",
      "Last date: 2019-11-04 15:42:46.243000\n",
      "Duration: 1684 days 03:55:17.366000\n"
     ]
    }
   ],
   "source": [
    "import numpy as np\n",
    "\n",
    "min_date = df.hit_answered_date.min()\n",
    "max_date = df.hit_answered_date.max()\n",
    "print(\"First date:\", min_date)\n",
    "print(\"Last date:\", max_date)\n",
    "print(\"Duration:\", max_date - min_date)"
   ]
  },
  {
   "cell_type": "code",
   "execution_count": null,
   "metadata": {},
   "outputs": [],
   "source": []
  }
 ],
 "metadata": {
  "kernelspec": {
   "display_name": "Python 3",
   "language": "python",
   "name": "python3"
  },
  "language_info": {
   "codemirror_mode": {
    "name": "ipython",
    "version": 3
   },
   "file_extension": ".py",
   "mimetype": "text/x-python",
   "name": "python",
   "nbconvert_exporter": "python",
   "pygments_lexer": "ipython3",
   "version": "3.5.2"
  }
 },
 "nbformat": 4,
 "nbformat_minor": 1
}
