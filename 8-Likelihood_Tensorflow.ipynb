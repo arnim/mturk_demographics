{
 "cells": [
  {
   "cell_type": "markdown",
   "metadata": {
    "collapsed": true
   },
   "source": [
    "We use the setup from Predjer et al 2010.\n",
    "\n",
    "* $N$ workers in the platform through the period of the study, with different levels of arrival and departure\n",
    "* We have $K$ time periods \n",
    "* We assume memoryless arrivals and departures, with $\\lambda_k$ the arrivals at time $k$ and $\\mu_k$ the departures at time $k$.\n",
    "* Worker $i$ arrives (birth) at time $b_i$ and departs at time $d_i$ (both unobserved)\n",
    "* Each worker has a capture history $C_i = [0 \\ldots 0 1 \\ldots 0 1 0 \\ldots 0 0 0]$, where $H$ is a vector with $K$ binary values, and with $c_{ik}=1$ indicating that the worker $i$  appeared in the survey during the the $k$-th time period. \n",
    "* We use $u_i$ to denote the number of times that we captured the worker. \n",
    "* We use $f_i$ to denote the first time period that we see worker $i$, \n",
    "* We use $l_i$ to denote the last time period that we see worker $i$.\n",
    "* We use $a_i$ for the propensity of worker $i$ to participate in the task. We assume that $a_i$ is distributed according to a Beta distribution $P(a_i) \\propto B(\\alpha, \\beta)$.\n",
    "\n",
    "The likelihood function for a worker that participated at least once is:\n",
    "\n",
    "### $L_i = \\sum_{s=1}^{f_i} \\sum_{q=l_i}^K \\lambda_s \\cdot \\left( \\prod_{v=s}^{q-1} \\left( 1 - \\mu_v \\right) \\right) \\cdot \\mu_q \\cdot R_i(s,q) $\n",
    "\n",
    "where we use $s$ sum index to denote the (unobserved) arrival time, and $q$ to denote the (unobserved) departure time, with the limitation that $s$ is before $f_i$ and $q$ is after $l_i$. (So the part above gives the likelihood of arrival at $s$ and departure times.) Given the $s$ and $q$, we then define:\n",
    "\n",
    "### $R_i(s,q) = \\int_0^1 \\left( \\prod_{k=s}^{q} a_i^{c_{ik}} \\cdot (1-a_i)^{1-c_{ik}} \\right) dP(a_i) $\n",
    "\n",
    "with the $R_i$ capturing the likelihood of observing the capture history of the worker with a propensity $a_i$, integrated over all possible propensity values.\n",
    "\n",
    "By expanding $P(a_i) \\propto B(\\alpha, \\beta)$, and using the same process as when deriving the Beta-Binomial distribution, we can simplify the above expression as: \n",
    "\n",
    "### $R_i(s,q) = \\prod_{k=s}^{q} \\frac{B(c_{ik} + \\alpha, 1-c_{ik} + \\beta)}{B(\\alpha, \\beta)}$\n",
    "\n",
    "So, if the worker $i$ has been captured $u_i$ times, between their arrival at time $s$ and their departure at $q$, we have:\n",
    "\n",
    "### $R_i(s,q) = B(1 + \\alpha, \\beta)^{u_i} \\cdot B(\\alpha, 1 + \\beta)^{q-s-u_i} \\cdot B(\\alpha, \\beta)^{-(q-s)}$\n",
    "\n",
    "and by using the properties of the Beta function $B(x+1,y) = B(x, y) \\cdot \\dfrac{x}{x+y}$ and $B(x,y+1) = B(x, y) \\cdot \\dfrac{y}{x+y}$, we simplify further:\n",
    "\n",
    "### $R_i(s,q) = \\alpha^{u_i} \\cdot \\beta^{q-s-u_i} / (\\alpha+\\beta)^{q-s}$\n",
    "\n",
    "### $R_i(s,q) = \\left(\\frac{\\alpha}{\\beta}\\right)^{u_i} \\cdot \\left( \\frac{\\beta}{\\alpha+\\beta} \\right)^{q-s}$\n",
    "\n",
    "So, the overall likelihood function for a worker with $u_i$ captures between times $f_i$ and $l_i$ becomes:\n",
    "\n",
    "### $L_i = \\left(\\frac{\\alpha}{\\beta}\\right)^{u_i} \\sum_{s=1}^{f_i} \\sum_{q=l_i}^K \\lambda_s \\cdot  \\left( \\prod_{v=s}^{q-1} \\left(1 - \\mu_v\\right) \\right) \\cdot \\mu_q \\cdot  \\left( \\frac{\\beta}{\\alpha+\\beta} \\right)^{q-s} $\n",
    "\n",
    "and for the never observed workers:\n",
    "\n",
    "### $L_0 = \\sum_{s=1}^{K} \\sum_{q=s}^K \\lambda_s \\cdot \\left( \\prod_{v=s}^{q-1} \\left( 1 - \\mu_v \\right) \\right) \\cdot \\mu_q \\cdot  \\left( \\frac{\\beta}{\\alpha+\\beta} \\right)^{q-s} $\n"
   ]
  },
  {
   "cell_type": "code",
   "execution_count": 1,
   "metadata": {},
   "outputs": [],
   "source": [
    "import tensorflow as tf\n",
    "import pandas as pd\n",
    "import numpy as np"
   ]
  },
  {
   "cell_type": "code",
   "execution_count": 2,
   "metadata": {},
   "outputs": [],
   "source": [
    "# import tensorflow.contrib.eager as tfe\n",
    "# tfe.enable_eager_execution()"
   ]
  },
  {
   "cell_type": "code",
   "execution_count": 3,
   "metadata": {},
   "outputs": [],
   "source": [
    "df = pd.read_csv(\"mturk_surveys.csv\")\n",
    "df.drop(df.columns[0], axis=1, inplace=True) # drop the \"index\" column\n",
    "# We now transform our API answer into a flat table\n",
    "# and set the right data types\n",
    "df[\"hit_answered_date\"]=pd.to_datetime(df[\"hit_answered_date\"])\n",
    "df[\"hit_creation_date\"]=pd.to_datetime(df[\"hit_creation_date\"])\n",
    "df[\"household_income\"]=df[\"household_income\"].astype(\"category\")\n",
    "df[\"household_size\"]=df[\"household_size\"].astype(\"category\")\n",
    "df[\"location_country\"]=df[\"location_country\"].astype(\"category\")\n",
    "df[\"marital_status\"]=df[\"marital_status\"].astype(\"category\")\n",
    "df['date'] = pd.to_datetime(df['hit_answered_date'].apply(lambda x : x.date()))\n",
    "df['time'] = df['hit_answered_date'].apply(lambda x : x.time())\n",
    "# df['time'] = map(lambda x : x.time(), df['hit_answered_date'])\n",
    "# df.dtypes"
   ]
  },
  {
   "cell_type": "code",
   "execution_count": 4,
   "metadata": {
    "scrolled": true
   },
   "outputs": [
    {
     "data": {
      "text/html": [
       "<div>\n",
       "<style scoped>\n",
       "    .dataframe tbody tr th:only-of-type {\n",
       "        vertical-align: middle;\n",
       "    }\n",
       "\n",
       "    .dataframe tbody tr th {\n",
       "        vertical-align: top;\n",
       "    }\n",
       "\n",
       "    .dataframe thead th {\n",
       "        text-align: right;\n",
       "    }\n",
       "</style>\n",
       "<table border=\"1\" class=\"dataframe\">\n",
       "  <thead>\n",
       "    <tr style=\"text-align: right;\">\n",
       "      <th></th>\n",
       "      <th>count</th>\n",
       "      <th>max</th>\n",
       "      <th>min</th>\n",
       "    </tr>\n",
       "    <tr>\n",
       "      <th>index</th>\n",
       "      <th></th>\n",
       "      <th></th>\n",
       "      <th></th>\n",
       "    </tr>\n",
       "  </thead>\n",
       "  <tbody>\n",
       "    <tr>\n",
       "      <th>0</th>\n",
       "      <td>1</td>\n",
       "      <td>15</td>\n",
       "      <td>15</td>\n",
       "    </tr>\n",
       "    <tr>\n",
       "      <th>1</th>\n",
       "      <td>1</td>\n",
       "      <td>31</td>\n",
       "      <td>31</td>\n",
       "    </tr>\n",
       "    <tr>\n",
       "      <th>2</th>\n",
       "      <td>1</td>\n",
       "      <td>11</td>\n",
       "      <td>11</td>\n",
       "    </tr>\n",
       "    <tr>\n",
       "      <th>3</th>\n",
       "      <td>5</td>\n",
       "      <td>14</td>\n",
       "      <td>2</td>\n",
       "    </tr>\n",
       "    <tr>\n",
       "      <th>4</th>\n",
       "      <td>1</td>\n",
       "      <td>27</td>\n",
       "      <td>27</td>\n",
       "    </tr>\n",
       "    <tr>\n",
       "      <th>5</th>\n",
       "      <td>1</td>\n",
       "      <td>6</td>\n",
       "      <td>6</td>\n",
       "    </tr>\n",
       "    <tr>\n",
       "      <th>6</th>\n",
       "      <td>1</td>\n",
       "      <td>8</td>\n",
       "      <td>8</td>\n",
       "    </tr>\n",
       "    <tr>\n",
       "      <th>7</th>\n",
       "      <td>6</td>\n",
       "      <td>26</td>\n",
       "      <td>1</td>\n",
       "    </tr>\n",
       "    <tr>\n",
       "      <th>8</th>\n",
       "      <td>1</td>\n",
       "      <td>7</td>\n",
       "      <td>7</td>\n",
       "    </tr>\n",
       "    <tr>\n",
       "      <th>9</th>\n",
       "      <td>1</td>\n",
       "      <td>33</td>\n",
       "      <td>33</td>\n",
       "    </tr>\n",
       "  </tbody>\n",
       "</table>\n",
       "</div>"
      ],
      "text/plain": [
       "       count  max  min\n",
       "index                 \n",
       "0          1   15   15\n",
       "1          1   31   31\n",
       "2          1   11   11\n",
       "3          5   14    2\n",
       "4          1   27   27\n",
       "5          1    6    6\n",
       "6          1    8    8\n",
       "7          6   26    1\n",
       "8          1    7    7\n",
       "9          1   33   33"
      ]
     },
     "execution_count": 4,
     "metadata": {},
     "output_type": "execute_result"
    }
   ],
   "source": [
    "# Create a list of all unique worker IDs \n",
    "workers = pd.DataFrame(list(set(df.worker_id)), columns=['worker_id']).reset_index().set_index('worker_id')\n",
    "I = len(workers)\n",
    "\n",
    "minDate = min(df['hit_answered_date'])\n",
    "# maxDate = max(df['hit_answered_date'])\n",
    "\n",
    "# Calculate the time period of each survey answer. \n",
    "# Below we take out time period to be 30-day periods. \n",
    "# We can change this to be weeks, months, or anything else\n",
    "window_length = 30\n",
    "df['period'] = (df['date'] - minDate).dt.days // window_length + 1\n",
    "K = df['period'].max()\n",
    "\n",
    "data = df.pivot_table(\n",
    "    index = 'worker_id',\n",
    "    values = 'period',                    \n",
    "    aggfunc=('count','min','max')\n",
    ").join(workers).set_index('index').sort_index()\n",
    "data.head(10)"
   ]
  },
  {
   "cell_type": "code",
   "execution_count": 5,
   "metadata": {},
   "outputs": [
    {
     "name": "stdout",
     "output_type": "stream",
     "text": [
      "K (periods): 35\n",
      "I (workers): 46145\n"
     ]
    }
   ],
   "source": [
    "print(\"K (periods):\", K)\n",
    "print(\"I (workers):\", I)"
   ]
  },
  {
   "cell_type": "code",
   "execution_count": 6,
   "metadata": {},
   "outputs": [
    {
     "data": {
      "text/plain": [
       "<tf.Tensor 'first_time_seen:0' shape=(46145,) dtype=float64>"
      ]
     },
     "execution_count": 6,
     "metadata": {},
     "output_type": "execute_result"
    }
   ],
   "source": [
    "# A vector with I dimensions, describing the first time we saw each of the I observed workers\n",
    "f = tf.placeholder(tf.float64, shape=[I], name=\"first_time_seen\")  \n",
    "# f = tf.constant(data['min'], name=\"first_time_seen\")\n",
    "f"
   ]
  },
  {
   "cell_type": "code",
   "execution_count": 7,
   "metadata": {},
   "outputs": [
    {
     "data": {
      "text/plain": [
       "<tf.Tensor 'last_time_seen:0' shape=(46145,) dtype=float64>"
      ]
     },
     "execution_count": 7,
     "metadata": {},
     "output_type": "execute_result"
    }
   ],
   "source": [
    "# A vector with I dimensions, describing the last time we saw each of the I observed workers\n",
    "l = tf.placeholder(tf.float64, shape=[I], name=\"last_time_seen\")  \n",
    "# l = tf.constant(data['max'], name=\"last_time_seen\")\n",
    "l"
   ]
  },
  {
   "cell_type": "code",
   "execution_count": 8,
   "metadata": {},
   "outputs": [
    {
     "data": {
      "text/plain": [
       "<tf.Tensor 'count:0' shape=(46145,) dtype=float64>"
      ]
     },
     "execution_count": 8,
     "metadata": {},
     "output_type": "execute_result"
    }
   ],
   "source": [
    "# A vector with I dimensions, describing the number of time we saw each of the I observed workers\n",
    "u = tf.placeholder(tf.float64, shape=[I], name=\"count\") \n",
    "# u = tf.constant(data['count'], name=\"count\", dtype=tf.float64)\n",
    "u"
   ]
  },
  {
   "cell_type": "code",
   "execution_count": 9,
   "metadata": {},
   "outputs": [
    {
     "data": {
      "text/plain": [
       "<tensorflow.python.ops.init_ops.Constant at 0x7f7549902668>"
      ]
     },
     "execution_count": 9,
     "metadata": {},
     "output_type": "execute_result"
    }
   ],
   "source": [
    "tf.constant_initializer(tf.ones(K, tf.float64)/2.0)"
   ]
  },
  {
   "cell_type": "code",
   "execution_count": 10,
   "metadata": {},
   "outputs": [],
   "source": [
    "# Propensity distribution parametes (propensity ~ Beta(a,b))\n",
    "a = tf.get_variable(\"alpha\", [1], dtype=tf.float64, initializer=tf.constant_initializer(0.3) )\n",
    "b = tf.get_variable(\"beta\",  [1], dtype=tf.float64, initializer=tf.constant_initializer(20) )\n",
    "\n",
    "# Arrival and departure rates\n",
    "# We may want to initialize these values to the vanilla estimates of population (actually the diff)\n",
    "# from the Lincoln estimator\n",
    "lmd = tf.get_variable(\"arrivals\", [K], dtype=tf.float64 )\n",
    "mu = tf.get_variable(\"departures\",  [K], dtype=tf.float64)"
   ]
  },
  {
   "cell_type": "markdown",
   "metadata": {},
   "source": [
    "### $L_i = \\left(\\frac{\\alpha}{\\beta}\\right)^{u_i} \\sum_{s=1}^{f_i} \\sum_{q=l_i}^K \\lambda_s \\cdot  \\left( \\prod_{v=s}^{q-1} \\left(1 - \\mu_v\\right) \\right) \\cdot \\mu_q \\cdot  \\left( \\frac{\\beta}{\\alpha+\\beta} \\right)^{q-s} $\n",
    "\n",
    "and for the never observed workers:\n",
    "\n",
    "### $L_0 = \\sum_{s=1}^{K} \\sum_{q=s}^K \\lambda_s \\cdot \\left( \\prod_{v=s}^{q-1} \\left( 1 - \\mu_v \\right) \\right) \\cdot \\mu_q \\cdot  \\left( \\frac{\\beta}{\\alpha+\\beta} \\right)^{q-s} $\n"
   ]
  },
  {
   "cell_type": "code",
   "execution_count": 11,
   "metadata": {},
   "outputs": [
    {
     "data": {
      "text/plain": [
       "<tf.Tensor 'Pow:0' shape=(46145,) dtype=float64>"
      ]
     },
     "execution_count": 11,
     "metadata": {},
     "output_type": "execute_result"
    }
   ],
   "source": [
    "# This is the (a/b)^u_i\n",
    "tf.pow(tf.div(a,b), u) "
   ]
  },
  {
   "cell_type": "code",
   "execution_count": 12,
   "metadata": {},
   "outputs": [],
   "source": [
    "# To allow for the sums of variable length s .. f_i and l_i...K, we will use binary masks\n",
    "# This allows the products to be defined over a constant set of dimensions (ie. 1..K instead of 1..fi)"
   ]
  },
  {
   "cell_type": "code",
   "execution_count": 13,
   "metadata": {},
   "outputs": [
    {
     "data": {
      "text/plain": [
       "<tf.Tensor 'Mul:0' shape=(46145, 35) dtype=float64>"
      ]
     },
     "execution_count": 13,
     "metadata": {},
     "output_type": "execute_result"
    }
   ],
   "source": [
    "# Create masks using the values from f so that for each worker we add the lamda_s until the first appearance\n",
    "s_mask = tf.sequence_mask(f+1, K)\n",
    "s_mask = tf.cast(s_mask, tf.float64)\n",
    "\n",
    "lmd_s = tf.reshape(tf.tile(lmd, [I]), [I,K]) # broadcast lmd to be I x K matrix (replicate I times)\n",
    "lmd_s = tf.multiply(lmd_s, s_mask) # the mask eliminates the lambda_s that we do not care about\n",
    "lmd_s"
   ]
  },
  {
   "cell_type": "code",
   "execution_count": 14,
   "metadata": {},
   "outputs": [
    {
     "data": {
      "text/plain": [
       "<tf.Tensor 'Mul_1:0' shape=(46145, 35) dtype=float64>"
      ]
     },
     "execution_count": 14,
     "metadata": {},
     "output_type": "execute_result"
    }
   ],
   "source": [
    "# Create masks using the values from l so that for each worker we add the mu_q from the first appearance until the end\n",
    "q_mask = ~tf.sequence_mask(l-1, K)\n",
    "q_mask = tf.cast(q_mask, tf.float64)\n",
    "\n",
    "mu_q = tf.reshape(tf.tile(mu, [I]), [I,K]) # broadcast mu to be I x K matrix (replicate I times)\n",
    "mu_q = tf.multiply( mu_q  , q_mask ) \n",
    "mu_q"
   ]
  },
  {
   "cell_type": "code",
   "execution_count": 15,
   "metadata": {},
   "outputs": [
    {
     "data": {
      "text/plain": [
       "<tf.Tensor 'Prod:0' shape=(35, 35) dtype=float64>"
      ]
     },
     "execution_count": 15,
     "metadata": {},
     "output_type": "execute_result"
    }
   ],
   "source": [
    "# And create a mask to calculate the product of 1-mu_v\n",
    "v = np.zeros([K,K,K])\n",
    "for s in np.arange(K):\n",
    "    for q in np.arange(s,K):\n",
    "        c1 = np.zeros(s)  \n",
    "        c2 = np.ones(q-s)\n",
    "        c3 = np.zeros(K-q) \n",
    "        v[s,q]= np.concatenate((c1, c2, c3))\n",
    "v_mask = tf.constant(v)\n",
    "\n",
    "mu_v = tf.pow(mu, v_mask)\n",
    "mu_v = tf.reduce_prod(mu_v, axis=2)\n",
    "mu_v"
   ]
  },
  {
   "cell_type": "code",
   "execution_count": 18,
   "metadata": {},
   "outputs": [
    {
     "data": {
      "text/plain": [
       "<tf.Tensor 'Pow_2:0' shape=(35, 35) dtype=float64>"
      ]
     },
     "execution_count": 18,
     "metadata": {},
     "output_type": "execute_result"
    }
   ],
   "source": [
    "# We are creating a matrix with the q-s exponents in order\n",
    "# to raise b/a+b to q-s. Our operation will results in an K x K matrix\n",
    "# for all possible s,q values\n",
    "import numpy as np\n",
    "qs = np.zeros([K,K])\n",
    "for s in range(K):\n",
    "    for q in range(s,K):\n",
    "        qs[s,q] = q-s\n",
    "p_qs = tf.pow(tf.div(b, a+b), tf.constant(qs))\n",
    "p_qs"
   ]
  },
  {
   "cell_type": "code",
   "execution_count": 19,
   "metadata": {
    "scrolled": true
   },
   "outputs": [
    {
     "data": {
      "text/plain": [
       "<tf.Tensor 'mul:0' shape=(46145,) dtype=float64>"
      ]
     },
     "execution_count": 19,
     "metadata": {},
     "output_type": "execute_result"
    }
   ],
   "source": [
    "Li = tf.pow(tf.div(a,b), u) * tf.reduce_sum(tf.einsum('is,iq,sq,sq->isq', lmd_s, mu_q, mu_v, p_qs), axis=[1,2])\n",
    "Li"
   ]
  },
  {
   "cell_type": "code",
   "execution_count": 20,
   "metadata": {},
   "outputs": [
    {
     "data": {
      "text/plain": [
       "<tf.Tensor 'Sum_1:0' shape=() dtype=float64>"
      ]
     },
     "execution_count": 20,
     "metadata": {},
     "output_type": "execute_result"
    }
   ],
   "source": [
    "objective = tf.reduce_sum(-tf.log(Li))\n",
    "objective"
   ]
  },
  {
   "cell_type": "code",
   "execution_count": 21,
   "metadata": {
    "scrolled": true
   },
   "outputs": [
    {
     "data": {
      "text/plain": [
       "<tf.Operation 'Adam' type=NoOp>"
      ]
     },
     "execution_count": 21,
     "metadata": {},
     "output_type": "execute_result"
    }
   ],
   "source": [
    "tf.train.AdamOptimizer(1e-4).minimize(objective)"
   ]
  },
  {
   "cell_type": "code",
   "execution_count": null,
   "metadata": {},
   "outputs": [],
   "source": []
  }
 ],
 "metadata": {
  "kernelspec": {
   "display_name": "Python 3",
   "language": "python",
   "name": "python3"
  },
  "language_info": {
   "codemirror_mode": {
    "name": "ipython",
    "version": 3
   },
   "file_extension": ".py",
   "mimetype": "text/x-python",
   "name": "python",
   "nbconvert_exporter": "python",
   "pygments_lexer": "ipython3",
   "version": "3.5.2"
  }
 },
 "nbformat": 4,
 "nbformat_minor": 2
}
