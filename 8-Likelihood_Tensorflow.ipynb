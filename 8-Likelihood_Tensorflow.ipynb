{
 "cells": [
  {
   "cell_type": "code",
   "execution_count": null,
   "metadata": {
    "collapsed": true
   },
   "outputs": [],
   "source": [
    "import tensorflow"
   ]
  },
  {
   "cell_type": "markdown",
   "metadata": {
    "collapsed": true
   },
   "source": [
    "We use the setup from Predjer et al 2010.\n",
    "\n",
    "* $N$ workers in the platform through the period of the study, with different levels of arrival and departure\n",
    "* We have $K$ time periods \n",
    "* We assume memoryless arrivals and departures, with $\\lambda_k$ the arrivals at time $k$ and $\\mu_k$ the departures at time $k$.\n",
    "* Worker $i$ arrives (birth) at time $b_i$ and departs at time $d_i$ (both unobserved)\n",
    "* Each worker has a capture history $C_i = [0 \\ldots 0 1 \\ldots 0 1 0 \\ldots 0 0 0]$, where $H$ is a vector with $K$ binary values, and with $c_{ik}=1$ indicating that the worker $i$  appeared in the survey during the the $k$-th time period. \n",
    "* We use $u_i$ to denote the number of times that we captured the worker. \n",
    "* We use $f_i$ to denote the first time period that we see worker $i$, \n",
    "* We use $l_i$ to denote the last time period that we see worker $i$.\n",
    "* We use $a_i$ for the propensity of worker $i$ to participate in the task. We assume that $a_i$ is distributed according to a Beta distribution $P(a_i) \\propto B(\\alpha, \\beta)$.\n",
    "\n",
    "The likelihood function for a worker that participated at least once is:\n",
    "\n",
    "### $L_i = \\sum_{s=1}^{f_i} \\lambda_s \\cdot \\left[ \\sum_{q=l_i}^K \\left( \\prod_{v=f_i}^{q-1} 1 - \\mu_v \\right) \\cdot \\mu_q \\cdot R_i \\right] $\n",
    "\n",
    "where we use $s$ sum index to estimate the (unobserved) arrival time, and $q$ the unobserved departure time. (So the part above tries to estimate the likelihood of arrival and departure times.) Given the $s$ and $q$, we then define\n",
    "\n",
    "### $R_i = \\int_0^1 \\left( \\prod_{k=s}^{q} a_i^{c_{ik}} \\cdot (1-a_i)^{1-c_{ik}} \\right) dP(a_i) $\n",
    "\n",
    "with the $R_i$ capturing the likelihood of observing the capture history of the worker with a propensity $a_i$, integrated over all possible propensity values.\n",
    "\n",
    "By expanding $P(a_i) \\propto B(\\alpha, \\beta)$, and using the same process as when deriving the Beta-Binomial distribution, we can simplify the above expression as: \n",
    "\n",
    "### $R_i = \\prod_{k=s}^{q} \\frac{B(c_{ik} + \\alpha, 1-c_{ik} + \\beta)}{B(\\alpha, \\beta)}$.\n",
    "\n",
    "So, if the worker $i$ has been captured $u_i$ times, between their arrival at time $s$ and their departure at $q$, we have:\n",
    "\n",
    "### $R_i = B(1 + \\alpha, \\beta)^{u_i} \\cdot B(\\alpha, 1 + \\beta)^{q-s-u_i} \\cdot B(\\alpha, \\beta)^{-(q-s)}$\n",
    "\n",
    "and by using the properties of the Beta function $B(x+1,y) = B(x, y) \\cdot \\dfrac{x}{x+y}$ and $B(x,y+1) = B(x, y) \\cdot \\dfrac{y}{x+y}$, we simplify further:\n",
    "\n",
    "### $R_i = \\alpha^{u_i} \\cdot \\beta^{q-s-u_i} / (\\alpha+\\beta)^{q-s}$\n",
    "\n",
    "### $R_i = \\left(\\frac{\\alpha}{\\beta}\\right)^{u_i} \\cdot \\left( \\frac{\\beta}{\\alpha+\\beta} \\right)^{q-s}$\n",
    "\n",
    "So, the overall likelihood function for a worker with $u_i$ captures between times $f_i$ and $l_i$ becomes:\n",
    "\n",
    "### $L_i = \\left(\\frac{\\alpha}{\\beta}\\right)^{u_i} \\sum_{s=1}^{f_i} \\lambda_s \\cdot \\left[ \\sum_{q=l_i}^K \\left( \\prod_{v=f_i}^{q-1} 1 - \\mu_v \\right) \\cdot \\mu_q \\cdot  \\left( \\frac{\\beta}{\\alpha+\\beta} \\right)^{q-s} \\right] $\n",
    "\n",
    "and for the never observed workers:\n",
    "\n",
    "### $L_0 = \\sum_{s=1}^{K} \\lambda_s \\cdot \\left[ \\sum_{q=s}^K \\left( \\prod_{v=s}^{q-1} 1 - \\mu_v \\right) \\cdot \\mu_q \\cdot  \\left( \\frac{\\beta}{\\alpha+\\beta} \\right)^{q-s} \\right] $\n"
   ]
  },
  {
   "cell_type": "code",
   "execution_count": null,
   "metadata": {
    "collapsed": true
   },
   "outputs": [],
   "source": [
    "# F, I-dimensional vector with first appearances of each worker (1..K)\n",
    "# L, I-dimensional vector with first appearances of each worker (1..K)\n",
    "# U, I-dimensional vector with the number of appearances of each worker (1..K)\n",
    "# L, K-dimensional vector with the arrival rates for each time period 1..K\n",
    "# M, K-dimensional vector with the departure rates for each time period 1..K\n"
   ]
  },
  {
   "cell_type": "code",
   "execution_count": null,
   "metadata": {
    "collapsed": true
   },
   "outputs": [],
   "source": []
  }
 ],
 "metadata": {
  "kernelspec": {
   "display_name": "Python 3",
   "language": "python",
   "name": "python3"
  },
  "language_info": {
   "codemirror_mode": {
    "name": "ipython",
    "version": 3
   },
   "file_extension": ".py",
   "mimetype": "text/x-python",
   "name": "python",
   "nbconvert_exporter": "python",
   "pygments_lexer": "ipython3",
   "version": "3.5.2"
  }
 },
 "nbformat": 4,
 "nbformat_minor": 2
}
