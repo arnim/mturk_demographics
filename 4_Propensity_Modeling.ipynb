{
 "cells": [
  {
   "cell_type": "markdown",
   "metadata": {},
   "source": [
    "### Propensity Parameter:  Generally-active vs available-and-participating population\n",
    "\n",
    "We now add one parameter in our model, to capture the fact that propensity to participate in the survey may vary among workers. This propensity value captures both the inherent preference to participate in a survey, versus working on some other task, but also the general activity on the platform. For example, consider two workers that are equally likely to work on a survey; however, one of them works on the platform only one hour per week, while the other works for ten hours. Everything else being equal, the latter is ten times more likely to show up in our results.\n",
    "\n",
    "For our model, we endow each user with a propensity parameter $a$, which defines the probability that a user will be **active and willing to participate in the survey** at any given time. The propensity parameter is a random variable with a pdf $p(a)$. Past literature suggests that the pdf $p(a)$ is a heavy tailed distribution, with many people participating only occasionally, and a small number of users are active substantially more. However, in our approach we do not make any strong assumptions about the specifics of the distribution.\n",
    "\n",
    "#### Capture stage\n",
    "\n",
    "If we have a population of $N$ users (not all of them active at the same time), each of them with a propensity $a_i$, then each user will be chosen by a probability proportional to $a_i$. \n",
    "\n",
    "$P( \\mathit{capture} | a_i) = \\frac{a_i}{\\sum_j^N a_j} = \\frac{a_i}{N \\cdot E[a]}$.\n",
    "\n",
    "So, the probability that we see worker $i$ in a sample of $n_1$ workers is the inverse of the probability of not-sampling the worker for $n_1$ samples:\n",
    "\n",
    "$P( \\mathit{sample} | a_i) = 1 - (1 - \\frac{a_i}{\\sum_j^N a_j})^{n_1} \\approx \\frac{n_1}{N} \\cdot \\frac{a_i}{E[a]} $\n",
    "\n",
    "Given $a_i$, the probability of capturing the user in a second sample with $n_2$ workers is _conditionally_ independent, and therefore, the probability that a user will be captured in both the first and the second sample is:\n",
    "\n",
    "$P( \\mathit{capture},  \\mathit{recapture} | a_i) = \\frac{n_1}{N} \\cdot \\frac{a_i}{E[a]} \\cdot \\frac{n_2}{N} \\cdot \\frac{a_i}{E[a]} = \\frac{n_1 \\cdot n_2}{N^2 \\cdot \\left( E[a] \\right)^2} \\dot a_i^2 $\n",
    "\n",
    "So, now we can form the expectation on the size of the intersection by integrating over all the possible workers:\n",
    "\n",
    "$\\sum_j^N P( \\mathit{capture},  \\mathit{recapture} | a_j) = \n",
    "N \\cdot \\int_0^1 P( \\mathit{capture},  \\mathit{recapture} | a)\\cdot p(a) \\, da =  \n",
    "N \\cdot \\frac{n_1 \\cdot n_2}{N^2 \\cdot \\left( E[a] \\right)^2} \\int_0^1 a^2 \\cdot p(a) \\, da = \n",
    "N \\cdot \\frac{n_1}{N} \\cdot \\frac{n_2}{N} \\cdot \\frac{E[a^2]}{E[a]^2}  = \n",
    "N \\cdot \\frac{n_1}{N} \\cdot \\frac{n_2}{N} \\cdot \\frac{Var(a) + E[a]^2}{E[a]^2} =  \n",
    "N \\cdot \\frac{n_1}{N} \\cdot \\frac{n_2}{N} \\cdot \\left( 1 + \\frac{Var(a)}{E[a]^2} \\right) $\n",
    "\n",
    "Notice that the vanilla capture-recapture considers the size of the intersection to be equal to $\\frac{n_1}{N} \\cdot \\frac{n_2}{N}$. Notice that the factor $1 + \\frac{Var(a)}{E[a]^2}$ becomes 1 when the variance $Var(a)$ of the propensity variable $a$ becomes zero. Therefore, when the propensity to be \"captured\" is the same across the population, or even when the variance is small compared to the mean propensity, the naive estimate is valid. However, when the ratio of standard deviation to the mean becomes big, then we start seeing systematic deviations. \n",
    "\n",
    "Intuition: When someone is sampled under our scheme, probabilistically that user is likely to have higher propensity to participate. Therefore, in the recapture period, we are more likely to sample the same people again. This leads to capture-recapture estimates for the population size $N$ that are systematically biased downwards."
   ]
  },
  {
   "cell_type": "markdown",
   "metadata": {},
   "source": [
    "* Example with propensity $a=0.5$ for everyone.\n",
    "* Example with propensity uniform in the [0,1] interval. Average propensity is again $a=0.5$.\n",
    "* Example with propensity following a Beta(a,b) with $a=b$ (i.e., $E[a]=0.5$), and $a \\rightarrow 0$. Variance goes to $1/4$, and the naive estimate of the population is off by a factor of 2.\n",
    "* Show example with heavy tailed distribution (e.g., $b=1$, $a=0.01$), showing that this can distort estimates significantly."
   ]
  },
  {
   "cell_type": "markdown",
   "metadata": {},
   "source": [
    "Generalizing the above, the factor $E[a^k] / E[a]^k$ factor that differentes the expected size of the intersection between $k$ sets when propensity is a random varialbe, and the naive estimate, which assumes that propensity is the same (or almost the same) across all members of the population."
   ]
  },
  {
   "cell_type": "code",
   "execution_count": null,
   "metadata": {
    "collapsed": true
   },
   "outputs": [],
   "source": []
  },
  {
   "cell_type": "code",
   "execution_count": 1,
   "metadata": {
    "collapsed": true
   },
   "outputs": [],
   "source": [
    "# Create the overall population: Sample N users and give to each an activity/propensity value a\n",
    "\n",
    "# Compute the average number of people that we expect to be active during that time. \n",
    "# That is the mean value of the distribution\n",
    "\n",
    "# ===================\n",
    "\n",
    "# Capture period\n",
    "\n",
    "# Draw user from the population\n",
    "\n",
    "# If user is active (random<a) proceed, else go to step 2\n",
    "\n",
    "# Sample the user with probability 1/active users, and add id in the list\n",
    "\n",
    "# Re-Capture period\n",
    "\n",
    "# Repeat as above and compute estimate of population using the Lincoln estimator\n",
    "\n"
   ]
  },
  {
   "cell_type": "code",
   "execution_count": 48,
   "metadata": {},
   "outputs": [
    {
     "name": "stdout",
     "output_type": "stream",
     "text": [
      "Mean: 0.07407407407407407\n",
      "Var: 0.03297457001160705\n",
      "Skew: 3.0461675016268583\n",
      "X1: 0.07407407407407407\n",
      "X2: 0.0384615384615\n",
      "X3: 0.025974025974\n",
      "Common: 0.0384615384615\n",
      "Factor: 7.00961538462\n",
      "Factor2: 9.11688311688\n"
     ]
    }
   ],
   "source": [
    "# To instantiate using various probability functions take a look at \n",
    "# https://docs.scipy.org/doc/scipy/reference/stats.html\n",
    "import numpy as np\n",
    "from scipy.stats import beta\n",
    "\n",
    "N = 100000\n",
    "a = 0.08\n",
    "b = 1\n",
    "rvs = beta.rvs(a, b, loc= 0.02941, scale= 2.44, size=N)\n",
    "\n",
    "# This transformation can help us transform any continuous RV \n",
    "# into a value ranging from 0 to 1\n",
    "# p = [math.exp(rv)/(1+math.exp(rv)) for rv in rvs]\n",
    "# The scipy.stats.rv_histogram should help us then transform the empirical\n",
    "# values into an empirical distribution\n",
    "\n",
    "mean, var, skew = beta.stats(a, b,  moments='mvs')\n",
    "# For powerlaw on a bounded interval 0..1, it is a special case of Beta with b=1\n",
    "\n",
    "print(\"Mean:\", mean)\n",
    "print(\"Var:\", var)\n",
    "print(\"Skew:\", skew)\n",
    "print(\"X1:\", mean)\n",
    "print(\"X2:\", var+mean*mean)\n",
    "print(\"X3:\", skew*var*np.sqrt(var) + 3*mean*var + mean*mean*mean )\n",
    "print(\"Common:\", var+mean*mean)\n",
    "\n",
    "factor = (var+mean*mean) / (mean*mean)\n",
    "factor2 = (skew*var*np.sqrt(var) + 3*mean*var + mean*mean*mean) / ((var+mean*mean)*mean)\n",
    "print(\"Factor:\", factor )\n",
    "print(\"Factor2:\", factor2 )"
   ]
  },
  {
   "cell_type": "code",
   "execution_count": 49,
   "metadata": {},
   "outputs": [
    {
     "data": {
      "text/plain": [
       "21139.24579759804"
      ]
     },
     "execution_count": 49,
     "metadata": {},
     "output_type": "execute_result"
    }
   ],
   "source": [
    "sum(rvs)"
   ]
  },
  {
   "cell_type": "code",
   "execution_count": 50,
   "metadata": {},
   "outputs": [
    {
     "data": {
      "image/png": "[encoded data removed]",
      "text/plain": [
       "<matplotlib.figure.Figure at 0x7fa4db3be160>"
      ]
     },
     "metadata": {},
     "output_type": "display_data"
    }
   ],
   "source": [
    "%matplotlib inline\n",
    "import matplotlib.pyplot as plt\n",
    "fig, ax = plt.subplots(1, 1)\n",
    "ax.hist(rvs, normed=True, histtype='stepfilled', alpha=0.2, bins=100)\n",
    "ax.set_yscale(\"log\")"
   ]
  },
  {
   "cell_type": "code",
   "execution_count": 51,
   "metadata": {
    "collapsed": true
   },
   "outputs": [],
   "source": [
    "import numpy as np\n",
    "# Given an instantiated list of propensity values \n",
    "# the mean of the distribution, and a sample target n, return the ids of the sampled entities\n",
    "def sample(rvs, n):\n",
    "    return sorted(np.random.choice(len(rvs), size = n, replace=True, p=rvs/sum(rvs)))\n"
   ]
  },
  {
   "cell_type": "code",
   "execution_count": 52,
   "metadata": {},
   "outputs": [
    {
     "name": "stdout",
     "output_type": "stream",
     "text": [
      "Naive Median: 19708.800039246467\n",
      "Naive Mean: 19732.589146271228\n",
      "Adj Median: 138151.107967\n",
      "Adj Mean: 138317.860458\n"
     ]
    }
   ],
   "source": [
    "import statistics\n",
    "from collections import Counter\n",
    "\n",
    "\n",
    "tries = 1000\n",
    "adj_estimates = []\n",
    "naive_estimates = []\n",
    "for _ in range(tries):\n",
    "    n = 3000\n",
    "      \n",
    "    \n",
    "    id1 = set(sample(rvs, n))\n",
    "    id2 = set(sample(rvs, n))\n",
    "    common = list(id1 & id2)\n",
    "    \n",
    "    #id3 = set(sample(rvs, n))\n",
    "    #triad = list(id1 & id2 & id3)\n",
    "    \n",
    "     \n",
    "    naive_estimate = len(id1) * len(id2) / len(common)\n",
    "    #naive_estimate = len(common) * len(id3) / len(triad)\n",
    "    naive_estimates.append(naive_estimate)\n",
    "    \n",
    "    adj_estimate = naive_estimate * factor\n",
    "    #adj_estimate = naive_estimate * factor2\n",
    "    adj_estimates.append(adj_estimate)                       \n",
    "    \n",
    "print(\"Naive Median:\", statistics.median(naive_estimates))\n",
    "print(\"Naive Mean:\", statistics.mean(naive_estimates))\n",
    "                                 \n",
    "print(\"Adj Median:\", statistics.median(adj_estimates))\n",
    "print(\"Adj Mean:\", statistics.mean(adj_estimates))"
   ]
  },
  {
   "cell_type": "code",
   "execution_count": 53,
   "metadata": {},
   "outputs": [
    {
     "data": {
      "text/plain": [
       "(array([  8.33870519e-06,   0.00000000e+00,   0.00000000e+00,\n",
       "          1.66774104e-05,   8.33870519e-06,   8.33870519e-06,\n",
       "          1.66774104e-05,   4.16935260e-05,   5.00322311e-05,\n",
       "          6.67096415e-05,   1.33419283e-04,   1.33419283e-04,\n",
       "          1.41757988e-04,   1.41757988e-04,   2.41822451e-04,\n",
       "          2.58499861e-04,   3.91919144e-04,   2.83515976e-04,\n",
       "          3.83580439e-04,   3.50225618e-04,   4.41951375e-04,\n",
       "          4.75306196e-04,   4.25273965e-04,   5.42015837e-04,\n",
       "          4.91983606e-04,   3.66903028e-04,   4.16935260e-04,\n",
       "          3.25209502e-04,   3.33548208e-04,   3.08532092e-04,\n",
       "          2.75177271e-04,   2.50161156e-04,   1.66774104e-04,\n",
       "          1.83451514e-04,   1.33419283e-04,   9.17257571e-05,\n",
       "          1.16741873e-04,   5.83709363e-05,   5.83709363e-05,\n",
       "          5.00322311e-05,   5.83709363e-05,   4.16935260e-05,\n",
       "          1.66774104e-05,   1.66774104e-05,   0.00000000e+00,\n",
       "          8.33870519e-06,   0.00000000e+00,   0.00000000e+00,\n",
       "          0.00000000e+00,   8.33870519e-06]),\n",
       " array([ 16924.34285714,  17044.26555224,  17164.18824733,  17284.11094243,\n",
       "         17404.03363753,  17523.95633262,  17643.87902772,  17763.80172281,\n",
       "         17883.72441791,  18003.64711301,  18123.5698081 ,  18243.4925032 ,\n",
       "         18363.41519829,  18483.33789339,  18603.26058849,  18723.18328358,\n",
       "         18843.10597868,  18963.02867377,  19082.95136887,  19202.87406397,\n",
       "         19322.79675906,  19442.71945416,  19562.64214925,  19682.56484435,\n",
       "         19802.48753945,  19922.41023454,  20042.33292964,  20162.25562473,\n",
       "         20282.17831983,  20402.10101493,  20522.02371002,  20641.94640512,\n",
       "         20761.86910021,  20881.79179531,  21001.71449041,  21121.6371855 ,\n",
       "         21241.5598806 ,  21361.48257569,  21481.40527079,  21601.32796588,\n",
       "         21721.25066098,  21841.17335608,  21961.09605117,  22081.01874627,\n",
       "         22200.94144136,  22320.86413646,  22440.78683156,  22560.70952665,\n",
       "         22680.63222175,  22800.55491684,  22920.47761194]),\n",
       " <a list of 1 Patch objects>)"
      ]
     },
     "execution_count": 53,
     "metadata": {},
     "output_type": "execute_result"
    },
    {
     "data": {
      "image/png": "[encoded data removed]",
      "text/plain": [
       "<matplotlib.figure.Figure at 0x7fa4e013f898>"
      ]
     },
     "metadata": {},
     "output_type": "display_data"
    }
   ],
   "source": [
    "fig, ax = plt.subplots(1, 1)\n",
    "ax.hist(adj_estimates, normed=True, histtype='stepfilled', alpha=0.2, bins=50)\n",
    "ax.hist(naive_estimates, normed=True, histtype='stepfilled', alpha=0.2, bins=50)"
   ]
  },
  {
   "cell_type": "code",
   "execution_count": 54,
   "metadata": {},
   "outputs": [
    {
     "data": {
      "text/plain": [
       "Counter({1: 13831,\n",
       "         2: 4284,\n",
       "         3: 2714,\n",
       "         4: 2061,\n",
       "         5: 1565,\n",
       "         6: 1204,\n",
       "         7: 942,\n",
       "         8: 646,\n",
       "         9: 418,\n",
       "         10: 269,\n",
       "         11: 127,\n",
       "         12: 70,\n",
       "         13: 29,\n",
       "         14: 7,\n",
       "         15: 4,\n",
       "         16: 4})"
      ]
     },
     "execution_count": 54,
     "metadata": {},
     "output_type": "execute_result"
    }
   ],
   "source": [
    "from collections import Counter\n",
    "sampled_ids = []\n",
    "samples = 27\n",
    "n = 3000\n",
    "for _ in range(samples):\n",
    "    s = set(sample(rvs, n))\n",
    "    sampled_ids.extend(s)\n",
    "z = Counter(Counter(sampled_ids).values())\n",
    "z"
   ]
  },
  {
   "cell_type": "code",
   "execution_count": null,
   "metadata": {
    "collapsed": true
   },
   "outputs": [],
   "source": []
  }
 ],
 "metadata": {
  "kernelspec": {
   "display_name": "Python 3",
   "language": "python",
   "name": "python3"
  },
  "language_info": {
   "codemirror_mode": {
    "name": "ipython",
    "version": 3
   },
   "file_extension": ".py",
   "mimetype": "text/x-python",
   "name": "python",
   "nbconvert_exporter": "python",
   "pygments_lexer": "ipython3",
   "version": "3.5.2"
  }
 },
 "nbformat": 4,
 "nbformat_minor": 2
}
