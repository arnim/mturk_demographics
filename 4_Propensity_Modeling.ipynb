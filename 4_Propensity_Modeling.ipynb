{
 "cells": [
  {
   "cell_type": "markdown",
   "metadata": {},
   "source": [
    "### Propensity Parameter:  Generally-active vs available-and-participating population\n",
    "\n",
    "We now add one parameter in our model, to capture the fact that propensity to participate in the survey may vary among workers. This propensity value captures both the inherent preference to participate in a survey, versus working on some other task, but also the general activity on the platform. For example, consider two workers that are equally likely to work on a survey; however, one of them works on the platform only one hour per week, while the other works for ten hours. Everything else being equal, the latter is ten times more likely to show up in our results.\n",
    "\n",
    "For our model, we endow each user with a propensity parameter $a$, which defines the probability that a user will be **active and willing to participate in the survey** at any given time. The propensity parameter is a random variable with a pdf $p(a)$. Past literature suggests that the pdf $p(a)$ is a heavy tailed distribution, with many people participating only occasionally, and a small number of users are active substantially more. However, in our approach we do not make any strong assumptions about the specifics of the distribution.\n",
    "\n",
    "#### Capture stage\n",
    "\n",
    "If we have a population of $N$ users (not all of them active at the same time), each of them with a propensity $a_i$, then each user will be chosen by a probability proportional to $a_i$. \n",
    "\n",
    "$P( \\mathit{capture} | a_i) = \\frac{a_i}{\\sum_j^N a_j} = \\frac{a_i}{N \\cdot E[a]}$.\n",
    "\n",
    "So, the probability that we see worker $i$ in a sample of $n_1$ workers is the inverse of the probability of not-sampling the worker for $n_1$ samples:\n",
    "\n",
    "$P( \\mathit{sample} | a_i) = 1 - (1 - \\frac{a_i}{\\sum_j^N a_j})^{n_1} \\approx \\frac{n_1}{N} \\cdot \\frac{a_i}{E[a]} $\n",
    "\n",
    "Given $a_i$, the probability of capturing the user in a second sample with $n_2$ workers is _conditionally_ independent, and therefore, the probability that a user will be captured in both the first and the second sample is:\n",
    "\n",
    "$P( \\mathit{capture},  \\mathit{recapture} | a_i) = \\frac{n_1}{N} \\cdot \\frac{a_i}{E[a]} \\cdot \\frac{n_2}{N} \\cdot \\frac{a_i}{E[a]} = \\frac{n_1 \\cdot n_2}{N^2 \\cdot \\left( E[a] \\right)^2} \\dot a_i^2 $\n",
    "\n",
    "So, now we can form the expectation on the size of the intersection by integrating over all the possible workers:\n",
    "\n",
    "$\\sum_j^N P( \\mathit{capture},  \\mathit{recapture} | a_j) = \n",
    "N \\cdot \\int_0^1 P( \\mathit{capture},  \\mathit{recapture} | a)\\cdot p(a) \\, da =  \n",
    "N \\cdot \\frac{n_1 \\cdot n_2}{N^2 \\cdot \\left( E[a] \\right)^2} \\int_0^1 a^2 \\cdot p(a) \\, da = \n",
    "N \\cdot \\frac{n_1}{N} \\cdot \\frac{n_2}{N} \\cdot \\frac{E[a^2]}{E[a]^2}  = \n",
    "N \\cdot \\frac{n_1}{N} \\cdot \\frac{n_2}{N} \\cdot \\frac{Var(a) + E[a]^2}{E[a]^2} =  \n",
    "N \\cdot \\frac{n_1}{N} \\cdot \\frac{n_2}{N} \\cdot \\left( 1 + \\frac{Var(a)}{E[a]^2} \\right) $\n",
    "\n",
    "Notice that the vanilla capture-recapture considers the size of the intersection to be equal to $\\frac{n_1}{N} \\cdot \\frac{n_2}{N}$. Notice that the factor $1 + \\frac{Var(a)}{E[a]^2}$ becomes 1 when the variance $Var(a)$ of the propensity variable $a$ becomes zero. Therefore, when the propensity to be \"captured\" is the same across the population, or even when the variance is small compared to the mean propensity, the naive estimate is valid. However, when the ratio of standard deviation to the mean becomes big, then we start seeing systematic deviations. \n",
    "\n",
    "Intuition: When someone is sampled under our scheme, probabilistically that user is likely to have higher propensity to participate. Therefore, in the recapture period, we are more likely to sample the same people again. This leads to capture-recapture estimates for the population size $N$ that are systematically biased downwards."
   ]
  },
  {
   "cell_type": "markdown",
   "metadata": {},
   "source": [
    "* Example with propensity $a=0.5$ for everyone.\n",
    "* Example with propensity uniform in the [0,1] interval. Average propensity is again $a=0.5$.\n",
    "* Example with propensity following a Beta(a,b) with $a=b$ (i.e., $E[a]=0.5$), and $a \\rightarrow 0$. Variance goes to $1/4$, and the naive estimate of the population is off by a factor of 2.\n",
    "* Show example with heavy tailed distribution (e.g., $b=1$, $a=0.01$), showing that this can distort estimates significantly."
   ]
  },
  {
   "cell_type": "markdown",
   "metadata": {},
   "source": [
    "Generalizing the above, the factor $E[a^k] / E[a]^k$ factor that differentes the expected size of the intersection between $k$ sets when propensity is a random varialbe, and the naive estimate, which assumes that propensity is the same (or almost the same) across all members of the population."
   ]
  },
  {
   "cell_type": "code",
   "execution_count": null,
   "metadata": {
    "collapsed": true
   },
   "outputs": [],
   "source": []
  },
  {
   "cell_type": "code",
   "execution_count": 1,
   "metadata": {
    "collapsed": true
   },
   "outputs": [],
   "source": [
    "# Create the overall population: Sample N users and give to each an activity/propensity value a\n",
    "\n",
    "# Compute the average number of people that we expect to be active during that time. \n",
    "# That is the mean value of the distribution\n",
    "\n",
    "# ===================\n",
    "\n",
    "# Capture period\n",
    "\n",
    "# Draw user from the population\n",
    "\n",
    "# If user is active (random<a) proceed, else go to step 2\n",
    "\n",
    "# Sample the user with probability 1/active users, and add id in the list\n",
    "\n",
    "# Re-Capture period\n",
    "\n",
    "# Repeat as above and compute estimate of population using the Lincoln estimator\n",
    "\n"
   ]
  },
  {
   "cell_type": "code",
   "execution_count": 37,
   "metadata": {},
   "outputs": [
    {
     "name": "stdout",
     "output_type": "stream",
     "text": [
      "Mean: 0.00783289817232376\n",
      "Var: 0.0001977492081054903\n",
      "Skew: 3.4738427007709096\n",
      "X1: 0.00783289817232376\n",
      "X2: 0.000259103501883\n",
      "X3: 1.47875447725e-05\n",
      "Common: 0.000259103501883\n",
      "Factor: 4.22307039864\n",
      "Factor2: 7.28618693135\n"
     ]
    }
   ],
   "source": [
    "# To instantiate using various probability functions take a look at \n",
    "# https://docs.scipy.org/doc/scipy/reference/stats.html\n",
    "import numpy as np\n",
    "from scipy.stats import beta\n",
    "\n",
    "N = 500000\n",
    "a = 0.3\n",
    "b = 38\n",
    "rvs = beta.rvs(a, b, loc= 0.02941, scale= 2.44, size=N)\n",
    "\n",
    "# This transformation can help us transform any continuous RV \n",
    "# into a value ranging from 0 to 1\n",
    "# p = [math.exp(rv)/(1+math.exp(rv)) for rv in rvs]\n",
    "# The scipy.stats.rv_histogram should help us then transform the empirical\n",
    "# values into an empirical distribution\n",
    "\n",
    "mean, var, skew = beta.stats(a, b,  moments='mvs')\n",
    "# For powerlaw on a bounded interval 0..1, it is a special case of Beta with b=1\n",
    "\n",
    "print(\"Mean:\", mean)\n",
    "print(\"Var:\", var)\n",
    "print(\"Skew:\", skew)\n",
    "print(\"X1:\", mean)\n",
    "print(\"X2:\", var+mean*mean)\n",
    "print(\"X3:\", skew*var*np.sqrt(var) + 3*mean*var + mean*mean*mean )\n",
    "print(\"Common:\", var+mean*mean)\n",
    "\n",
    "factor = (var+mean*mean) / (mean*mean)\n",
    "factor2 = (skew*var*np.sqrt(var) + 3*mean*var + mean*mean*mean) / ((var+mean*mean)*mean)\n",
    "print(\"Factor:\", factor )\n",
    "print(\"Factor2:\", factor2 )"
   ]
  },
  {
   "cell_type": "code",
   "execution_count": 38,
   "metadata": {},
   "outputs": [
    {
     "data": {
      "text/plain": [
       "24207.524724574003"
      ]
     },
     "execution_count": 38,
     "metadata": {},
     "output_type": "execute_result"
    }
   ],
   "source": [
    "sum(rvs)"
   ]
  },
  {
   "cell_type": "code",
   "execution_count": 39,
   "metadata": {},
   "outputs": [
    {
     "data": {
      "image/png": "[encoded data removed]",
      "text/plain": [
       "<matplotlib.figure.Figure at 0x7f5d2c55c358>"
      ]
     },
     "metadata": {},
     "output_type": "display_data"
    }
   ],
   "source": [
    "%matplotlib inline\n",
    "import matplotlib.pyplot as plt\n",
    "fig, ax = plt.subplots(1, 1)\n",
    "ax.hist(rvs, normed=True, histtype='stepfilled', alpha=0.2, bins=100)\n",
    "ax.set_yscale(\"log\")"
   ]
  },
  {
   "cell_type": "code",
   "execution_count": 40,
   "metadata": {
    "collapsed": true
   },
   "outputs": [],
   "source": [
    "import numpy as np\n",
    "# Given an instantiated list of propensity values \n",
    "# the mean of the distribution, and a sample target n, return the ids of the sampled entities\n",
    "def sample(rvs, n):\n",
    "    return sorted(np.random.choice(len(rvs), size = n, replace=True, p=rvs/sum(rvs)))\n"
   ]
  },
  {
   "cell_type": "code",
   "execution_count": 42,
   "metadata": {},
   "outputs": [
    {
     "name": "stdout",
     "output_type": "stream",
     "text": [
      "Naive Median: 340343.36842105264\n",
      "Naive Mean: 342745.69622372446\n",
      "Adj Median: 1437294.00455\n",
      "Adj Mean: 1447439.20398\n"
     ]
    }
   ],
   "source": [
    "import statistics\n",
    "from collections import Counter\n",
    "\n",
    "\n",
    "tries = 200\n",
    "adj_estimates = []\n",
    "naive_estimates = []\n",
    "for _ in range(tries):\n",
    "    n = 10000\n",
    "      \n",
    "    \n",
    "    id1 = set(sample(rvs, n))\n",
    "    id2 = set(sample(rvs, n))\n",
    "    common = list(id1 & id2)\n",
    "    \n",
    "    #id3 = set(sample(rvs, n))\n",
    "    #triad = list(id1 & id2 & id3)\n",
    "    \n",
    "     \n",
    "    naive_estimate = len(id1) * len(id2) / len(common)\n",
    "    #naive_estimate = len(common) * len(id3) / len(triad)\n",
    "    naive_estimates.append(naive_estimate)\n",
    "    \n",
    "    adj_estimate = naive_estimate * factor\n",
    "    adj_estimates.append(adj_estimate)                       \n",
    "    \n",
    "print(\"Naive Median:\", statistics.median(naive_estimates))\n",
    "print(\"Naive Mean:\", statistics.mean(naive_estimates))\n",
    "                                 \n",
    "print(\"Adj Median:\", statistics.median(adj_estimates))\n",
    "print(\"Adj Mean:\", statistics.mean(adj_estimates))"
   ]
  },
  {
   "cell_type": "code",
   "execution_count": 43,
   "metadata": {},
   "outputs": [
    {
     "data": {
      "text/plain": [
       "(array([  8.85728132e-07,   0.00000000e+00,   0.00000000e+00,\n",
       "          0.00000000e+00,   0.00000000e+00,   0.00000000e+00,\n",
       "          0.00000000e+00,   4.42864066e-07,   0.00000000e+00,\n",
       "          8.85728132e-07,   0.00000000e+00,   4.42864066e-07,\n",
       "          1.32859220e-06,   1.32859220e-06,   2.65718440e-06,\n",
       "          2.65718440e-06,   3.54291253e-06,   3.10004846e-06,\n",
       "          5.75723286e-06,   3.10004846e-06,   4.87150472e-06,\n",
       "          5.31436879e-06,   5.31436879e-06,   5.31436879e-06,\n",
       "          3.54291253e-06,   4.87150472e-06,   3.10004846e-06,\n",
       "          3.98577659e-06,   3.10004846e-06,   3.54291253e-06,\n",
       "          3.54291253e-06,   2.21432033e-06,   1.32859220e-06,\n",
       "          1.77145626e-06,   2.21432033e-06,   8.85728132e-07,\n",
       "          1.32859220e-06,   2.65718440e-06,   8.85728132e-07,\n",
       "          0.00000000e+00,   0.00000000e+00,   0.00000000e+00,\n",
       "          4.42864066e-07,   0.00000000e+00,   8.85728132e-07,\n",
       "          0.00000000e+00,   4.42864066e-07,   0.00000000e+00,\n",
       "          0.00000000e+00,   8.85728132e-07]),\n",
       " array([ 1172351.36305353,  1183641.5091396 ,  1194931.65522566,\n",
       "         1206221.80131172,  1217511.94739779,  1228802.09348385,\n",
       "         1240092.23956991,  1251382.38565598,  1262672.53174204,\n",
       "         1273962.6778281 ,  1285252.82391417,  1296542.97000023,\n",
       "         1307833.11608629,  1319123.26217236,  1330413.40825842,\n",
       "         1341703.55434449,  1352993.70043055,  1364283.84651661,\n",
       "         1375573.99260268,  1386864.13868874,  1398154.2847748 ,\n",
       "         1409444.43086087,  1420734.57694693,  1432024.72303299,\n",
       "         1443314.86911906,  1454605.01520512,  1465895.16129118,\n",
       "         1477185.30737725,  1488475.45346331,  1499765.59954937,\n",
       "         1511055.74563544,  1522345.8917215 ,  1533636.03780757,\n",
       "         1544926.18389363,  1556216.32997969,  1567506.47606576,\n",
       "         1578796.62215182,  1590086.76823788,  1601376.91432395,\n",
       "         1612667.06041001,  1623957.20649607,  1635247.35258214,\n",
       "         1646537.4986682 ,  1657827.64475426,  1669117.79084033,\n",
       "         1680407.93692639,  1691698.08301245,  1702988.22909852,\n",
       "         1714278.37518458,  1725568.52127065,  1736858.66735671]),\n",
       " <a list of 1 Patch objects>)"
      ]
     },
     "execution_count": 43,
     "metadata": {},
     "output_type": "execute_result"
    },
    {
     "data": {
      "image/png": "[encoded data removed]",
      "text/plain": [
       "<matplotlib.figure.Figure at 0x7f5d2bf22908>"
      ]
     },
     "metadata": {},
     "output_type": "display_data"
    }
   ],
   "source": [
    "fig, ax = plt.subplots(1, 1)\n",
    "ax.hist(adj_estimates, normed=True, histtype='stepfilled', alpha=0.2, bins=50)"
   ]
  },
  {
   "cell_type": "code",
   "execution_count": 30,
   "metadata": {},
   "outputs": [
    {
     "data": {
      "text/plain": [
       "Counter({1: 1779,\n",
       "         2: 4581,\n",
       "         3: 7543,\n",
       "         4: 9228,\n",
       "         5: 9099,\n",
       "         6: 7004,\n",
       "         7: 4718,\n",
       "         8: 2727,\n",
       "         9: 1381,\n",
       "         10: 758,\n",
       "         11: 383,\n",
       "         12: 215,\n",
       "         13: 121,\n",
       "         14: 66,\n",
       "         15: 33,\n",
       "         16: 21,\n",
       "         17: 10,\n",
       "         18: 7,\n",
       "         19: 3,\n",
       "         21: 1})"
      ]
     },
     "execution_count": 30,
     "metadata": {},
     "output_type": "execute_result"
    }
   ],
   "source": [
    "from collections import Counter\n",
    "sampled_ids = []\n",
    "samples = 27\n",
    "for _ in range(samples):\n",
    "    s = set(sample(rvs, n))\n",
    "    sampled_ids.extend(s)\n",
    "z = Counter(Counter(sampled_ids).values())\n",
    "z"
   ]
  },
  {
   "cell_type": "code",
   "execution_count": 31,
   "metadata": {},
   "outputs": [
    {
     "name": "stdout",
     "output_type": "stream",
     "text": [
      "1 0.03558 2.57504215851602\n",
      "2 0.09162 1.6465837153459943\n",
      "3 0.15086 1.2233859207211986\n",
      "4 0.18456 0.9860208062418726\n",
      "5 0.18198 0.7697549181228707\n",
      "6 0.14008 0.6736150770988006\n",
      "7 0.09436 0.5779991521831285\n",
      "8 0.05454 0.5064173083975064\n",
      "9 0.02762 0.5488776249094859\n",
      "10 0.01516 0.5052770448548812\n",
      "11 0.00766 0.5613577023498695\n",
      "12 0.0043 0.5627906976744186\n",
      "13 0.00242 0.5454545454545454\n",
      "14 0.00132 0.5\n",
      "15 0.00066 0.6363636363636364\n",
      "16 0.00042 0.47619047619047616\n",
      "17 0.0002 0.7\n",
      "18 0.00014 0.42857142857142855\n",
      "19 6e-05 0.0\n",
      "21 2e-05 0.0\n"
     ]
    }
   ],
   "source": [
    "for i in z.keys():\n",
    "    print(i, z[i]/N, z[i+1]/z[i])"
   ]
  },
  {
   "cell_type": "code",
   "execution_count": null,
   "metadata": {
    "collapsed": true
   },
   "outputs": [],
   "source": []
  }
 ],
 "metadata": {
  "kernelspec": {
   "display_name": "Python 3",
   "language": "python",
   "name": "python3"
  },
  "language_info": {
   "codemirror_mode": {
    "name": "ipython",
    "version": 3
   },
   "file_extension": ".py",
   "mimetype": "text/x-python",
   "name": "python",
   "nbconvert_exporter": "python",
   "pygments_lexer": "ipython3",
   "version": "3.5.2"
  }
 },
 "nbformat": 4,
 "nbformat_minor": 2
}
