{
 "cells": [
  {
   "cell_type": "markdown",
   "metadata": {},
   "source": [
    "### Propensity Parameter:  Generally-active vs available-and-participating population\n",
    "\n",
    "We now add one parameter in our model, to capture the fact that propensity to participate in the survey may vary among workers. This propensity value captures both the inherent preference to participate in a survey, versus working on some other task, but also the general activity on the platform. For example, consider two workers that are equally likely to work on a survey; however, one of them works on the platform only one hour per week, while the other works for ten hours. Everything else being equal, the latter is ten times more likely to show up in our results.\n",
    "\n",
    "For our model, we endow each user with a propensity parameter $a$, which defines the probability that a user will be **active and willing to participate in the survey** at any given time. The propensity parameter is a random variable with a pdf $p(a)$. Past literature suggests that the pdf $p(a)$ is a heavy tailed distribution, with many people participating only occasionally, and a small number of users are active substantially more. However, in our approach we do not make any strong assumptions about the specifics of the distribution.\n",
    "\n",
    "#### Capture stage\n",
    "\n",
    "If we have a population of $N$ users (not all of them active at the same time), each of them with a propensity $a_i$, then each user will be chosen by a probability proportional to $a_i$. \n",
    "\n",
    "$P( \\mathit{capture} | a_i) = \\frac{a_i}{\\sum_j^N a_j} = \\frac{a_i}{N \\cdot E[a]}$.\n",
    "\n",
    "So, the probability that we see worker $i$ in a sample of $n_1$ workers is the inverse of the probability of not-sampling the worker for $n_1$ samples:\n",
    "\n",
    "$P( \\mathit{sample} | a_i) = 1 - (1 - \\frac{a_i}{\\sum_j^N a_j})^{n_1} \\approx \\frac{n_1}{N} \\cdot \\frac{a_i}{E[a]} $\n",
    "\n",
    "Given $a_i$, the probability of capturing the user in a second sample with $n_2$ workers is _conditionally_ independent, and therefore, the probability that a user will be captured in both the first and the second sample is:\n",
    "\n",
    "$P( \\mathit{capture},  \\mathit{recapture} | a_i) = \\frac{n_1}{N} \\cdot \\frac{a_i}{E[a]} \\cdot \\frac{n_2}{N} \\cdot \\frac{a_i}{E[a]} = \\frac{n_1 \\cdot n_2}{N^2 \\cdot \\left( E[a] \\right)^2} \\dot a_i^2 $\n",
    "\n",
    "So, now we can form the expectation on the size of the intersection by integrating over all the possible workers:\n",
    "\n",
    "$\\sum_j^N P( \\mathit{capture},  \\mathit{recapture} | a_j) = \n",
    "N \\cdot \\int_0^1 P( \\mathit{capture},  \\mathit{recapture} | a)\\cdot p(a) \\, da =  \n",
    "N \\cdot \\frac{n_1 \\cdot n_2}{N^2 \\cdot \\left( E[a] \\right)^2} \\int_0^1 a^2 \\cdot p(a) \\, da = \n",
    "N \\cdot \\frac{n_1}{N} \\cdot \\frac{n_2}{N} \\cdot \\frac{E[a^2]}{E[a]^2}  = \n",
    "N \\cdot \\frac{n_1}{N} \\cdot \\frac{n_2}{N} \\cdot \\frac{Var(a) + E[a]^2}{E[a]^2} =  \n",
    "N \\cdot \\frac{n_1}{N} \\cdot \\frac{n_2}{N} \\cdot \\left( 1 + \\frac{Var(a)}{E[a]^2} \\right) $\n",
    "\n",
    "Notice that the vanilla capture-recapture considers the size of the intersection to be equal to $\\frac{n_1}{N} \\cdot \\frac{n_2}{N}$. Notice that the factor $1 + \\frac{Var(a)}{E[a]^2}$ becomes 1 when the variance $Var(a)$ of the propensity variable $a$ becomes zero. Therefore, when the propensity to be \"captured\" is the same across the population, or even when the variance is small compared to the mean propensity, the naive estimate is valid. However, when the ratio of standard deviation to the mean becomes big, then we start seeing systematic deviations. \n",
    "\n",
    "Intuition: When someone is sampled under our scheme, probabilistically that user is likely to have higher propensity to participate. Therefore, in the recapture period, we are more likely to sample the same people again. This leads to capture-recapture estimates for the population size $N$ that are systematically biased downwards."
   ]
  },
  {
   "cell_type": "markdown",
   "metadata": {},
   "source": [
    "* Example with propensity $a=0.5$ for everyone.\n",
    "* Example with propensity uniform in the [0,1] interval. Average propensity is again $a=0.5$.\n",
    "* Example with propensity following a Beta(a,b) with $a=b$ (i.e., $E[a]=0.5$), and $a \\rightarrow 0$. Variance goes to $1/4$, and the naive estimate of the population is off by a factor of 2.\n",
    "* Show example with heavy tailed distribution (e.g., $b=1$, $a=0.01$), showing that this can distort estimates significantly."
   ]
  },
  {
   "cell_type": "markdown",
   "metadata": {},
   "source": [
    "Generalizing the above, the factor $E[a^k] / E[a]^k$ factor that differentes the expected size of the intersection between $k$ sets when propensity is a random varialbe, and the naive estimate, which assumes that propensity is the same (or almost the same) across all members of the population."
   ]
  },
  {
   "cell_type": "code",
   "execution_count": null,
   "metadata": {
    "collapsed": true
   },
   "outputs": [],
   "source": []
  },
  {
   "cell_type": "code",
   "execution_count": 1,
   "metadata": {
    "collapsed": true
   },
   "outputs": [],
   "source": [
    "# Create the overall population: Sample N users and give to each an activity/propensity value a\n",
    "\n",
    "# Compute the average number of people that we expect to be active during that time. \n",
    "# That is the mean value of the distribution\n",
    "\n",
    "# ===================\n",
    "\n",
    "# Capture period\n",
    "\n",
    "# Draw user from the population\n",
    "\n",
    "# If user is active (random<a) proceed, else go to step 2\n",
    "\n",
    "# Sample the user with probability 1/active users, and add id in the list\n",
    "\n",
    "# Re-Capture period\n",
    "\n",
    "# Repeat as above and compute estimate of population using the Lincoln estimator\n",
    "\n"
   ]
  },
  {
   "cell_type": "code",
   "execution_count": 12,
   "metadata": {},
   "outputs": [
    {
     "name": "stdout",
     "output_type": "stream",
     "text": [
      "Mean: 0.07692307692307693\n",
      "Var: 0.014491003501992514\n",
      "Skew: 2.3827478490337737\n",
      "X1: 0.07692307692307693\n",
      "X2: 0.0204081632653\n",
      "X3: 0.00795572466275\n",
      "Common: 0.0204081632653\n",
      "Factor: 3.44897959184\n",
      "Factor2: 5.06779661017\n"
     ]
    }
   ],
   "source": [
    "# To instantiate using various probability functions take a look at \n",
    "# https://docs.scipy.org/doc/scipy/reference/stats.html\n",
    "import numpy as np\n",
    "from scipy.stats import beta\n",
    "\n",
    "# These are also the parameters that we estimate from our Beta-Binomial analysis in Notebook 5\n",
    "N = 76000\n",
    "a = 0.3\n",
    "b = 3.6\n",
    "rvs = beta.rvs(a, b, size=N)\n",
    "\n",
    "# This transformation can help us transform any continuous RV \n",
    "# into a value ranging from 0 to 1\n",
    "# p = [math.exp(rv)/(1+math.exp(rv)) for rv in rvs]\n",
    "# The scipy.stats.rv_histogram should help us then transform the empirical\n",
    "# values into an empirical distribution\n",
    "\n",
    "mean, var, skew = beta.stats(a, b,  moments='mvs')\n",
    "# For powerlaw on a bounded interval 0..1, it is a special case of Beta with b=1\n",
    "\n",
    "print(\"Mean:\", mean)\n",
    "print(\"Var:\", var)\n",
    "print(\"Skew:\", skew)\n",
    "print(\"X1:\", mean)\n",
    "print(\"X2:\", var+mean*mean)\n",
    "print(\"X3:\", skew*var*np.sqrt(var) + 3*mean*var + mean*mean*mean )\n",
    "print(\"Common:\", var+mean*mean)\n",
    "\n",
    "factor = (var+mean*mean) / (mean*mean)\n",
    "factor2 = (skew*var*np.sqrt(var) + 3*mean*var + mean*mean*mean) / ((var+mean*mean)*mean)\n",
    "print(\"Factor:\", factor )\n",
    "print(\"Factor2:\", factor2 )"
   ]
  },
  {
   "cell_type": "code",
   "execution_count": 13,
   "metadata": {},
   "outputs": [
    {
     "data": {
      "text/plain": [
       "5869.1226168376406"
      ]
     },
     "execution_count": 13,
     "metadata": {},
     "output_type": "execute_result"
    }
   ],
   "source": [
    "# This is the estimated number of active users at any given time\n",
    "sum(rvs)"
   ]
  },
  {
   "cell_type": "code",
   "execution_count": 14,
   "metadata": {},
   "outputs": [
    {
     "data": {
      "image/png": "[encoded data removed]",
      "text/plain": [
       "<matplotlib.figure.Figure at 0x7ff36981f2e8>"
      ]
     },
     "metadata": {},
     "output_type": "display_data"
    }
   ],
   "source": [
    "%matplotlib inline\n",
    "import matplotlib.pyplot as plt\n",
    "fig, ax = plt.subplots(1, 1)\n",
    "ax.hist(rvs, normed=True, histtype='stepfilled', alpha=0.2, bins=100)\n",
    "ax.set_yscale(\"log\")"
   ]
  },
  {
   "cell_type": "code",
   "execution_count": 15,
   "metadata": {
    "collapsed": true
   },
   "outputs": [],
   "source": [
    "import numpy as np\n",
    "# Given an instantiated list of propensity values \n",
    "# the mean of the distribution, and a sample target n, return the ids of the sampled entities\n",
    "def sample(rvs, n):\n",
    "    return sorted(np.random.choice(len(rvs), size = n, replace=True, p=rvs/sum(rvs)))\n"
   ]
  },
  {
   "cell_type": "code",
   "execution_count": 16,
   "metadata": {},
   "outputs": [
    {
     "name": "stdout",
     "output_type": "stream",
     "text": [
      "Naive Median: 23280.939867341593\n",
      "Naive Mean: 23320.3116163952\n",
      "Adj Median: 80295.4864812\n",
      "Adj Mean: 80431.2788402\n"
     ]
    }
   ],
   "source": [
    "import statistics\n",
    "from collections import Counter\n",
    "\n",
    "tries = 1000\n",
    "adj_estimates = []\n",
    "naive_estimates = []\n",
    "for _ in range(tries):\n",
    "    n = 3000\n",
    "      \n",
    "    \n",
    "    id1 = set(sample(rvs, n))\n",
    "    id2 = set(sample(rvs, n))\n",
    "    common = list(id1 & id2)\n",
    "    \n",
    "    #id3 = set(sample(rvs, n))\n",
    "    #triad = list(id1 & id2 & id3)\n",
    "    \n",
    "     \n",
    "    naive_estimate = len(id1) * len(id2) / len(common)\n",
    "    #naive_estimate = len(common) * len(id3) / len(triad)\n",
    "    naive_estimates.append(naive_estimate)\n",
    "    \n",
    "    adj_estimate = naive_estimate * factor\n",
    "    #adj_estimate = naive_estimate * factor2\n",
    "    adj_estimates.append(adj_estimate)                       \n",
    "    \n",
    "print(\"Naive Median:\", statistics.median(naive_estimates))\n",
    "print(\"Naive Mean:\", statistics.mean(naive_estimates))\n",
    "                                 \n",
    "print(\"Adj Median:\", statistics.median(adj_estimates))\n",
    "print(\"Adj Mean:\", statistics.mean(adj_estimates))"
   ]
  },
  {
   "cell_type": "code",
   "execution_count": 17,
   "metadata": {},
   "outputs": [
    {
     "data": {
      "text/plain": [
       "(array([  1.94512442e-05,   1.29674962e-05,   3.89024885e-05,\n",
       "          1.29674962e-05,   7.13212288e-05,   7.13212288e-05,\n",
       "          1.10223717e-04,   7.13212288e-05,   1.42642458e-04,\n",
       "          1.42642458e-04,   1.94512442e-04,   1.94512442e-04,\n",
       "          2.39898679e-04,   3.82541136e-04,   3.89024885e-04,\n",
       "          2.39898679e-04,   2.91768663e-04,   3.95508633e-04,\n",
       "          4.66829861e-04,   3.63089892e-04,   3.69573640e-04,\n",
       "          3.63089892e-04,   2.72317419e-04,   2.52866175e-04,\n",
       "          2.33414931e-04,   1.88028694e-04,   1.62093702e-04,\n",
       "          1.03739969e-04,   7.78049769e-05,   1.03739969e-04,\n",
       "          9.72562211e-05,   8.42887250e-05,   9.07724731e-05,\n",
       "          3.24187404e-05,   7.78049769e-05,   1.94512442e-05,\n",
       "          5.18699846e-05,   0.00000000e+00,   1.29674962e-05,\n",
       "          0.00000000e+00,   0.00000000e+00,   6.48374808e-06,\n",
       "          1.94512442e-05,   6.48374808e-06,   0.00000000e+00,\n",
       "          0.00000000e+00,   0.00000000e+00,   0.00000000e+00,\n",
       "          0.00000000e+00,   6.48374808e-06]),\n",
       " array([ 20429.09090909,  20583.32268803,  20737.55446697,  20891.78624591,\n",
       "         21046.01802485,  21200.24980379,  21354.48158273,  21508.71336167,\n",
       "         21662.94514061,  21817.17691956,  21971.4086985 ,  22125.64047744,\n",
       "         22279.87225638,  22434.10403532,  22588.33581426,  22742.5675932 ,\n",
       "         22896.79937214,  23051.03115108,  23205.26293002,  23359.49470896,\n",
       "         23513.7264879 ,  23667.95826684,  23822.19004578,  23976.42182472,\n",
       "         24130.65360366,  24284.8853826 ,  24439.11716154,  24593.34894048,\n",
       "         24747.58071942,  24901.81249836,  25056.04427731,  25210.27605625,\n",
       "         25364.50783519,  25518.73961413,  25672.97139307,  25827.20317201,\n",
       "         25981.43495095,  26135.66672989,  26289.89850883,  26444.13028777,\n",
       "         26598.36206671,  26752.59384565,  26906.82562459,  27061.05740353,\n",
       "         27215.28918247,  27369.52096141,  27523.75274035,  27677.98451929,\n",
       "         27832.21629823,  27986.44807717,  28140.67985612]),\n",
       " <a list of 1 Patch objects>)"
      ]
     },
     "execution_count": 17,
     "metadata": {},
     "output_type": "execute_result"
    },
    {
     "data": {
      "image/png": "[encoded data removed]",
      "text/plain": [
       "<matplotlib.figure.Figure at 0x7ff3695e37f0>"
      ]
     },
     "metadata": {},
     "output_type": "display_data"
    }
   ],
   "source": [
    "fig, ax = plt.subplots(1, 1)\n",
    "ax.hist(adj_estimates, normed=True, histtype='stepfilled', alpha=0.2, bins=50)\n",
    "ax.hist(naive_estimates, normed=True, histtype='stepfilled', alpha=0.2, bins=50)"
   ]
  },
  {
   "cell_type": "code",
   "execution_count": 18,
   "metadata": {},
   "outputs": [
    {
     "data": {
      "text/plain": [
       "Counter({1: 11723,\n",
       "         2: 6312,\n",
       "         3: 4062,\n",
       "         4: 2620,\n",
       "         5: 1688,\n",
       "         6: 1139,\n",
       "         7: 664,\n",
       "         8: 420,\n",
       "         9: 264,\n",
       "         10: 145,\n",
       "         11: 79,\n",
       "         12: 35,\n",
       "         13: 10,\n",
       "         14: 6,\n",
       "         16: 2,\n",
       "         17: 1})"
      ]
     },
     "execution_count": 18,
     "metadata": {},
     "output_type": "execute_result"
    }
   ],
   "source": [
    "from collections import Counter\n",
    "sampled_ids = []\n",
    "samples = 27\n",
    "n = 3000\n",
    "for _ in range(samples):\n",
    "    s = set(sample(rvs, n))\n",
    "    sampled_ids.extend(s)\n",
    "z = Counter(Counter(sampled_ids).values())\n",
    "z"
   ]
  },
  {
   "cell_type": "code",
   "execution_count": null,
   "metadata": {
    "collapsed": true
   },
   "outputs": [],
   "source": []
  }
 ],
 "metadata": {
  "kernelspec": {
   "display_name": "Python 3",
   "language": "python",
   "name": "python3"
  },
  "language_info": {
   "codemirror_mode": {
    "name": "ipython",
    "version": 3
   },
   "file_extension": ".py",
   "mimetype": "text/x-python",
   "name": "python",
   "nbconvert_exporter": "python",
   "pygments_lexer": "ipython3",
   "version": "3.5.2"
  }
 },
 "nbformat": 4,
 "nbformat_minor": 2
}
