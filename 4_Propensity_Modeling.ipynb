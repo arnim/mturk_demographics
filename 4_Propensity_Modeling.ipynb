{
 "cells": [
  {
   "cell_type": "markdown",
   "metadata": {},
   "source": [
    "### Activity Parameter\n",
    "\n",
    "We now add one parameter in our model, to capture the fact that activity in the platform is not equal among all workers.\n",
    "\n",
    "In most online platforms, activity follows a power-law distribution: Most people participate occassionally, but a small number of users are active substantially more. \n",
    "\n",
    "We endow each of our user with an activity parameter $a$, which defines the fraction of time units that the user devotes in the platform. We asumme that $a$ is power-law distributed, based on evidence from other online platforms, and from our numbers above. Assuming that a user is active a minimum of $x_{min}$ and a maximum of $x_{max}$ time units, we have that the probability distribution of the activity parameters for the workers follows the distribution:\n",
    "\n",
    "* pdf: $p(a=x) = C \\cdot x^\\alpha$, with $C=(\\alpha-1) / (x_{max}^{\\alpha-1} - x_{min}^{\\alpha-1})$\n",
    "\n",
    "* CDF: $P(x>a) =  (x^{\\alpha-1} - x_{min}^{\\alpha-1}) /  (x_{max}^{\\alpha-1} - x_{min}^{\\alpha-1})$\n",
    "\n",
    "$E[x] = \\frac{\\alpha − 1}{\\alpha - 2}$ for $\\alpha>2$. See http://tuvalu.santafe.edu/~aaronc/courses/7000/csci7000-001_2011_L2.pdf (Eq 3) and http://up-rs-esp.github.io/bpl/\n",
    "\n",
    "So, if we have a population of $N$ users (not all of them active at the same time, though), at any given minute, we can expect $N \\frac{\\alpha − 1}{\\alpha - 2}$ of them to be available for sampling at any given moment, and our estimates need to be adjusted by multiplying our earlier estimates with  $\\frac{\\alpha − 2}{\\alpha - 1}$."
   ]
  },
  {
   "cell_type": "markdown",
   "metadata": {},
   "source": [
    "#### Generally-active vs Active-now population\n",
    "\n",
    "If we pick a random time to sample, then the probability that a user is active is given by $a\\cdot p(a)$, where $a$ is the level of activity for that user, and $p(a)$ is the probability that a user has such an activity level.\n",
    "\n",
    "Integrating over all activity values:\n",
    "\n",
    "$\\int_0^1 a^2 p(a) da = E[a^2]$\n"
   ]
  },
  {
   "cell_type": "code",
   "execution_count": 8,
   "metadata": {
    "collapsed": true
   },
   "outputs": [],
   "source": [
    "# Create the overall population: Sample N users and give to each an activity/propensity value a\n",
    "\n",
    "# Compute the average number of people that we expect to be active during that time. \n",
    "# That is the mean value of the distribution\n",
    "\n",
    "# ===================\n",
    "\n",
    "# Capture period\n",
    "\n",
    "# Draw user from the population\n",
    "\n",
    "# If user is active (random<a) proceed, else go to step 2\n",
    "\n",
    "# Sample the user with probability 1/active users, and add id in the list\n",
    "\n",
    "# Re-Capture period\n",
    "\n",
    "# Repeat as above and compute estimate of population using the Lincoln estimator\n",
    "\n"
   ]
  },
  {
   "cell_type": "code",
   "execution_count": 9,
   "metadata": {},
   "outputs": [
    {
     "name": "stdout",
     "output_type": "stream",
     "text": [
      "Mean: 0.5\n",
      "Var: 0.0001249375312343828\n",
      "Skew: 0.0\n",
      "X1: 0.5\n",
      "X2: 0.250124937531\n",
      "X3: 0.125187406297\n",
      "Common: 0.250124937531\n",
      "Factor: 1.00049975012\n",
      "Factor2: 1.000999001\n"
     ]
    }
   ],
   "source": [
    "# To instantiate using various probability functions take a look at \n",
    "# https://docs.scipy.org/doc/scipy/reference/stats.html\n",
    "import numpy as np\n",
    "from scipy.stats import beta\n",
    "\n",
    "N = 500000\n",
    "a = 1000\n",
    "b = 1000\n",
    "rvs = beta.rvs(a, b, size=N)\n",
    "\n",
    "# This transformation can help us transform any continuous RV \n",
    "# into a value ranging from 0 to 1\n",
    "# p = [math.exp(rv)/(1+math.exp(rv)) for rv in rvs]\n",
    "# The scipy.stats.rv_histogram should help us then transform the empirical\n",
    "# values into an empirical distribution\n",
    "\n",
    "mean, var, skew = beta.stats(a, b,  moments='mvs')\n",
    "# For powerlaw on a bounded interval 0..1, it is a special case of Beta with b=1\n",
    "\n",
    "print(\"Mean:\", mean)\n",
    "print(\"Var:\", var)\n",
    "print(\"Skew:\", skew)\n",
    "print(\"X1:\", mean)\n",
    "print(\"X2:\", var+mean*mean)\n",
    "print(\"X3:\", skew*var*np.sqrt(var) + 3*mean*var + mean*mean*mean )\n",
    "print(\"Common:\", var+mean*mean)\n",
    "\n",
    "factor = (var+mean*mean) / (mean*mean)\n",
    "factor2 = (skew*var*np.sqrt(var) + 3*mean*var + mean*mean*mean) / ((var+mean*mean)*mean)\n",
    "print(\"Factor:\", factor )\n",
    "print(\"Factor2:\", factor2 )"
   ]
  },
  {
   "cell_type": "code",
   "execution_count": 10,
   "metadata": {},
   "outputs": [
    {
     "data": {
      "text/plain": [
       "249999.6594603963"
      ]
     },
     "execution_count": 10,
     "metadata": {},
     "output_type": "execute_result"
    }
   ],
   "source": [
    "sum(rvs)"
   ]
  },
  {
   "cell_type": "code",
   "execution_count": 11,
   "metadata": {},
   "outputs": [
    {
     "data": {
      "image/png": "[encoded data removed]",
      "text/plain": [
       "<matplotlib.figure.Figure at 0x7f2537022e10>"
      ]
     },
     "metadata": {},
     "output_type": "display_data"
    }
   ],
   "source": [
    "%matplotlib inline\n",
    "import matplotlib.pyplot as plt\n",
    "fig, ax = plt.subplots(1, 1)\n",
    "ax.hist(rvs, normed=True, histtype='stepfilled', alpha=0.2, bins=100)\n",
    "ax.set_yscale(\"log\")"
   ]
  },
  {
   "cell_type": "code",
   "execution_count": 12,
   "metadata": {
    "collapsed": true
   },
   "outputs": [],
   "source": [
    "import numpy as np\n",
    "# Given an instantiated list of propensity values \n",
    "# the mean of the distribution, and a sample target n, return the ids of the sampled entities\n",
    "def sample(rvs, n):\n",
    "    return sorted(np.random.choice(len(rvs), size = n, replace=True, p=rvs/sum(rvs)))\n"
   ]
  },
  {
   "cell_type": "code",
   "execution_count": 15,
   "metadata": {},
   "outputs": [
    {
     "name": "stdout",
     "output_type": "stream",
     "text": [
      "Naive Median: 496030.32314259344\n",
      "Naive Mean: 497235.5805292975\n",
      "Adj Median: 496525.857931\n",
      "Adj Mean: 497732.319371\n"
     ]
    }
   ],
   "source": [
    "import statistics\n",
    "from collections import Counter\n",
    "\n",
    "samples = 3\n",
    "tries = 100\n",
    "adj_estimates = []\n",
    "naive_estimates = []\n",
    "for _ in range(tries):\n",
    "    n = 10000\n",
    "    \n",
    "    #sampled_ids = []\n",
    "    #for _ in range(samples):\n",
    "    #    s = set(sample(rvs, n))\n",
    "    #    sampled_ids.extend(s)\n",
    "    #z = Counter(Counter(sampled_ids).values())\n",
    "        \n",
    "    \n",
    "    id1 = set(sample(rvs, n))\n",
    "    id2 = set(sample(rvs, n))\n",
    "    #id3 = set(sample(rvs, n))\n",
    "    common = list(id1 & id2)\n",
    "    #triad = list(id1 & id2 & id3)\n",
    "    \n",
    "    # Need to figure out a proper way to handle this\n",
    "    # Skipping is biasing the results\n",
    "    #if len(common) == 0:\n",
    "    #    continue\n",
    "      \n",
    "    naive_estimate = len(id1) * len(id2) / len(common)\n",
    "    #naive_estimate = len(common) * len(id3) / len(triad)\n",
    "    naive_estimates.append(naive_estimate)\n",
    "    \n",
    "    adj_estimate = naive_estimate * factor2\n",
    "    adj_estimates.append(adj_estimate)                       \n",
    "    \n",
    "print(\"Naive Median:\", statistics.median(naive_estimates))\n",
    "print(\"Naive Mean:\", statistics.mean(naive_estimates))\n",
    "                                 \n",
    "print(\"Adj Median:\", statistics.median(adj_estimates))\n",
    "print(\"Adj Mean:\", statistics.mean(adj_estimates))"
   ]
  },
  {
   "cell_type": "code",
   "execution_count": 16,
   "metadata": {},
   "outputs": [
    {
     "data": {
      "text/plain": [
       "(array([  2.78980926e-06,   0.00000000e+00,   0.00000000e+00,\n",
       "          0.00000000e+00,   2.78980926e-06,   0.00000000e+00,\n",
       "          2.78980926e-06,   0.00000000e+00,   0.00000000e+00,\n",
       "          1.11592370e-05,   5.57961852e-06,   2.78980926e-06,\n",
       "          2.78980926e-06,   2.78980926e-06,   5.57961852e-06,\n",
       "          8.36942778e-06,   5.57961852e-06,   1.11592370e-05,\n",
       "          8.36942778e-06,   2.78980926e-06,   5.57961852e-06,\n",
       "          1.95286648e-05,   1.39490463e-05,   1.11592370e-05,\n",
       "          1.39490463e-05,   1.39490463e-05,   1.67388556e-05,\n",
       "          5.57961852e-06,   1.39490463e-05,   1.11592370e-05,\n",
       "          2.78980926e-06,   0.00000000e+00,   5.57961852e-06,\n",
       "          0.00000000e+00,   1.67388556e-05,   8.36942778e-06,\n",
       "          5.57961852e-06,   5.57961852e-06,   2.78980926e-06,\n",
       "          1.39490463e-05,   1.11592370e-05,   0.00000000e+00,\n",
       "          2.78980926e-06,   0.00000000e+00,   0.00000000e+00,\n",
       "          0.00000000e+00,   0.00000000e+00,   0.00000000e+00,\n",
       "          0.00000000e+00,   2.78980926e-06]),\n",
       " array([ 407003.19080919,  410587.66525475,  414172.1397003 ,\n",
       "         417756.61414585,  421341.08859141,  424925.56303696,\n",
       "         428510.03748252,  432094.51192807,  435678.98637363,\n",
       "         439263.46081918,  442847.93526474,  446432.40971029,\n",
       "         450016.88415584,  453601.3586014 ,  457185.83304695,\n",
       "         460770.30749251,  464354.78193806,  467939.25638362,\n",
       "         471523.73082917,  475108.20527473,  478692.67972028,\n",
       "         482277.15416583,  485861.62861139,  489446.10305694,\n",
       "         493030.5775025 ,  496615.05194805,  500199.52639361,\n",
       "         503784.00083916,  507368.47528472,  510952.94973027,\n",
       "         514537.42417582,  518121.89862138,  521706.37306693,\n",
       "         525290.84751249,  528875.32195804,  532459.7964036 ,\n",
       "         536044.27084915,  539628.74529471,  543213.21974026,\n",
       "         546797.69418581,  550382.16863137,  553966.64307692,\n",
       "         557551.11752248,  561135.59196803,  564720.06641359,\n",
       "         568304.54085914,  571889.0153047 ,  575473.48975025,\n",
       "         579057.9641958 ,  582642.43864136,  586226.91308691]),\n",
       " <a list of 1 Patch objects>)"
      ]
     },
     "execution_count": 16,
     "metadata": {},
     "output_type": "execute_result"
    },
    {
     "data": {
      "image/png": "[encoded data removed]",
      "text/plain": [
       "<matplotlib.figure.Figure at 0x7f2534c8f978>"
      ]
     },
     "metadata": {},
     "output_type": "display_data"
    }
   ],
   "source": [
    "fig, ax = plt.subplots(1, 1)\n",
    "ax.hist(adj_estimates, normed=True, histtype='stepfilled', alpha=0.2, bins=50)"
   ]
  },
  {
   "cell_type": "code",
   "execution_count": 17,
   "metadata": {},
   "outputs": [
    {
     "data": {
      "text/plain": [
       "Counter({1: 156473, 2: 39204, 3: 6373, 4: 758, 5: 73, 6: 6})"
      ]
     },
     "execution_count": 17,
     "metadata": {},
     "output_type": "execute_result"
    }
   ],
   "source": [
    "from collections import Counter\n",
    "sampled_ids = []\n",
    "samples = 26\n",
    "for _ in range(samples):\n",
    "    s = set(sample(rvs, n))\n",
    "    sampled_ids.extend(s)\n",
    "z = Counter(Counter(sampled_ids).values())\n",
    "z"
   ]
  },
  {
   "cell_type": "code",
   "execution_count": 21,
   "metadata": {},
   "outputs": [
    {
     "name": "stdout",
     "output_type": "stream",
     "text": [
      "1 0.312946 0.2505480178688975\n",
      "2 0.078408 0.16255994286297318\n",
      "3 0.012746 0.11893927506668758\n",
      "4 0.001516 0.09630606860158311\n",
      "5 0.000146 0.0821917808219178\n",
      "6 1.2e-05 0.0\n"
     ]
    }
   ],
   "source": [
    "for i in z.keys():\n",
    "    print(i, z[i]/N, z[i+1]/z[i])"
   ]
  },
  {
   "cell_type": "code",
   "execution_count": null,
   "metadata": {
    "collapsed": true
   },
   "outputs": [],
   "source": []
  }
 ],
 "metadata": {
  "kernelspec": {
   "display_name": "Python 3",
   "language": "python",
   "name": "python3"
  },
  "language_info": {
   "codemirror_mode": {
    "name": "ipython",
    "version": 3
   },
   "file_extension": ".py",
   "mimetype": "text/x-python",
   "name": "python",
   "nbconvert_exporter": "python",
   "pygments_lexer": "ipython3",
   "version": "3.5.2"
  }
 },
 "nbformat": 4,
 "nbformat_minor": 2
}
