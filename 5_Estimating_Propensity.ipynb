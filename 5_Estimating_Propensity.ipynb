{
 "cells": [
  {
   "cell_type": "markdown",
   "metadata": {},
   "source": [
    "### Loading data\n",
    "\n",
    "Below we have the code that retrieves the data from the  Mechanical Turk Tracker Demographics API."
   ]
  },
  {
   "cell_type": "code",
   "execution_count": 1,
   "metadata": {},
   "outputs": [
    {
     "data": {
      "text/plain": [
       "gender                             object\n",
       "hit_answered_date          datetime64[ns]\n",
       "hit_creation_date          datetime64[ns]\n",
       "household_income                 category\n",
       "household_size                   category\n",
       "location_city                      object\n",
       "location_country                 category\n",
       "location_region                    object\n",
       "marital_status                   category\n",
       "post_to_completion_secs           float64\n",
       "worker_id                          object\n",
       "year_of_birth                       int64\n",
       "date                               object\n",
       "time                               object\n",
       "dtype: object"
      ]
     },
     "execution_count": 1,
     "metadata": {},
     "output_type": "execute_result"
    }
   ],
   "source": [
    "import pandas as pd\n",
    "df = pd.read_csv(\"mturk_surveys.csv\")\n",
    "df.drop(df.columns[0], axis=1, inplace=True) # drop the \"index\" column\n",
    "# We now transform our API answer into a flat table\n",
    "# and set the right data types\n",
    "df[\"hit_answered_date\"]=pd.to_datetime(df[\"hit_answered_date\"])\n",
    "df[\"hit_creation_date\"]=pd.to_datetime(df[\"hit_creation_date\"])\n",
    "df[\"household_income\"]=df[\"household_income\"].astype(\"category\")\n",
    "df[\"household_size\"]=df[\"household_size\"].astype(\"category\")\n",
    "df[\"location_country\"]=df[\"location_country\"].astype(\"category\")\n",
    "df[\"marital_status\"]=df[\"marital_status\"].astype(\"category\")\n",
    "df['date'] = df['hit_answered_date'].apply(lambda x : x.date())\n",
    "df['time'] = df['hit_answered_date'].apply(lambda x : x.time())\n",
    "df.dtypes"
   ]
  },
  {
   "cell_type": "code",
   "execution_count": 2,
   "metadata": {},
   "outputs": [
    {
     "name": "stdout",
     "output_type": "stream",
     "text": [
      "2015-03-26 11:47:28.877000\n",
      "2017-06-17 02:38:50.413000\n",
      "813\n"
     ]
    }
   ],
   "source": [
    "import datetime\n",
    "minDate = min(df['hit_answered_date'])\n",
    "maxDate = max(df['hit_answered_date'])\n",
    "days = (maxDate - minDate).days\n",
    "print(minDate)\n",
    "print(maxDate)\n",
    "print(days)"
   ]
  },
  {
   "cell_type": "code",
   "execution_count": 3,
   "metadata": {
    "collapsed": true
   },
   "outputs": [],
   "source": [
    "from time import gmtime, strftime\n",
    "def t():\n",
    "    print(strftime(\"%Y-%m-%d %H:%M:%S\", gmtime()))\n",
    "    "
   ]
  },
  {
   "cell_type": "markdown",
   "metadata": {},
   "source": [
    "### Exploratory plots"
   ]
  },
  {
   "cell_type": "code",
   "execution_count": 4,
   "metadata": {
    "collapsed": true
   },
   "outputs": [],
   "source": [
    "%matplotlib inline\n",
    "import matplotlib as mpl\n",
    "import matplotlib.pyplot as plt\n",
    "import seaborn as sns\n",
    "\n",
    "sns.set_style(\"whitegrid\")\n",
    "mpl.rc(\"figure\", figsize=(16, 8))"
   ]
  },
  {
   "cell_type": "markdown",
   "metadata": {},
   "source": [
    "### New Worker IDs discovered"
   ]
  },
  {
   "cell_type": "code",
   "execution_count": 5,
   "metadata": {
    "collapsed": true
   },
   "outputs": [],
   "source": [
    "def getWorkerIDs(df, startDate, endDate):\n",
    "    '''\n",
    "    Returns the set of distinct workers that participated in the surveys between the two dates\n",
    "    '''\n",
    "    return set(df[\"worker_id\"][(df['hit_answered_date']>=startDate) & (df['hit_answered_date']<endDate)])\n"
   ]
  },
  {
   "cell_type": "code",
   "execution_count": 6,
   "metadata": {
    "collapsed": true
   },
   "outputs": [],
   "source": [
    "dates = sorted(set(df['date']))\n",
    "\n",
    "results = []\n",
    "for d in dates:\n",
    "    w = len(getWorkerIDs(df, minDate, d))\n",
    "    results.append( {'date':d, 'workers': w})"
   ]
  },
  {
   "cell_type": "code",
   "execution_count": 7,
   "metadata": {},
   "outputs": [
    {
     "data": {
      "text/plain": [
       "<matplotlib.axes._subplots.AxesSubplot at 0x7f39d9401e48>"
      ]
     },
     "execution_count": 7,
     "metadata": {},
     "output_type": "execute_result"
    },
    {
     "data": {
      "image/png": "[encoded data removed]",
      "text/plain": [
       "<matplotlib.figure.Figure at 0x7f39d94017b8>"
      ]
     },
     "metadata": {},
     "output_type": "display_data"
    }
   ],
   "source": [
    "    \n",
    "workers = pd.DataFrame(results)\n",
    "workers.set_index('date', inplace = True)\n",
    "workers.plot()"
   ]
  },
  {
   "cell_type": "markdown",
   "metadata": {},
   "source": [
    "### Selection bias\n",
    "\n",
    "The analysis above indicated that we should expect to see around 10K-15K workers on Mechanical Turk, with an average half-life of around a year and a half. Over the last two years, this means around 35K-40K workers total. \n",
    "\n",
    "Out of these workers , every month, we survey around $24*4*30 \\approx 3K$ workers, for a total of around 80K surveys so far.\n",
    "\n",
    "If every worker had uniform chance of participating, we would have expected that on average we would see each worker twice.\n",
    "\n",
    "\n",
    "\n"
   ]
  },
  {
   "cell_type": "code",
   "execution_count": 8,
   "metadata": {},
   "outputs": [
    {
     "data": {
      "text/plain": [
       "79932"
      ]
     },
     "execution_count": 8,
     "metadata": {},
     "output_type": "execute_result"
    }
   ],
   "source": [
    "len(df)"
   ]
  },
  {
   "cell_type": "code",
   "execution_count": 9,
   "metadata": {},
   "outputs": [
    {
     "data": {
      "text/plain": [
       "52629358bb4b600cd895af4db743e93a    34\n",
       "b2eb9a410e941c1325823ecbceaef077    27\n",
       "6debc0eceec45c93a8ad66f0359985d2    27\n",
       "8d581e715b2ca964b55dc6ec3a02f7bc    27\n",
       "cc15e2c74af011007361cef2b44fd33f    26\n",
       "b1f852d1ef0dfceda899291ab02cc02a    26\n",
       "9209bd16839ff33192078642796f4bfe    26\n",
       "b5dc717d9945a468fb14ae696303ef49    26\n",
       "d0affb3378f77c9500772f1d90efb7a1    26\n",
       "1e4879a728be7fae0d8181abaea1130c    26\n",
       "98a18b3a53eb273babecb5ff88bee6dc    26\n",
       "e5c4b601c2c07256dc55d8f631f73435    26\n",
       "f5897a5c69cd5c423a68fa0197ee0494    26\n",
       "5b044cf509da1d8444b6f60c465240ef    26\n",
       "1eea49ef4ad993a73014bd8f43a8064f    26\n",
       "94ecb8b915f9c6b5ed89678d78dba6f1    26\n",
       "217879bd34b347905ace684b75025c31    26\n",
       "51ae3104189737180aa3e0bb89f9010c    26\n",
       "8c4f8c21aeddff5e706d66126195d973    25\n",
       "9a62370e8624c6a4042f8be623a03bce    25\n",
       "49f024fa54e56dc620653bac007e88ca    25\n",
       "8e4ce5263b2b43ec70f532b6d58522f8    25\n",
       "8c23a41762a5cf37dcf6f9563ea1a054    25\n",
       "a82df0f35d79cb92b986f092f88854b8    25\n",
       "2f78fc62fa7c0751776991010210fcdd    25\n",
       "f04872a22a48af0c0c6bcdf02c4a8b59    25\n",
       "a950480dc6dfc26d05a482ac803544c2    25\n",
       "b6f3b853309e6a3a41d62f10962cfaed    24\n",
       "dd6b93328b95f5c7b796b9d2c11d191b    24\n",
       "c055c03bfe1f9157466efc5201776236    24\n",
       "                                    ..\n",
       "772e83eb3e0aa7fe32f3700b502c451b     1\n",
       "da2c3233693d87ea215058bb1e232210     1\n",
       "d0f39d6275b19eebd440b1910e5749a7     1\n",
       "1da6b39c1f576b0881a3c6c991ef6e71     1\n",
       "d22fe770b9e88ed0cc310a3d64998d3b     1\n",
       "63eeaa64ce09284fd407086ee562ba31     1\n",
       "3f435257401fd468db27085aed500b18     1\n",
       "0f32b85abac9578b2c47738f12edad15     1\n",
       "4fe84e1c099d5f9cd54f2052247b4526     1\n",
       "8dc7ee4f0d64aeee134eba65027b5976     1\n",
       "1f41d8ea794898d006a785979e400010     1\n",
       "c2e2f95f310f1b5f25ca05aa45f786af     1\n",
       "c14dc4e2d2e72449c867bea7d7e3cb52     1\n",
       "4c944d237ebc270cff8ae5f551d535aa     1\n",
       "7890371ac2c2d850d1dae323f2b24f4b     1\n",
       "a1b6504692de2d78cd300cb64eee8483     1\n",
       "68aaa82ae6125a427494c2093d6fa90e     1\n",
       "7e253dbc65f95335c4bdcf41ca68f34b     1\n",
       "80c6cfcf43ef97b13b816caf868f0de8     1\n",
       "b6d8b92aa0c1c9706aac4e1862429223     1\n",
       "9e42685de7baacfbaac95e1bddf109e7     1\n",
       "d79a35d61256526ba0aa6ecfedfdb306     1\n",
       "afb71576e55ce2f0d616c7d618289ba5     1\n",
       "cd9b644ae55a8a13db02a064c3054152     1\n",
       "7f3b85759c759631f1b5f241bd3ef888     1\n",
       "41c40a56722ff40672cb258c254fea38     1\n",
       "9effc1d173adc91cf5eb8717a2e68de0     1\n",
       "a464306643cd0bb59833f1f3639d4728     1\n",
       "52f80b8f6390d5bd6049b7b8469663a3     1\n",
       "a99bb4f2282e2fc17f3965392af150cb     1\n",
       "Name: worker_id, Length: 37830, dtype: int64"
      ]
     },
     "execution_count": 9,
     "metadata": {},
     "output_type": "execute_result"
    }
   ],
   "source": [
    "# How often do we see each worker?\n",
    "df['worker_id'].value_counts()"
   ]
  },
  {
   "cell_type": "code",
   "execution_count": 50,
   "metadata": {
    "collapsed": true
   },
   "outputs": [],
   "source": [
    "# Let's compute the frequency of captures\n",
    "x = df['worker_id'].value_counts().value_counts()"
   ]
  },
  {
   "cell_type": "code",
   "execution_count": 51,
   "metadata": {},
   "outputs": [
    {
     "data": {
      "text/plain": [
       "<matplotlib.axes._subplots.AxesSubplot at 0x7f39d6bb5630>"
      ]
     },
     "execution_count": 51,
     "metadata": {},
     "output_type": "execute_result"
    },
    {
     "data": {
      "image/png": "[encoded data removed]",
      "text/plain": [
       "<matplotlib.figure.Figure at 0x7f39d68d1da0>"
      ]
     },
     "metadata": {},
     "output_type": "display_data"
    }
   ],
   "source": [
    "# Plot the above\n",
    "df['worker_id'].value_counts().value_counts().sort_index().reset_index().plot.scatter(x='index', y='worker_id', logy=True)"
   ]
  },
  {
   "cell_type": "code",
   "execution_count": 52,
   "metadata": {},
   "outputs": [
    {
     "data": {
      "text/plain": [
       "<matplotlib.axes._subplots.AxesSubplot at 0x7f39d683db38>"
      ]
     },
     "execution_count": 52,
     "metadata": {},
     "output_type": "execute_result"
    },
    {
     "data": {
      "image/png": "[encoded data removed]",
      "text/plain": [
       "<matplotlib.figure.Figure at 0x7f39d6774240>"
      ]
     },
     "metadata": {},
     "output_type": "display_data"
    }
   ],
   "source": [
    "cnt = pd.DataFrame(x).reset_index()\n",
    "cnt['index'] = cnt['index']/cnt['index'].max()\n",
    "cnt.plot.scatter(x='index', y='worker_id', logy=True, logx=True)"
   ]
  },
  {
   "cell_type": "code",
   "execution_count": 53,
   "metadata": {},
   "outputs": [
    {
     "name": "stderr",
     "output_type": "stream",
     "text": [
      "/usr/local/lib/python3.5/dist-packages/scipy/stats/_continuous_distns.py:404: RuntimeWarning: invalid value encountered in sqrt\n",
      "  sk = 2*(b-a)*np.sqrt(a + b + 1) / (a + b + 2) / np.sqrt(a*b)\n",
      "/usr/local/lib/python3.5/dist-packages/scipy/optimize/minpack.py:161: RuntimeWarning: The iteration is not making good progress, as measured by the \n",
      "  improvement from the last ten iterations.\n",
      "  warnings.warn(msg, RuntimeWarning)\n"
     ]
    },
    {
     "data": {
      "text/plain": [
       "(0.3083476686096705,\n",
       " 38.474277602014823,\n",
       " 0.029411764705882349,\n",
       " 2.4469911900863766)"
      ]
     },
     "execution_count": 53,
     "metadata": {},
     "output_type": "execute_result"
    }
   ],
   "source": [
    "# Let's try to fit directly a beta distribution on the counts:\n",
    "import scipy\n",
    "import random\n",
    "\n",
    "data = []\n",
    "mx_freq = max(x.index)\n",
    "for i,v in x.iteritems():\n",
    "    tmp = [i/mx_freq] * v\n",
    "    data.extend(tmp)\n",
    "    \n",
    "random.shuffle(data)\n",
    "\n",
    "scipy.stats.beta.fit(data, scale=1, loc=0)"
   ]
  },
  {
   "cell_type": "code",
   "execution_count": 99,
   "metadata": {
    "collapsed": true
   },
   "outputs": [],
   "source": [
    "# We can also try a variety of other distributions and find hte best fit.\n",
    "\n",
    "import numpy as np\n",
    "import scipy.stats as st\n",
    "import statsmodels as sm\n",
    "import warnings\n",
    "import sys\n",
    "\n",
    "# Create models from data\n",
    "def best_fit_distribution(data, bins=27, ax=None):\n",
    "    \"\"\"Model data by finding best fit distribution to data\"\"\"\n",
    "    # Get histogram of original data\n",
    "    y, x = np.histogram(data, bins=bins, density=True)\n",
    "    x = (x + np.roll(x, -1))[:-1] / 2.0\n",
    "\n",
    "    # Distributions to check\n",
    "    '''\n",
    "    DISTRIBUTIONS = [        \n",
    "        st.alpha,st.anglit,st.arcsine,st.beta,st.betaprime,st.bradford,st.burr,st.cauchy,st.chi,st.chi2,st.cosine,\n",
    "        st.dgamma,st.dweibull,st.erlang,st.expon,st.exponnorm,st.exponweib,st.exponpow,st.f,st.fatiguelife,st.fisk,\n",
    "        st.foldcauchy,st.foldnorm,st.frechet_r,st.frechet_l,st.genlogistic,st.genpareto,st.gennorm,st.genexpon,\n",
    "        st.genextreme,st.gausshyper,st.gamma,st.gengamma,st.genhalflogistic,st.gilbrat,st.gompertz,st.gumbel_r,\n",
    "        st.gumbel_l,st.halfcauchy,st.halflogistic,st.halfnorm,st.halfgennorm,st.hypsecant,st.invgamma,st.invgauss,\n",
    "        st.invweibull,st.johnsonsb,st.johnsonsu,st.ksone,st.kstwobign,st.laplace,st.levy,st.levy_l,st.levy_stable,\n",
    "        st.logistic,st.loggamma,st.loglaplace,st.lognorm,st.lomax,st.maxwell,st.mielke,st.nakagami,st.ncx2,st.ncf,\n",
    "        st.nct,st.norm,st.pareto,st.pearson3,st.powerlaw,st.powerlognorm,st.powernorm,st.rdist,st.reciprocal,\n",
    "        st.rayleigh,st.rice,st.recipinvgauss,st.semicircular,st.t,st.triang,st.truncexpon,st.truncnorm,st.tukeylambda,\n",
    "        st.uniform,st.vonmises,st.vonmises_line,st.wald,st.weibull_min,st.weibull_max,st.wrapcauchy\n",
    "    ]\n",
    "    '''\n",
    "    DISTRIBUTIONS = [        \n",
    "        st.beta,st.expon,st.exponnorm,st.lognorm,st.lomax,st.powerlaw,st.powerlognorm,st.powernorm\n",
    "    ]\n",
    "\n",
    "    # Best holders\n",
    "    best_distribution = st.norm\n",
    "    best_params = (0.0, 1.0)\n",
    "    best_sse = np.inf\n",
    "    #best_p = np.inf\n",
    "\n",
    "    # Estimate distribution parameters from data\n",
    "    for distribution in DISTRIBUTIONS:\n",
    "        # print(distribution)\n",
    "\n",
    "        # Try to fit the distribution\n",
    "        try:\n",
    "            # Ignore warnings from data that can't be fit\n",
    "            with warnings.catch_warnings():\n",
    "                warnings.filterwarnings('ignore')\n",
    "\n",
    "                # fit dist to data\n",
    "                params = distribution.fit(data, fscale=1)\n",
    "\n",
    "                # Separate parts of parameters\n",
    "                arg = params[:-2]\n",
    "                loc = params[-2]\n",
    "                scale = params[-1]\n",
    "\n",
    "                # Calculate fitted PDF and error with fit in distribution\n",
    "                pdf = distribution.pdf(x, loc=loc, scale=scale, *arg)\n",
    "                #cdf = distribution.cdf(x, loc=loc, scale=scale, *arg)\n",
    "                sse = np.sum(np.power(y - pdf, 2.0))\n",
    "                aic = 2*len(params) + np.sum ( distribution.logpdf(data, loc=loc, scale=scale, *arg) )\n",
    "                #ks = st.kstest(y, cdf)\n",
    "\n",
    "                # if axis pass in add to plot\n",
    "                try:\n",
    "                    if ax:\n",
    "                        pd.Series(pdf, x).plot(ax=ax)\n",
    "                    end\n",
    "                except Exception:\n",
    "                    pass\n",
    "\n",
    "                # identify if this distribution is better\n",
    "                if best_sse > sse > 0:\n",
    "                    best_distribution = distribution\n",
    "                    best_params = params\n",
    "                    best_sse = sse\n",
    "                    \n",
    "                print(\"{0}, [{1}], {2:3,.2f}, {3:3,.2f}\".format(distribution.name, params, sse, aic))\n",
    "\n",
    "        except Exception as e:\n",
    "            print(sys.exc_info()[0])\n",
    "            pass\n",
    "\n",
    "    return (best_distribution.name, best_params)\n"
   ]
  },
  {
   "cell_type": "code",
   "execution_count": 100,
   "metadata": {},
   "outputs": [
    {
     "name": "stdout",
     "output_type": "stream",
     "text": [
      "beta, [(0.28944199883015281, 20.923782505927392, 0.029411764705882349, 1)], 175.85, 702,768.17\n",
      "expon, [(0.029411764667400316, 1)], 473.45, -1,234.29\n",
      "exponnorm, [(0.026545725078731802, 0.035584897868591536, 1)], inf, -34,889.68\n",
      "lognorm, [(6.6712518578187749, 0.029411764705882349, 1)], 393.30, 480,084.56\n",
      "lomax, [(33.630562240013106, 0.02941176470584457, 1)], 34.53, 94,040.13\n",
      "powerlaw, [(0.063487724556662906, 0.029411764705882349, 1)], 394.88, 872,534.82\n",
      "powerlognorm, [(4.9382013490525276, 9.4931677970797423, 0.029411764705882349, 1)], 421.75, 733,557.75\n",
      "powernorm, [(41993416.527364962, 5.5575888108134386, 1)], 430.22, 20,180.11\n",
      "===================\n",
      "lomax (33.630562240013106, 0.02941176470584457, 1)\n"
     ]
    }
   ],
   "source": [
    "# Find best fit distribution\n",
    "best_fit_name, best_fit_paramms = best_fit_distribution(data, 27)\n",
    "best_dist = getattr(st, best_fit_name)\n",
    "\n",
    "print(\"===================\")\n",
    "print(best_fit_name, best_fit_paramms)"
   ]
  },
  {
   "cell_type": "code",
   "execution_count": 101,
   "metadata": {},
   "outputs": [
    {
     "data": {
      "text/plain": [
       "95253.26843134017"
      ]
     },
     "execution_count": 101,
     "metadata": {},
     "output_type": "execute_result"
    }
   ],
   "source": [
    "# This is from Chao 1987, equation 10.\n",
    "# This provides a lower bound on the population\n",
    "# The assumptions in that paper, for the derivation of this estimator are still not great\n",
    "# as it assumes that the number of captures (sample periods) is large and that probability\n",
    "# of capture (propensity) is small. This does not work for the right tail (the heavy hitters)\n",
    "\n",
    "S = 37830\n",
    "f1 = 25070\n",
    "f2 = 5642\n",
    "f3 = 2346\n",
    "t = 27\n",
    "m1 = 2 * f2/f1\n",
    "m2 = 6* f3/f1\n",
    "\n",
    "N = S + f1**2 / (2*f2) * (( 1 - m1/t)/(1-m2/(t*m1)))\n",
    "N "
   ]
  },
  {
   "cell_type": "code",
   "execution_count": 74,
   "metadata": {
    "collapsed": true
   },
   "outputs": [],
   "source": [
    "# Let's compute the frequency of captures\n",
    "f = df['worker_id'].value_counts().value_counts()\n",
    "f = f.drop(34) # dropping the outlier, this is a data point that should not have existed"
   ]
  },
  {
   "cell_type": "code",
   "execution_count": 75,
   "metadata": {
    "collapsed": true
   },
   "outputs": [],
   "source": [
    "# If we assume that the distribution of the propensities follows a Beta distribution,\n",
    "# then the counts will follow a Beta-Binomial distribution\n",
    "# See https://en.wikipedia.org/wiki/Beta-binomial_distribution\n"
   ]
  },
  {
   "cell_type": "code",
   "execution_count": 76,
   "metadata": {
    "collapsed": true
   },
   "outputs": [],
   "source": [
    "from scipy.special import gammaln\n",
    "def beta_binom_density_ln(k, n, alpha, beta):\n",
    "    Ad = beta\n",
    "    Bd = alpha\n",
    "    An = n - k + beta\n",
    "    Bn = k + alpha\n",
    "    num = gammaln(An) + gammaln(Bn) - gammaln(An+Bn)\n",
    "    den = gammaln(Ad) + gammaln(Bd) - gammaln(Ad+Bd)    \n",
    "    log = np.log(scipy.special.comb(n,k)) + num - den\n",
    "    return np.exp(log)"
   ]
  },
  {
   "cell_type": "code",
   "execution_count": 1,
   "metadata": {},
   "outputs": [
    {
     "ename": "NameError",
     "evalue": "name 'f' is not defined",
     "output_type": "error",
     "traceback": [
      "\u001b[0;31m---------------------------------------------------------------------------\u001b[0m",
      "\u001b[0;31mNameError\u001b[0m                                 Traceback (most recent call last)",
      "\u001b[0;32m<ipython-input-1-7864068d6d42>\u001b[0m in \u001b[0;36m<module>\u001b[0;34m()\u001b[0m\n\u001b[1;32m      2\u001b[0m \u001b[0;31m# See https://en.wikipedia.org/wiki/Beta-binomial_distribution#Point_estimates\u001b[0m\u001b[0;34m\u001b[0m\u001b[0;34m\u001b[0m\u001b[0m\n\u001b[1;32m      3\u001b[0m \u001b[0;34m\u001b[0m\u001b[0m\n\u001b[0;32m----> 4\u001b[0;31m \u001b[0mt\u001b[0m \u001b[0;34m=\u001b[0m \u001b[0mmax\u001b[0m\u001b[0;34m(\u001b[0m\u001b[0mf\u001b[0m\u001b[0;34m.\u001b[0m\u001b[0mindex\u001b[0m\u001b[0;34m)\u001b[0m\u001b[0;34m\u001b[0m\u001b[0m\n\u001b[0m\u001b[1;32m      5\u001b[0m \u001b[0mdistinct\u001b[0m \u001b[0;34m=\u001b[0m \u001b[0msum\u001b[0m \u001b[0;34m(\u001b[0m \u001b[0;34m[\u001b[0m\u001b[0mf\u001b[0m\u001b[0;34m[\u001b[0m\u001b[0mi\u001b[0m\u001b[0;34m]\u001b[0m \u001b[0;32mfor\u001b[0m \u001b[0mi\u001b[0m \u001b[0;32min\u001b[0m \u001b[0mf\u001b[0m\u001b[0;34m.\u001b[0m\u001b[0mindex\u001b[0m\u001b[0;34m]\u001b[0m \u001b[0;34m)\u001b[0m\u001b[0;34m\u001b[0m\u001b[0m\n\u001b[1;32m      6\u001b[0m \u001b[0mm1\u001b[0m \u001b[0;34m=\u001b[0m \u001b[0msum\u001b[0m\u001b[0;34m(\u001b[0m\u001b[0;34m[\u001b[0m \u001b[0mi\u001b[0m \u001b[0;34m*\u001b[0m \u001b[0mf\u001b[0m\u001b[0;34m[\u001b[0m\u001b[0mi\u001b[0m\u001b[0;34m]\u001b[0m \u001b[0;32mfor\u001b[0m \u001b[0mi\u001b[0m \u001b[0;32min\u001b[0m \u001b[0mf\u001b[0m\u001b[0;34m.\u001b[0m\u001b[0mindex\u001b[0m\u001b[0;34m]\u001b[0m\u001b[0;34m)\u001b[0m \u001b[0;34m/\u001b[0m \u001b[0mdistinct\u001b[0m\u001b[0;34m\u001b[0m\u001b[0m\n",
      "\u001b[0;31mNameError\u001b[0m: name 'f' is not defined"
     ]
    }
   ],
   "source": [
    "# Using the method of moments, we can try to fit directly:\n",
    "# See https://en.wikipedia.org/wiki/Beta-binomial_distribution#Point_estimates\n",
    "\n",
    "t = max(f.index)\n",
    "distinct = sum ( [f[i] for i in f.index] )\n",
    "m1 = sum([ i * f[i] for i in f.index]) / distinct\n",
    "m2 = sum([ i*i * f[i] for i in f.index]) / distinct\n",
    "# print(m1, m2)\n",
    "a = (t * m1 - m2) / (( t * (m2/m1) - m1 -1 ) + m1)\n",
    "print(a)\n",
    "\n",
    "b = (t - m1) * ( t  - m2/m1) / (( t * (m2/m1) - m1 -1 ) + m1)\n",
    "print(b)"
   ]
  },
  {
   "cell_type": "code",
   "execution_count": 78,
   "metadata": {},
   "outputs": [
    {
     "data": {
      "text/plain": [
       "0.50689634635410974"
      ]
     },
     "execution_count": 78,
     "metadata": {},
     "output_type": "execute_result"
    }
   ],
   "source": [
    "# This is the probability that a user from the population\n",
    "# is sampled 0 times\n",
    "# The one beloe is with the parameters estimated using the method of moments\n",
    "beta_binom_density_ln(0, t, a, b)"
   ]
  },
  {
   "cell_type": "code",
   "execution_count": 104,
   "metadata": {},
   "outputs": [
    {
     "data": {
      "text/plain": [
       "0.78403171641375802"
      ]
     },
     "execution_count": 104,
     "metadata": {},
     "output_type": "execute_result"
    }
   ],
   "source": [
    "# The one below is estimated through fitting on the MLE estimates for each user\n",
    "beta_binom_density_ln(0, t, 0.29, 20.9)"
   ]
  },
  {
   "cell_type": "code",
   "execution_count": 105,
   "metadata": {},
   "outputs": [
    {
     "name": "stdout",
     "output_type": "stream",
     "text": [
      "176430.408719\n"
     ]
    }
   ],
   "source": [
    "# We now need to estimate the value of f[0], which is the number of workers that we have not seen\n",
    "# That is equal to  beta_binom_density_ln(0, t, a, b) * N\n",
    "# The remaining workers that we have seen is distinct = N * ( 1-  beta_binom_density_ln(0, t, a, b))\n",
    "\n",
    "N  = distinct / (1 - beta_binom_density_ln(0, t, a, b))\n",
    "print(N)"
   ]
  },
  {
   "cell_type": "code",
   "execution_count": 106,
   "metadata": {},
   "outputs": [
    {
     "name": "stdout",
     "output_type": "stream",
     "text": [
      "N_01 = 194,598.40\n",
      "N_02 = 118,697.41\n",
      "N_03 = 115,435.82\n",
      "N_04 = 136,243.17\n",
      "N_05 = 180,656.21\n",
      "N_06 = 273,805.00\n",
      "N_07 = 443,285.00\n",
      "N_08 = 719,243.80\n",
      "N_09 = 1,156,411.94\n",
      "N_10 = 2,138,558.67\n",
      "N_11 = 3,833,765.96\n",
      "N_12 = 7,636,423.81\n",
      "N_13 = 13,440,623.19\n",
      "N_14 = 31,791,147.02\n",
      "N_16 = 199,710,934.75\n",
      "N_15 = 63,838,177.08\n",
      "N_18 = 1,167,083,331.00\n",
      "N_17 = 364,391,260.93\n",
      "N_19 = 2,502,400,299.32\n",
      "N_20 = 8,555,784,358.59\n",
      "N_21 = 33,033,427,775.01\n",
      "N_22 = 83,338,170,766.46\n",
      "N_23 = 414,670,987,934.02\n",
      "N_26 = 135,457,710,183,515.14\n",
      "N_24 = 1,293,174,988,144.76\n",
      "N_25 = 8,025,451,336,116.28\n",
      "N_27 = 599,420,248,830,679.12\n"
     ]
    }
   ],
   "source": [
    "## These are additional estimates based on the difference of the count vs the expected count \n",
    "## for various frequencies\n",
    "\n",
    "import scipy.special\n",
    "import math\n",
    "\n",
    "# Fitting on the MLE estimate for each user\n",
    "a = 0.28\n",
    "b = 20.1\n",
    "\n",
    "# Fitting using Method of Moments for Beta-Binomial\n",
    "a = 0.3\n",
    "b = 3.6\n",
    "\n",
    "N_approx = dict()\n",
    "for i in f.index:\n",
    "    #print(\"==========================\")\n",
    "    # e_fi = scipy.special.comb(t, i) * scipy.special.beta(a+i, t-i+b) / scipy.special.beta(a, b)\n",
    "    e_fi = beta_binom_density_ln(i, t, a, b)\n",
    "    # print(st.beta.moment(i, a, b))\n",
    "    # print(e_fi)\n",
    "    N_approx[i] = f[i]  / e_fi\n",
    "    print(\"N_{i:02d} = {approx:10,.2f}\". format(i=i, approx=N_approx[i]))\n",
    "    "
   ]
  },
  {
   "cell_type": "code",
   "execution_count": null,
   "metadata": {
    "collapsed": true
   },
   "outputs": [],
   "source": []
  },
  {
   "cell_type": "code",
   "execution_count": null,
   "metadata": {
    "collapsed": true
   },
   "outputs": [],
   "source": []
  }
 ],
 "metadata": {
  "kernelspec": {
   "display_name": "Python 3",
   "language": "python",
   "name": "python3"
  },
  "language_info": {
   "codemirror_mode": {
    "name": "ipython",
    "version": 3
   },
   "file_extension": ".py",
   "mimetype": "text/x-python",
   "name": "python",
   "nbconvert_exporter": "python",
   "pygments_lexer": "ipython3",
   "version": "3.5.2"
  }
 },
 "nbformat": 4,
 "nbformat_minor": 1
}
