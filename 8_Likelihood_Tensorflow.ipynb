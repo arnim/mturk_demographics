{
 "cells": [
  {
   "cell_type": "code",
   "execution_count": 1,
   "metadata": {
    "colab": {
     "autoexec": {
      "startup": false,
      "wait_interval": 0
     }
    },
    "colab_type": "code",
    "id": "Hf1JNmQrClhq"
   },
   "outputs": [],
   "source": [
    "%matplotlib inline\n",
    "import tensorflow as tf\n",
    "import pandas as pd\n",
    "import numpy as np\n",
    "from tqdm import tqdm"
   ]
  },
  {
   "cell_type": "markdown",
   "metadata": {
    "colab_type": "text",
    "id": "wAbsiKr2Clhp"
   },
   "source": [
    "We use the setup from Pledger et al 2010.\n",
    "\n",
    "* $N$ workers in the platform through the period of the study, with different levels of arrival and departure\n",
    "* We have $K$ time periods \n",
    "* We assume memoryless arrivals and departures, with $\\lambda_k$ the arrivals at time $k$ and $\\mu_k$ the departures at time $k$.\n",
    "* Worker $i$ arrives (birth) at time $b_i$ and departs at time $d_i$ (both unobserved)\n",
    "* Each worker has a capture history $C_i = [0 \\ldots 0 1 \\ldots 0 1 0 \\ldots 0 0 0]$, where $H$ is a vector with $K$ binary values, and with $c_{ik}=1$ indicating that the worker $i$  appeared in the survey during the the $k$-th time period. \n",
    "* We use $u_i$ to denote the number of times that we captured the worker. \n",
    "* We use $f_i$ to denote the first time period that we see worker $i$, \n",
    "* We use $l_i$ to denote the last time period that we see worker $i$.\n",
    "* We use $a_i$ for the propensity of worker $i$ to participate in the task. We assume that $a_i$ is distributed according to a Beta distribution $P(a_i) \\propto B(\\alpha, \\beta)$.\n",
    "\n",
    "The likelihood function for a worker that participated at least once is:\n",
    "\n",
    "### $L_i = \\sum_{s=1}^{f_i} \\sum_{q=l_i}^K \\lambda_s \\cdot \\left( \\prod_{v=s}^{q-1} \\left( 1 - \\mu_v \\right) \\right) \\cdot \\mu_q \\cdot R_i(s,q) $\n",
    "\n",
    "where we use $s$ sum index to denote the (unobserved) arrival time, and $q$ to denote the (unobserved) departure time, with the limitation that $s$ is before $f_i$ and $q$ is after $l_i$. (So the part above gives the likelihood of arrival at $s$ and departure times.) \n",
    "\n",
    "Given $s$ and $q$, we know that worker $i$ has participated in $s - q$ \"trials\" with probability of success proportional to $a_i$. When propensity of distributed according to a Beta distribution, then the probability of observing the worker $u_i$ times follows a Beta Binomial distribution.\n",
    "\n",
    "### $R_i(s,q) = f(u_i|n,\\alpha,\\beta) = \\frac{\\Gamma(n+1)}{\\Gamma(u_i+1)\\Gamma(n-u_i+1)} \\frac{\\Gamma(u_i+\\alpha)\\Gamma(n-u_i+\\beta)}{\\Gamma(n+\\alpha+\\beta)}                        \\frac{\\Gamma(\\alpha+\\beta)}{\\Gamma(\\alpha)\\Gamma(\\beta)}$\n",
    "\n",
    "with $n = q-s+1$\n",
    "\n",
    "-----------------------------------------\n",
    "\n",
    "Note: When periods are months, then we are fine. If we go down to days, we will want to remover from $n = s-q$ also the \"blocked\" days. So, if $n=120$ days and the worker has participated 2 times, we will want to also remove 2x30=60 days.\n",
    "\n",
    "------------------------------------\n"
   ]
  },
  {
   "cell_type": "markdown",
   "metadata": {},
   "source": [
    "### Load data"
   ]
  },
  {
   "cell_type": "code",
   "execution_count": 2,
   "metadata": {
    "colab": {
     "autoexec": {
      "startup": false,
      "wait_interval": 0
     }
    },
    "colab_type": "code",
    "id": "hordFQNCClhu"
   },
   "outputs": [],
   "source": [
    "# By uncommenting the lines below we allow for \"eager execution\"\n",
    "# which is useful for debugging, as every command is executed immediately\n",
    "#\n",
    "# import tensorflow.contrib.eager as tfe\n",
    "# tfe.enable_eager_execution()"
   ]
  },
  {
   "cell_type": "code",
   "execution_count": 3,
   "metadata": {
    "colab": {
     "autoexec": {
      "startup": false,
      "wait_interval": 0
     },
     "base_uri": "https://localhost:8080/",
     "height": 390,
     "output_extras": [
      {
       "item_id": 1
      }
     ]
    },
    "colab_type": "code",
    "executionInfo": {
     "elapsed": 1792,
     "status": "ok",
     "timestamp": 1518236468640,
     "user": {
      "displayName": "Panos Ipeirotis",
      "photoUrl": "//lh4.googleusercontent.com/-dIWj8iHQSKU/AAAAAAAAAAI/AAAAAAAC_ik/-lah8-gvNJM/s50-c-k-no/photo.jpg",
      "userId": "103666871486129948108"
     },
     "user_tz": 480
    },
    "id": "qsmIbZsgClhy",
    "outputId": "75b99f53-2c6c-4cc6-a108-385aec4e63a8"
   },
   "outputs": [
    {
     "data": {
      "text/html": [
       "<div>\n",
       "<style scoped>\n",
       "    .dataframe tbody tr th:only-of-type {\n",
       "        vertical-align: middle;\n",
       "    }\n",
       "\n",
       "    .dataframe tbody tr th {\n",
       "        vertical-align: top;\n",
       "    }\n",
       "\n",
       "    .dataframe thead th {\n",
       "        text-align: right;\n",
       "    }\n",
       "</style>\n",
       "<table border=\"1\" class=\"dataframe\">\n",
       "  <thead>\n",
       "    <tr style=\"text-align: right;\">\n",
       "      <th></th>\n",
       "      <th>count</th>\n",
       "      <th>max</th>\n",
       "      <th>min</th>\n",
       "    </tr>\n",
       "    <tr>\n",
       "      <th>index</th>\n",
       "      <th></th>\n",
       "      <th></th>\n",
       "      <th></th>\n",
       "    </tr>\n",
       "  </thead>\n",
       "  <tbody>\n",
       "    <tr>\n",
       "      <th>0</th>\n",
       "      <td>1</td>\n",
       "      <td>6</td>\n",
       "      <td>6</td>\n",
       "    </tr>\n",
       "    <tr>\n",
       "      <th>1</th>\n",
       "      <td>1</td>\n",
       "      <td>15</td>\n",
       "      <td>15</td>\n",
       "    </tr>\n",
       "    <tr>\n",
       "      <th>2</th>\n",
       "      <td>1</td>\n",
       "      <td>3</td>\n",
       "      <td>3</td>\n",
       "    </tr>\n",
       "    <tr>\n",
       "      <th>3</th>\n",
       "      <td>1</td>\n",
       "      <td>1</td>\n",
       "      <td>1</td>\n",
       "    </tr>\n",
       "    <tr>\n",
       "      <th>4</th>\n",
       "      <td>28</td>\n",
       "      <td>29</td>\n",
       "      <td>0</td>\n",
       "    </tr>\n",
       "    <tr>\n",
       "      <th>5</th>\n",
       "      <td>1</td>\n",
       "      <td>17</td>\n",
       "      <td>17</td>\n",
       "    </tr>\n",
       "    <tr>\n",
       "      <th>6</th>\n",
       "      <td>5</td>\n",
       "      <td>14</td>\n",
       "      <td>0</td>\n",
       "    </tr>\n",
       "    <tr>\n",
       "      <th>7</th>\n",
       "      <td>1</td>\n",
       "      <td>9</td>\n",
       "      <td>9</td>\n",
       "    </tr>\n",
       "    <tr>\n",
       "      <th>8</th>\n",
       "      <td>1</td>\n",
       "      <td>22</td>\n",
       "      <td>22</td>\n",
       "    </tr>\n",
       "    <tr>\n",
       "      <th>9</th>\n",
       "      <td>1</td>\n",
       "      <td>29</td>\n",
       "      <td>29</td>\n",
       "    </tr>\n",
       "  </tbody>\n",
       "</table>\n",
       "</div>"
      ],
      "text/plain": [
       "       count  max  min\n",
       "index                 \n",
       "0          1    6    6\n",
       "1          1   15   15\n",
       "2          1    3    3\n",
       "3          1    1    1\n",
       "4         28   29    0\n",
       "5          1   17   17\n",
       "6          5   14    0\n",
       "7          1    9    9\n",
       "8          1   22   22\n",
       "9          1   29   29"
      ]
     },
     "execution_count": 3,
     "metadata": {},
     "output_type": "execute_result"
    }
   ],
   "source": [
    "df = pd.read_csv(\"mturk_surveys.csv\")\n",
    "df[\"hit_answered_date\"]=pd.to_datetime(df[\"hit_answered_date\"])\n",
    "df['date'] = pd.to_datetime(df['hit_answered_date'].apply(lambda x : x.date()))\n",
    "\n",
    "# Create a list of all unique worker IDs \n",
    "workers = pd.DataFrame(list(set(df.worker_id)), columns=['worker_id']).reset_index().set_index('worker_id')\n",
    "I = len(workers)\n",
    "\n",
    "# Calculate the time period of each survey answer. \n",
    "# Below we take out time period to be 30-day periods. \n",
    "# We can change this to be weeks, months, or anything else\n",
    "window_length = 30\n",
    "minDate = min(df['date'])\n",
    "df['period'] = (df['date'] - minDate).dt.days // window_length \n",
    "\n",
    "K = df['period'].max() + 1\n",
    "\n",
    "data = df.pivot_table(\n",
    "    index = 'worker_id',\n",
    "    values = 'period',                    \n",
    "    aggfunc=('count','min','max')\n",
    ").join(workers).set_index('index').sort_index()\n",
    "\n",
    "data.head(10)"
   ]
  },
  {
   "cell_type": "code",
   "execution_count": 4,
   "metadata": {
    "colab": {
     "autoexec": {
      "startup": false,
      "wait_interval": 0
     },
     "base_uri": "https://localhost:8080/",
     "height": 51,
     "output_extras": [
      {
       "item_id": 1
      }
     ]
    },
    "colab_type": "code",
    "executionInfo": {
     "elapsed": 415,
     "status": "ok",
     "timestamp": 1518236469221,
     "user": {
      "displayName": "Panos Ipeirotis",
      "photoUrl": "//lh4.googleusercontent.com/-dIWj8iHQSKU/AAAAAAAAAAI/AAAAAAAC_ik/-lah8-gvNJM/s50-c-k-no/photo.jpg",
      "userId": "103666871486129948108"
     },
     "user_tz": 480
    },
    "id": "Sen09tz4Clh4",
    "outputId": "584d0e06-ecbd-47eb-ce47-278e5337351a"
   },
   "outputs": [
    {
     "name": "stdout",
     "output_type": "stream",
     "text": [
      "K (periods): 36\n",
      "I (workers): 46145\n"
     ]
    }
   ],
   "source": [
    "print(\"K (periods):\", K)\n",
    "print(\"I (workers):\", I)"
   ]
  },
  {
   "cell_type": "markdown",
   "metadata": {},
   "source": [
    "### Improvements / TODO\n",
    "\n",
    "* Make the $\\mu$ amd $\\lambda$ vectors to add up to 1 by definition. Set lmd[0] to be a big value (to capture the fact that many workers are already present then) and then set the rest to be all equal (for now). Do the same for the departure vector but put the big value at the end.\n",
    "\n",
    "* Calculate the $\\lambda_s \\cdot \\prod (1-\\mu_v) \\cdot \\mu_q$ first for all $s$, $q$ values, and then use the masks for each user to eliminate infeasible combinations, given their first and last appearances. Modularize the process in functions.\n",
    "\n",
    "* Calculate the R_i(s,q,u_i) as a function, so that it can be reused when calculating the R_0.\n",
    "\n"
   ]
  },
  {
   "cell_type": "markdown",
   "metadata": {},
   "source": [
    "### Model setup"
   ]
  },
  {
   "cell_type": "code",
   "execution_count": 5,
   "metadata": {
    "colab": {
     "autoexec": {
      "startup": false,
      "wait_interval": 0
     },
     "base_uri": "https://localhost:8080/",
     "height": 34,
     "output_extras": [
      {
       "item_id": 1
      }
     ]
    },
    "colab_type": "code",
    "executionInfo": {
     "elapsed": 317,
     "status": "ok",
     "timestamp": 1518236469827,
     "user": {
      "displayName": "Panos Ipeirotis",
      "photoUrl": "//lh4.googleusercontent.com/-dIWj8iHQSKU/AAAAAAAAAAI/AAAAAAAC_ik/-lah8-gvNJM/s50-c-k-no/photo.jpg",
      "userId": "103666871486129948108"
     },
     "user_tz": 480
    },
    "id": "cyxaSZo2Clh6",
    "outputId": "3d5368a5-f019-4166-9f04-5cfa389fe187"
   },
   "outputs": [
    {
     "data": {
      "text/plain": [
       "<tf.Tensor 'first_time_seen:0' shape=(46145,) dtype=float64>"
      ]
     },
     "execution_count": 5,
     "metadata": {},
     "output_type": "execute_result"
    }
   ],
   "source": [
    "# A vector with I dimensions, describing the first time we saw each of the I observed workers\n",
    "f = tf.placeholder(tf.float64, shape=[I], name=\"first_time_seen\")  \n",
    "# f = tf.constant(data['min'], name=\"first_time_seen\")\n",
    "f"
   ]
  },
  {
   "cell_type": "code",
   "execution_count": 6,
   "metadata": {
    "colab": {
     "autoexec": {
      "startup": false,
      "wait_interval": 0
     },
     "base_uri": "https://localhost:8080/",
     "height": 34,
     "output_extras": [
      {
       "item_id": 1
      }
     ]
    },
    "colab_type": "code",
    "executionInfo": {
     "elapsed": 249,
     "status": "ok",
     "timestamp": 1518236470367,
     "user": {
      "displayName": "Panos Ipeirotis",
      "photoUrl": "//lh4.googleusercontent.com/-dIWj8iHQSKU/AAAAAAAAAAI/AAAAAAAC_ik/-lah8-gvNJM/s50-c-k-no/photo.jpg",
      "userId": "103666871486129948108"
     },
     "user_tz": 480
    },
    "id": "Jr5Oy0aTClh9",
    "outputId": "7f7d8bf6-ff17-41ba-e35c-edf29acca563"
   },
   "outputs": [
    {
     "data": {
      "text/plain": [
       "<tf.Tensor 'last_time_seen:0' shape=(46145,) dtype=float64>"
      ]
     },
     "execution_count": 6,
     "metadata": {},
     "output_type": "execute_result"
    }
   ],
   "source": [
    "# A vector with I dimensions, describing the last time we saw each of the I observed workers\n",
    "l = tf.placeholder(tf.float64, shape=[I], name=\"last_time_seen\")  \n",
    "# l = tf.constant(data['max'], name=\"last_time_seen\")\n",
    "l"
   ]
  },
  {
   "cell_type": "code",
   "execution_count": 7,
   "metadata": {
    "colab": {
     "autoexec": {
      "startup": false,
      "wait_interval": 0
     },
     "base_uri": "https://localhost:8080/",
     "height": 34,
     "output_extras": [
      {
       "item_id": 1
      }
     ]
    },
    "colab_type": "code",
    "executionInfo": {
     "elapsed": 264,
     "status": "ok",
     "timestamp": 1518236470915,
     "user": {
      "displayName": "Panos Ipeirotis",
      "photoUrl": "//lh4.googleusercontent.com/-dIWj8iHQSKU/AAAAAAAAAAI/AAAAAAAC_ik/-lah8-gvNJM/s50-c-k-no/photo.jpg",
      "userId": "103666871486129948108"
     },
     "user_tz": 480
    },
    "id": "feCkLMKoCliA",
    "outputId": "202b8067-f9be-4bcf-8ac6-a30453f9f29a"
   },
   "outputs": [
    {
     "data": {
      "text/plain": [
       "<tf.Tensor 'count:0' shape=(46145,) dtype=float64>"
      ]
     },
     "execution_count": 7,
     "metadata": {},
     "output_type": "execute_result"
    }
   ],
   "source": [
    "# A vector with I dimensions, describing the number of time we saw each of the I observed workers\n",
    "u = tf.placeholder(tf.float64, shape=[I], name=\"count\") \n",
    "# u = tf.constant(data['count'], name=\"count\", dtype=tf.float64)\n",
    "u"
   ]
  },
  {
   "cell_type": "code",
   "execution_count": 8,
   "metadata": {},
   "outputs": [],
   "source": [
    "# The number of unseen workers.\n",
    "# The initialization value is set to 100^2, just to be close to the observed convergence value \n",
    "Uh  = tf.get_variable( dtype=tf.float64, shape=(), name = \"u_hidden\", initializer=tf.constant_initializer(np.sqrt(50000)) ) \n",
    "U = tf.square(Uh, name=\"unseen\")"
   ]
  },
  {
   "cell_type": "code",
   "execution_count": 9,
   "metadata": {
    "colab": {
     "autoexec": {
      "startup": false,
      "wait_interval": 0
     }
    },
    "colab_type": "code",
    "id": "KqgVEOrwCliD"
   },
   "outputs": [],
   "source": [
    "# Propensity distribution parametes (propensity ~ Beta(a,b))\n",
    "# The initialization value is set to 1 and 20, just to be close to the observed convergence values (2.2 and 18.2)\n",
    "ah = tf.get_variable(\"propensity_alpha\", shape=(), dtype=tf.float64, initializer=tf.constant_initializer(np.sqrt(0.5))  )\n",
    "a = tf.square(ah)\n",
    "bh = tf.get_variable(\"propensity_beta\",  shape=(), dtype=tf.float64, initializer=tf.constant_initializer(np.sqrt(18)) )\n",
    "b = tf.square(bh)"
   ]
  },
  {
   "cell_type": "code",
   "execution_count": 10,
   "metadata": {},
   "outputs": [],
   "source": [
    "# This sets the probability of arrival at l0 ~ 0.4\n",
    "# This is based on our prior analysis, indicating that around 4.5% of the population changed every month\n",
    "# So, over 35 months, this is 150% of the initial population will have departed. So, the initial population\n",
    "# at time 0 is approaximately 40% of the overall superpopulation\n",
    "#\n",
    "# because sigmoid(-0.4) ~ 0.4 \n",
    "# https://www.wolframalpha.com/input/?i=sigmoid(x)%3D0.4\n",
    "# lh0 = tf.get_variable(\"arrivals_latent\", shape=[1], dtype=tf.float64, initializer=tf.constant_initializer(-0.4))\n",
    "lh0 = tf.constant(value=[0.4], name=\"arrivals_latent\", shape=[1], dtype=tf.float64)\n",
    "l0 = tf.sigmoid(lh0, name='arrivals_at_zero')\n",
    "# We now create the rest of the arrivals vector \n",
    "# and we assign probability (1-L0)/(K-1) to each of the remaining K-1 elements\n",
    "tmp_l = ((1-l0)/(K-1))\n",
    "logit_lm = tf.log( tmp_l / (1 - tmp_l) )\n",
    "lh = tf.concat( [lh0, logit_lm * tf.ones(K-1, dtype=tf.float64)], axis=0 )\n",
    "# Ensures the values lambda and mu are positive and between 0 and 1\n",
    "lmd = tf.sigmoid(lh, name='arrivals')"
   ]
  },
  {
   "cell_type": "code",
   "execution_count": 11,
   "metadata": {},
   "outputs": [],
   "source": [
    "# Same process now for the departures, but we assign the majority of the probability at the last period\n",
    "# as we expect many workers to be active by then\n",
    "# mhK = tf.constant(\"departures_latent\", shape=[1], dtype=tf.float64, initializer=tf.constant_initializer(-1))\n",
    "# mhK = tf.constant(value=[-0.4], name=\"departures_latent\", shape=[1], dtype=tf.float64)\n",
    "# mK = l0 # tf.sigmoid(mhK, name='departures_at_K')\n",
    "# mK = 1/K # tf.sigmoid(mhK, name='departures_at_K')\n",
    "# tmp_m = ((1-mK)/(K-1))\n",
    "# logit_mu = tf.log( tmp_m / (1 - tmp_m ) )\n",
    "# mh = tf.concat( [logit_mu * tf.ones(K-1, dtype=tf.float64), mhK], axis=0 )\n",
    "# mh = tf.ones( shape=[K], dtype=tf.float64 ) / (1.0*K)\n",
    "# Ensures the values lambda and mu are positive and between 0 and 1\n",
    "# mu  = tf.sigmoid(mh, name='departures')\n",
    "\n",
    "mh0 = tf.get_variable(\"departures_latent\", shape=[1], dtype=tf.float64, initializer=tf.constant_initializer(-0.4))\n",
    "mh  = tf.ones( shape=[K], dtype=tf.float64 ) / (1.0*mh0)\n",
    "mu  = tf.sigmoid(mh, name='departures')"
   ]
  },
  {
   "cell_type": "markdown",
   "metadata": {},
   "source": [
    "### Vectorizing the implementation of likelihood"
   ]
  },
  {
   "cell_type": "markdown",
   "metadata": {
    "colab_type": "text",
    "id": "MdpM1w9UCliN"
   },
   "source": [
    "### $L_i = \\sum_{s=1}^{f_i} \\sum_{q=l_i}^K \\lambda_s \\cdot  \\left( \\prod_{v=s}^{q-1} \\left(1 - \\mu_v\\right) \\right) \\cdot \\mu_q \\cdot  R_i(s,q) $\n",
    "\n",
    "###  $R_i(s,q) = f(u_i|n,\\alpha,\\beta) = \\frac{\\Gamma(n+1)}{\\Gamma(u_i+1)\\Gamma(n-u_i+1)} \\frac{\\Gamma(u_i+\\alpha)\\Gamma(n-u_i+\\beta)}{\\Gamma(n+\\alpha+\\beta)}                        \\frac{\\Gamma(\\alpha+\\beta)}{\\Gamma(\\alpha)\\Gamma(\\beta)}$\n",
    "\n",
    "with $n = q-s+1$\n"
   ]
  },
  {
   "cell_type": "markdown",
   "metadata": {},
   "source": [
    "### Computing the Birth-Death probability for each worker\n",
    "\n",
    "We will start by computing the probability that a given worker arrived at time $s$ and departed at time $q$.\n",
    "\n",
    "We will store the result at a $I \\times K \\times K$ tensor `LD_isq`. The values in this tensor will be the product $\\lambda_s \\cdot  \\left( \\prod_{v=s}^{q-1} \\left(1 - \\mu_v\\right) \\right) \\cdot \\mu_q$, and will be zero for infeasible combinations of $s$ and $q$. For example, if a user was first seen at time $f$, any arrival time $s>f$ is infeasible. Similarly, for departure times, $q<l$ is similarly infeasible."
   ]
  },
  {
   "cell_type": "code",
   "execution_count": 12,
   "metadata": {
    "colab": {
     "autoexec": {
      "startup": false,
      "wait_interval": 0
     }
    },
    "colab_type": "code",
    "id": "TMO41i-pCliU"
   },
   "outputs": [],
   "source": [
    "# To allow for the sums of variable length s .. f_i and l_i...K, we will use binary masks\n",
    "# This allows the products to be defined over a constant set of dimensions (ie. 1..K instead of 1..fi)"
   ]
  },
  {
   "cell_type": "markdown",
   "metadata": {},
   "source": [
    "#### Mask for each worker $i$ to allow only feasible combinations of $s$ and $q$"
   ]
  },
  {
   "cell_type": "code",
   "execution_count": 13,
   "metadata": {},
   "outputs": [
    {
     "data": {
      "text/plain": [
       "<tf.Tensor 'einsum/transpose_2:0' shape=(46145, 36, 36) dtype=float64>"
      ]
     },
     "execution_count": 13,
     "metadata": {},
     "output_type": "execute_result"
    }
   ],
   "source": [
    "# Create masks using the values from f so that for each worker we add the lamda_s until the first appearance\n",
    "s_mask = tf.sequence_mask(f+1, K)\n",
    "s_mask = tf.cast(s_mask, tf.float64)\n",
    "\n",
    "# Create masks using the values from l so that for each worker we add the mu_q from the first appearance until the end\n",
    "q_mask = ~tf.sequence_mask(l, K)\n",
    "q_mask = tf.cast(q_mask, tf.float64)\n",
    "\n",
    "# This is a mask that only allows feasible combinations of s and q for a given worker i\n",
    "# It is effectively the outer product of the s_mask and q_mask, for each worker\n",
    "i_mask = tf.einsum(\"is,iq->isq\", s_mask, q_mask)\n",
    "i_mask"
   ]
  },
  {
   "cell_type": "code",
   "execution_count": 14,
   "metadata": {},
   "outputs": [
    {
     "data": {
      "text/plain": [
       "<tf.Tensor 'Prod:0' shape=(36, 36) dtype=float64>"
      ]
     },
     "execution_count": 14,
     "metadata": {},
     "output_type": "execute_result"
    }
   ],
   "source": [
    "# And create a mask to calculate the product of 1-mu_v\n",
    "# It has as 1 the mu's that need to be in the product, \n",
    "# for arrival at s and departure at q\n",
    "v = np.zeros([K,K,K])\n",
    "for s in np.arange(K):\n",
    "    for q in np.arange(s,K):\n",
    "        c1 = np.zeros(s)\n",
    "        c2 = np.ones(q-s)\n",
    "        c3 = np.zeros(K-q)\n",
    "        v[s,q]= np.concatenate((c1, c2, c3))\n",
    "v_mask = tf.constant(v)\n",
    "# Calculating m_v(s,q) = Prod_s^q-1 mu_v\n",
    "# mu_v[s,q]: Probability of surviving from period s to period q-1\n",
    "# if q-1<s then probability is 1\n",
    "mu_v = tf.pow(1-mu, v_mask)\n",
    "mu_v = tf.reduce_prod(mu_v, axis=2)\n",
    "mu_v"
   ]
  },
  {
   "cell_type": "code",
   "execution_count": 15,
   "metadata": {},
   "outputs": [
    {
     "data": {
      "text/plain": [
       "<tf.Tensor 'einsum_1/transpose_4:0' shape=(36, 36) dtype=float64>"
      ]
     },
     "execution_count": 15,
     "metadata": {},
     "output_type": "execute_result"
    }
   ],
   "source": [
    "# This is a SxQ (ie, KxK) matrix that describes the likelihood of arriving \n",
    "# at time s and departing at time q\n",
    "LD = tf.einsum('s,sq,q->sq', lmd, mu_v, mu)\n",
    "LD"
   ]
  },
  {
   "cell_type": "code",
   "execution_count": 16,
   "metadata": {},
   "outputs": [
    {
     "data": {
      "text/plain": [
       "<tf.Tensor 'einsum_2/transpose_2:0' shape=(46145, 36, 36) dtype=float64>"
      ]
     },
     "execution_count": 16,
     "metadata": {},
     "output_type": "execute_result"
    }
   ],
   "source": [
    "LD_isq = tf.einsum('sq,isq->isq', LD, i_mask)\n",
    "LD_isq"
   ]
  },
  {
   "cell_type": "markdown",
   "metadata": {},
   "source": [
    "### Vectorizing the Beta-Binomial computation\n",
    "\n",
    "Once we know the arrival-departure likelihoods for each user, we move on to vectorize the calculation of the Beta-Binomial likelihood $R_i(s,q)$.\n",
    "\n",
    "We know that \n",
    "\n",
    "###  $R_i(s,q) = f(u_i|n,\\alpha,\\beta) = \\frac{\\Gamma(n+1)}{\\Gamma(u_i+1)\\Gamma(n-u_i+1)} \\frac{\\Gamma(u_i+\\alpha)\\Gamma(n-u_i+\\beta)}{\\Gamma(n+\\alpha+\\beta)}                        \\frac{\\Gamma(\\alpha+\\beta)}{\\Gamma(\\alpha)\\Gamma(\\beta)}$\n",
    "\n",
    "with $n = q-s+1$."
   ]
  },
  {
   "cell_type": "code",
   "execution_count": 17,
   "metadata": {},
   "outputs": [],
   "source": [
    "# n = q - s + 1\n",
    "d = np.zeros([K,K])\n",
    "for s in range(K):\n",
    "    for q in range(K):\n",
    "        d[s,q] = q-s+1\n",
    "        \n",
    "# n-u\n",
    "count = list(data['count'].values)\n",
    "n_u = np.zeros([I,K,K])\n",
    "for i in range(len(count)):\n",
    "    n_u[i] = d - count[i]\n",
    "\n",
    "n = tf.constant(np.clip(d,a_min=0,a_max=K+1))\n",
    "n_u = tf.constant(np.clip(n_u,a_min=0,a_max=max(count)))"
   ]
  },
  {
   "cell_type": "code",
   "execution_count": 18,
   "metadata": {},
   "outputs": [],
   "source": [
    "def transform_1d_to_3d(x, K, L):\n",
    "    '''\n",
    "    Takes vector x of dimensionality I and broadcast it, to return a 3d tensor,\n",
    "    I x K x L, where the values of the 2d KxL matrix have the values of x[i]\n",
    "    '''\n",
    "    return tf.einsum(\"x,kl->xkl\", x, tf.ones(shape=(K,L), dtype=tf.float64) )"
   ]
  },
  {
   "cell_type": "code",
   "execution_count": 19,
   "metadata": {},
   "outputs": [],
   "source": [
    "def transform_2d_to_3d(xy, Z):\n",
    "    '''\n",
    "    Takes matrix  x of dimensionality X * Y  and broadcast it Z times, \n",
    "    to return a 3d tensor, Z x X x Y, where the values of the 2d KxL matrix have the values of x[i]\n",
    "    '''\n",
    "    return tf.einsum(\"xy,z->zxy\", xy, tf.ones(shape=[Z], dtype=tf.float64) )"
   ]
  },
  {
   "cell_type": "code",
   "execution_count": 20,
   "metadata": {},
   "outputs": [],
   "source": [
    "# We compute the log of the value above, as Tensorflow does not \n",
    "# have Gamma function implemented directly but it has lgamma \n",
    "# Matrix of shape I x K (s=0..K-1)  x K (q=0..K-1)  \n",
    "\n",
    "# tf.lgamma(n+1) \n",
    "R_isq = transform_2d_to_3d( tf.lgamma( n+1 ), I)\n",
    "# - tf.lgamma(u+1) \n",
    "R_isq -= transform_1d_to_3d( tf.lgamma(u+1), K, K )\n",
    "# - tf.lgamma(n-u+1)\n",
    "R_isq -= tf.lgamma( n_u + 1 )   \n",
    "# + tf.lgamma(u+a) \n",
    "R_isq +=  transform_1d_to_3d(tf.lgamma(u+a), K, K)\n",
    "# + tf.lgamma(n-u+b)\n",
    "R_isq +=  tf.lgamma( n_u + b )\n",
    "# - tf.lgamma(n+a+b)\n",
    "R_isq -= transform_2d_to_3d( tf.lgamma( n +a+b ), I)\n",
    "# + tf.lgamma(a+b - tf.lgamma(a) -tf.lgamma(b)\n",
    "R_isq += tf.lgamma( a + b ) - tf.lgamma(a) - tf.lgamma(b )\n",
    "\n",
    "# The above is the computation of the log, so we take the exponent\n",
    "R_isq = tf.exp(R_isq)"
   ]
  },
  {
   "cell_type": "code",
   "execution_count": 21,
   "metadata": {},
   "outputs": [
    {
     "data": {
      "text/plain": [
       "<tf.Tensor 'Exp:0' shape=(46145, 36, 36) dtype=float64>"
      ]
     },
     "execution_count": 21,
     "metadata": {},
     "output_type": "execute_result"
    }
   ],
   "source": [
    "# This is the likelihood, that the worker i, who arrived at time s and departed at time q\n",
    "# also appeared u_i times in our surveys.\n",
    "R_isq"
   ]
  },
  {
   "cell_type": "markdown",
   "metadata": {},
   "source": [
    "### Computing the likelihood\n",
    "\n",
    "We now compute the likelihood $L_i$ for each worker $i$ that appeared at least once in our data."
   ]
  },
  {
   "cell_type": "code",
   "execution_count": 22,
   "metadata": {},
   "outputs": [
    {
     "data": {
      "text/plain": [
       "<tf.Tensor 'einsum_7/transpose_2:0' shape=(46145,) dtype=float64>"
      ]
     },
     "execution_count": 22,
     "metadata": {},
     "output_type": "execute_result"
    }
   ],
   "source": [
    "# We use einsum to calculate the product of LD_isq with R_isq\n",
    "# and then take the sums of likelihoods for different workers,\n",
    "# sum across s and q, and return a vector with I elements\n",
    "Li = tf.einsum('isq,isq->i', LD_isq, R_isq)\n",
    "Li"
   ]
  },
  {
   "cell_type": "markdown",
   "metadata": {},
   "source": [
    "### Likelihood for the never observed workers:\n",
    "\n",
    "## $L_0 = \\sum_{s=1}^{K} \\sum_{q=s}^K \\lambda_s \\cdot \\left( \\prod_{v=s}^{q-1} \\left( 1 - \\mu_v \\right) \\right) \\cdot \\mu_q \\cdot  \\frac{\\Gamma(n+\\beta)}{\\Gamma(n+\\alpha+\\beta)}             \\frac{\\Gamma(\\alpha+\\beta)}{\\Gamma(\\beta)} $\n",
    "\n",
    "### $n=q-s+1$\n"
   ]
  },
  {
   "cell_type": "code",
   "execution_count": 23,
   "metadata": {},
   "outputs": [
    {
     "data": {
      "text/plain": [
       "<tf.Tensor 'Mul:0' shape=(36, 36) dtype=float64>"
      ]
     },
     "execution_count": 23,
     "metadata": {},
     "output_type": "execute_result"
    }
   ],
   "source": [
    "# Eliminate from the matrix the combinations of s/q where s>q\n",
    "v0_mask = 1-v_mask[0]\n",
    "LD0 = tf.multiply( LD  , v0_mask )\n",
    "LD0"
   ]
  },
  {
   "cell_type": "code",
   "execution_count": 24,
   "metadata": {},
   "outputs": [
    {
     "data": {
      "text/plain": [
       "<tf.Tensor 'Exp_1:0' shape=(36, 36) dtype=float64>"
      ]
     },
     "execution_count": 24,
     "metadata": {},
     "output_type": "execute_result"
    }
   ],
   "source": [
    "R0_sq = tf.exp(\n",
    "  tf.lgamma(n + b) - tf.lgamma(n +a + b)\n",
    "+ tf.lgamma(a + b) - tf.lgamma(b)\n",
    ")\n",
    "R0_sq"
   ]
  },
  {
   "cell_type": "code",
   "execution_count": 25,
   "metadata": {},
   "outputs": [
    {
     "data": {
      "text/plain": [
       "<tf.Tensor 'Sum:0' shape=() dtype=float64>"
      ]
     },
     "execution_count": 25,
     "metadata": {},
     "output_type": "execute_result"
    }
   ],
   "source": [
    "# Do an element-wise product of the three matrices (as they all have the same dimensions)\n",
    "# and then sum all the elements\n",
    "L0 = tf.reduce_sum(LD0 * R0_sq)\n",
    "L0"
   ]
  },
  {
   "cell_type": "markdown",
   "metadata": {},
   "source": [
    "--------------------"
   ]
  },
  {
   "cell_type": "markdown",
   "metadata": {},
   "source": [
    "### Setting up the optimization objective"
   ]
  },
  {
   "cell_type": "code",
   "execution_count": 26,
   "metadata": {
    "colab": {
     "autoexec": {
      "startup": false,
      "wait_interval": 0
     },
     "base_uri": "https://localhost:8080/",
     "height": 34,
     "output_extras": [
      {
       "item_id": 1
      }
     ]
    },
    "colab_type": "code",
    "executionInfo": {
     "elapsed": 260,
     "status": "ok",
     "timestamp": 1518236478378,
     "user": {
      "displayName": "Panos Ipeirotis",
      "photoUrl": "//lh4.googleusercontent.com/-dIWj8iHQSKU/AAAAAAAAAAI/AAAAAAAC_ik/-lah8-gvNJM/s50-c-k-no/photo.jpg",
      "userId": "103666871486129948108"
     },
     "user_tz": 480
    },
    "id": "eN4Y-Q8_Clio",
    "outputId": "8d5dd6c2-b495-4124-ab33-35f0c6d0d4bb"
   },
   "outputs": [
    {
     "data": {
      "text/plain": [
       "<tf.Tensor 'Neg:0' shape=() dtype=float64>"
      ]
     },
     "execution_count": 26,
     "metadata": {},
     "output_type": "execute_result"
    }
   ],
   "source": [
    "# Once we have the individual likelihoods, we take the sum of their logs\n",
    "# In our case N = I + U (all workers) and N - D = U (unseen workers)\n",
    "# We use that Γ(n+1) = n!  and logGamma(n+1) = log(n!)\n",
    "\n",
    "# These are the log-likelihood function\n",
    "obj1 = tf.lgamma(I+U+1.0) - tf.lgamma(U+1.0) - tf.lgamma( tf.constant(I, dtype=tf.float64) + 1.0)\n",
    "obj2 = tf.reduce_sum(tf.log(Li))\n",
    "obj3 = U * tf.log(L0)\n",
    "\n",
    "objective = - (obj1 + obj2 +obj3) \n",
    "\n",
    "objective"
   ]
  },
  {
   "cell_type": "code",
   "execution_count": 27,
   "metadata": {
    "colab": {
     "autoexec": {
      "startup": false,
      "wait_interval": 0
     }
    },
    "colab_type": "code",
    "id": "UpO3Qg9uCliq"
   },
   "outputs": [],
   "source": [
    "train_step = tf.train.AdamOptimizer(learning_rate=0.1).minimize(objective)"
   ]
  },
  {
   "cell_type": "markdown",
   "metadata": {},
   "source": [
    "### Training the model"
   ]
  },
  {
   "cell_type": "code",
   "execution_count": 28,
   "metadata": {
    "colab": {
     "autoexec": {
      "startup": false,
      "wait_interval": 0
     }
    },
    "colab_type": "code",
    "id": "KK-xQ7lf_DYH"
   },
   "outputs": [],
   "source": [
    "sess = tf.InteractiveSession()\n",
    "tf.global_variables_initializer().run()\n",
    "loss = []\n",
    "\n",
    "feed_data = {\n",
    "    f: np.array(data['min']),  \n",
    "    l: np.array(data['max']), \n",
    "    u: np.array(data['count'])\n",
    "}"
   ]
  },
  {
   "cell_type": "code",
   "execution_count": 29,
   "metadata": {
    "colab": {
     "autoexec": {
      "startup": false,
      "wait_interval": 0
     },
     "base_uri": "https://localhost:8080/",
     "height": 68,
     "output_extras": [
      {
       "item_id": 460
      },
      {
       "item_id": 1250
      }
     ]
    },
    "colab_type": "code",
    "id": "IL7zg8Y-Cliu",
    "outputId": "966b8075-01a6-47f6-f14a-2e5d63036701"
   },
   "outputs": [
    {
     "name": "stderr",
     "output_type": "stream",
     "text": [
      "150599.549 /  1.341 / 17.142 /  0.599 /  0.068 / 42838.163: 100%|██████████| 1000/1000 [05:24<00:00,  3.09it/s]\n"
     ]
    }
   ],
   "source": [
    "t = tqdm(range(1000))\n",
    "\n",
    "for epoch in t: \n",
    "    points = sess.run([train_step, objective, a, b, lmd, mu, U], feed_dict=feed_data)\n",
    "    \n",
    "    loss.append([epoch] + points)\n",
    "    template = \"{obj:10.3f} / {alpha:6.3f} / {beta:6.3f} / {arr:6.3f} / {dep:6.3f} / {u:6.3f}\"\n",
    "    \n",
    "    if epoch % 10 == 0:\n",
    "        status = template.format(\n",
    "                        obj = points[1], \n",
    "                        alpha = points[2], \n",
    "                        beta = points[3],\n",
    "                        arr = points[4][0],\n",
    "                        dep = points[5][K-1],\n",
    "                        u = points[6])\n",
    "        t.set_description(status)"
   ]
  },
  {
   "cell_type": "code",
   "execution_count": 30,
   "metadata": {},
   "outputs": [],
   "source": [
    "df = pd.DataFrame(loss, columns = ['Train', 'Iteration', 'Loss', 'a', 'b', 'lambda', 'mu', 'U'])"
   ]
  },
  {
   "cell_type": "code",
   "execution_count": 31,
   "metadata": {
    "colab": {
     "autoexec": {
      "startup": false,
      "wait_interval": 0
     },
     "base_uri": "https://localhost:8080/",
     "height": 296,
     "output_extras": [
      {
       "item_id": 1
      },
      {
       "item_id": 2
      }
     ]
    },
    "colab_type": "code",
    "executionInfo": {
     "elapsed": 464,
     "status": "ok",
     "timestamp": 1518237817618,
     "user": {
      "displayName": "Panos Ipeirotis",
      "photoUrl": "//lh4.googleusercontent.com/-dIWj8iHQSKU/AAAAAAAAAAI/AAAAAAAC_ik/-lah8-gvNJM/s50-c-k-no/photo.jpg",
      "userId": "103666871486129948108"
     },
     "user_tz": 480
    },
    "id": "k7JPEzyRCliy",
    "outputId": "7fad6df9-0ebc-48f8-ef02-8f7ca3a0f23e"
   },
   "outputs": [
    {
     "data": {
      "text/plain": [
       "<matplotlib.axes._subplots.AxesSubplot at 0x7fec1296d710>"
      ]
     },
     "execution_count": 31,
     "metadata": {},
     "output_type": "execute_result"
    },
    {
     "data": {
      "image/png": "[encoded data removed]",
      "text/plain": [
       "<matplotlib.figure.Figure at 0x7fec12a15f28>"
      ]
     },
     "metadata": {},
     "output_type": "display_data"
    }
   ],
   "source": [
    "df.set_index('Iteration').Loss.plot()"
   ]
  },
  {
   "cell_type": "code",
   "execution_count": 32,
   "metadata": {
    "colab": {
     "autoexec": {
      "startup": false,
      "wait_interval": 0
     }
    },
    "colab_type": "code",
    "id": "Okq7QoX5Cli0",
    "scrolled": true
   },
   "outputs": [
    {
     "data": {
      "text/plain": [
       "<matplotlib.axes._subplots.AxesSubplot at 0x7fec12edbac8>"
      ]
     },
     "execution_count": 32,
     "metadata": {},
     "output_type": "execute_result"
    },
    {
     "data": {
      "image/png": "[encoded data removed]",
      "text/plain": [
       "<matplotlib.figure.Figure at 0x7fec0f3a0978>"
      ]
     },
     "metadata": {},
     "output_type": "display_data"
    }
   ],
   "source": [
    "df.set_index('Iteration')[ ['a','b'] ].plot()"
   ]
  },
  {
   "cell_type": "code",
   "execution_count": 33,
   "metadata": {},
   "outputs": [
    {
     "data": {
      "text/plain": [
       "<matplotlib.axes._subplots.AxesSubplot at 0x7fec0f3ec7b8>"
      ]
     },
     "execution_count": 33,
     "metadata": {},
     "output_type": "execute_result"
    },
    {
     "data": {
      "image/png": "[encoded data removed]",
      "text/plain": [
       "<matplotlib.figure.Figure at 0x7fec0f3f1320>"
      ]
     },
     "metadata": {},
     "output_type": "display_data"
    }
   ],
   "source": [
    "df.set_index('Iteration')[ ['U'] ].plot()"
   ]
  },
  {
   "cell_type": "code",
   "execution_count": 34,
   "metadata": {},
   "outputs": [
    {
     "data": {
      "text/plain": [
       "88982.33838921331"
      ]
     },
     "execution_count": 34,
     "metadata": {},
     "output_type": "execute_result"
    }
   ],
   "source": [
    "df['U'].iloc[-1] + I"
   ]
  },
  {
   "cell_type": "code",
   "execution_count": null,
   "metadata": {},
   "outputs": [],
   "source": []
  }
 ],
 "metadata": {
  "accelerator": "GPU",
  "colab": {
   "collapsed_sections": [],
   "default_view": {},
   "name": "8-Likelihood_Tensorflow.ipynb",
   "provenance": [],
   "version": "0.3.2",
   "views": {}
  },
  "kernelspec": {
   "display_name": "Python 3",
   "language": "python",
   "name": "python3"
  },
  "language_info": {
   "codemirror_mode": {
    "name": "ipython",
    "version": 3
   },
   "file_extension": ".py",
   "mimetype": "text/x-python",
   "name": "python",
   "nbconvert_exporter": "python",
   "pygments_lexer": "ipython3",
   "version": "3.5.2"
  }
 },
 "nbformat": 4,
 "nbformat_minor": 1
}
