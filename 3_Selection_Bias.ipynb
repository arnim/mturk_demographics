{
 "cells": [
  {
   "cell_type": "markdown",
   "metadata": {},
   "source": [
    "### Loading data\n",
    "\n",
    "Below we have the code that retrieves the data from the  Mechanical Turk Tracker Demographics API."
   ]
  },
  {
   "cell_type": "code",
   "execution_count": 1,
   "metadata": {},
   "outputs": [
    {
     "data": {
      "text/plain": [
       "gender                             object\n",
       "hit_answered_date          datetime64[ns]\n",
       "hit_creation_date          datetime64[ns]\n",
       "household_income                 category\n",
       "household_size                   category\n",
       "location_city                      object\n",
       "location_country                 category\n",
       "location_region                    object\n",
       "marital_status                   category\n",
       "post_to_completion_secs           float64\n",
       "worker_id                          object\n",
       "year_of_birth                       int64\n",
       "date                               object\n",
       "time                               object\n",
       "dtype: object"
      ]
     },
     "execution_count": 1,
     "metadata": {},
     "output_type": "execute_result"
    }
   ],
   "source": [
    "import pandas as pd\n",
    "df = pd.read_csv(\"mturk_surveys.csv\")\n",
    "df.drop(df.columns[0], axis=1, inplace=True) # drop the \"index\" column\n",
    "# We now transform our API answer into a flat table\n",
    "# and set the right data types\n",
    "df[\"hit_answered_date\"]=pd.to_datetime(df[\"hit_answered_date\"])\n",
    "df[\"hit_creation_date\"]=pd.to_datetime(df[\"hit_creation_date\"])\n",
    "df[\"household_income\"]=df[\"household_income\"].astype(\"category\")\n",
    "df[\"household_size\"]=df[\"household_size\"].astype(\"category\")\n",
    "df[\"location_country\"]=df[\"location_country\"].astype(\"category\")\n",
    "df[\"marital_status\"]=df[\"marital_status\"].astype(\"category\")\n",
    "df['date'] = df['hit_answered_date'].apply(lambda x : x.date())\n",
    "df['time'] = df['hit_answered_date'].apply(lambda x : x.time())\n",
    "df.dtypes"
   ]
  },
  {
   "cell_type": "code",
   "execution_count": 2,
   "metadata": {},
   "outputs": [
    {
     "name": "stdout",
     "output_type": "stream",
     "text": [
      "2015-03-26 11:47:28.877000\n",
      "2017-06-17 02:38:50.413000\n",
      "813\n"
     ]
    }
   ],
   "source": [
    "import datetime\n",
    "minDate = min(df['hit_answered_date'])\n",
    "maxDate = max(df['hit_answered_date'])\n",
    "days = (maxDate - minDate).days\n",
    "print(minDate)\n",
    "print(maxDate)\n",
    "print(days)"
   ]
  },
  {
   "cell_type": "code",
   "execution_count": 3,
   "metadata": {
    "collapsed": true
   },
   "outputs": [],
   "source": [
    "from time import gmtime, strftime\n",
    "def t():\n",
    "    print(strftime(\"%Y-%m-%d %H:%M:%S\", gmtime()))\n",
    "    "
   ]
  },
  {
   "cell_type": "code",
   "execution_count": 4,
   "metadata": {},
   "outputs": [
    {
     "data": {
      "text/html": [
       "<div>\n",
       "<style>\n",
       "    .dataframe thead tr:only-child th {\n",
       "        text-align: right;\n",
       "    }\n",
       "\n",
       "    .dataframe thead th {\n",
       "        text-align: left;\n",
       "    }\n",
       "\n",
       "    .dataframe tbody tr th {\n",
       "        vertical-align: top;\n",
       "    }\n",
       "</style>\n",
       "<table border=\"1\" class=\"dataframe\">\n",
       "  <thead>\n",
       "    <tr style=\"text-align: right;\">\n",
       "      <th></th>\n",
       "      <th>gender</th>\n",
       "      <th>hit_answered_date</th>\n",
       "      <th>hit_creation_date</th>\n",
       "      <th>household_income</th>\n",
       "      <th>household_size</th>\n",
       "      <th>location_city</th>\n",
       "      <th>location_country</th>\n",
       "      <th>location_region</th>\n",
       "      <th>marital_status</th>\n",
       "      <th>post_to_completion_secs</th>\n",
       "      <th>worker_id</th>\n",
       "      <th>year_of_birth</th>\n",
       "      <th>date</th>\n",
       "      <th>time</th>\n",
       "    </tr>\n",
       "  </thead>\n",
       "  <tbody>\n",
       "    <tr>\n",
       "      <th>0</th>\n",
       "      <td>female</td>\n",
       "      <td>2017-06-17 02:38:50.413</td>\n",
       "      <td>2017-06-17 02:35:15</td>\n",
       "      <td>$25,000-$39,999</td>\n",
       "      <td>2</td>\n",
       "      <td>chicago</td>\n",
       "      <td>US</td>\n",
       "      <td>il</td>\n",
       "      <td>married</td>\n",
       "      <td>215.0</td>\n",
       "      <td>abdb4a49fa215a85850ca6b53273f9b6</td>\n",
       "      <td>1961</td>\n",
       "      <td>2017-06-17</td>\n",
       "      <td>02:38:50.413000</td>\n",
       "    </tr>\n",
       "    <tr>\n",
       "      <th>1</th>\n",
       "      <td>male</td>\n",
       "      <td>2017-06-17 02:24:05.938</td>\n",
       "      <td>2017-06-17 02:20:13</td>\n",
       "      <td>$100,000 or more</td>\n",
       "      <td>2</td>\n",
       "      <td>des moines</td>\n",
       "      <td>US</td>\n",
       "      <td>ia</td>\n",
       "      <td>cohabitating</td>\n",
       "      <td>232.0</td>\n",
       "      <td>1e31723e90a79fe2c3028fa9be9cf3c1</td>\n",
       "      <td>1981</td>\n",
       "      <td>2017-06-17</td>\n",
       "      <td>02:24:05.938000</td>\n",
       "    </tr>\n",
       "    <tr>\n",
       "      <th>2</th>\n",
       "      <td>female</td>\n",
       "      <td>2017-06-17 02:15:22.549</td>\n",
       "      <td>2017-06-17 01:35:17</td>\n",
       "      <td>$60,000-$74,999</td>\n",
       "      <td>2</td>\n",
       "      <td>tampa</td>\n",
       "      <td>US</td>\n",
       "      <td>fl</td>\n",
       "      <td>married</td>\n",
       "      <td>2405.0</td>\n",
       "      <td>bf977b75ea523d069c2a1d842d3834cf</td>\n",
       "      <td>1992</td>\n",
       "      <td>2017-06-17</td>\n",
       "      <td>02:15:22.549000</td>\n",
       "    </tr>\n",
       "    <tr>\n",
       "      <th>3</th>\n",
       "      <td>female</td>\n",
       "      <td>2017-06-17 02:13:46.783</td>\n",
       "      <td>2017-06-17 02:05:14</td>\n",
       "      <td>$15,000-$24,999</td>\n",
       "      <td>3</td>\n",
       "      <td>wilmington</td>\n",
       "      <td>US</td>\n",
       "      <td>de</td>\n",
       "      <td>single</td>\n",
       "      <td>512.0</td>\n",
       "      <td>9fb008169ac71be7b23798754c4432f4</td>\n",
       "      <td>1995</td>\n",
       "      <td>2017-06-17</td>\n",
       "      <td>02:13:46.783000</td>\n",
       "    </tr>\n",
       "    <tr>\n",
       "      <th>4</th>\n",
       "      <td>male</td>\n",
       "      <td>2017-06-17 02:03:30.117</td>\n",
       "      <td>2017-06-17 01:50:17</td>\n",
       "      <td>$40,000-$59,999</td>\n",
       "      <td>2</td>\n",
       "      <td>latrobe</td>\n",
       "      <td>US</td>\n",
       "      <td>pa</td>\n",
       "      <td>cohabitating</td>\n",
       "      <td>793.0</td>\n",
       "      <td>17cf9f32fdf07181fb90d63352a3ce5e</td>\n",
       "      <td>1986</td>\n",
       "      <td>2017-06-17</td>\n",
       "      <td>02:03:30.117000</td>\n",
       "    </tr>\n",
       "  </tbody>\n",
       "</table>\n",
       "</div>"
      ],
      "text/plain": [
       "   gender       hit_answered_date   hit_creation_date  household_income  \\\n",
       "0  female 2017-06-17 02:38:50.413 2017-06-17 02:35:15   $25,000-$39,999   \n",
       "1    male 2017-06-17 02:24:05.938 2017-06-17 02:20:13  $100,000 or more   \n",
       "2  female 2017-06-17 02:15:22.549 2017-06-17 01:35:17   $60,000-$74,999   \n",
       "3  female 2017-06-17 02:13:46.783 2017-06-17 02:05:14   $15,000-$24,999   \n",
       "4    male 2017-06-17 02:03:30.117 2017-06-17 01:50:17   $40,000-$59,999   \n",
       "\n",
       "  household_size location_city location_country location_region  \\\n",
       "0              2       chicago               US              il   \n",
       "1              2    des moines               US              ia   \n",
       "2              2         tampa               US              fl   \n",
       "3              3    wilmington               US              de   \n",
       "4              2       latrobe               US              pa   \n",
       "\n",
       "  marital_status  post_to_completion_secs                         worker_id  \\\n",
       "0        married                    215.0  abdb4a49fa215a85850ca6b53273f9b6   \n",
       "1   cohabitating                    232.0  1e31723e90a79fe2c3028fa9be9cf3c1   \n",
       "2        married                   2405.0  bf977b75ea523d069c2a1d842d3834cf   \n",
       "3         single                    512.0  9fb008169ac71be7b23798754c4432f4   \n",
       "4   cohabitating                    793.0  17cf9f32fdf07181fb90d63352a3ce5e   \n",
       "\n",
       "   year_of_birth        date             time  \n",
       "0           1961  2017-06-17  02:38:50.413000  \n",
       "1           1981  2017-06-17  02:24:05.938000  \n",
       "2           1992  2017-06-17  02:15:22.549000  \n",
       "3           1995  2017-06-17  02:13:46.783000  \n",
       "4           1986  2017-06-17  02:03:30.117000  "
      ]
     },
     "execution_count": 4,
     "metadata": {},
     "output_type": "execute_result"
    }
   ],
   "source": [
    "df.head(5)"
   ]
  },
  {
   "cell_type": "markdown",
   "metadata": {},
   "source": [
    "### Exploratory plots"
   ]
  },
  {
   "cell_type": "code",
   "execution_count": 5,
   "metadata": {
    "collapsed": true
   },
   "outputs": [],
   "source": [
    "%matplotlib inline\n",
    "import matplotlib as mpl\n",
    "import matplotlib.pyplot as plt\n",
    "import seaborn as sns\n",
    "\n",
    "sns.set_style(\"whitegrid\")\n",
    "mpl.rc(\"figure\", figsize=(16, 8))"
   ]
  },
  {
   "cell_type": "markdown",
   "metadata": {},
   "source": [
    "### New Worker IDs discovered"
   ]
  },
  {
   "cell_type": "code",
   "execution_count": 6,
   "metadata": {
    "collapsed": true
   },
   "outputs": [],
   "source": [
    "def getWorkerIDs(df, startDate, endDate):\n",
    "    '''\n",
    "    Returns the set of distinct workers that participated in the surveys between the two dates\n",
    "    '''\n",
    "    return set(df[\"worker_id\"][(df['hit_answered_date']>=startDate) & (df['hit_answered_date']<endDate)])\n"
   ]
  },
  {
   "cell_type": "code",
   "execution_count": 7,
   "metadata": {
    "collapsed": true
   },
   "outputs": [],
   "source": [
    "dates = sorted(set(df['date']))\n",
    "\n",
    "results = []\n",
    "for d in dates:\n",
    "    w = len(getWorkerIDs(df, minDate, d))\n",
    "    results.append( {'date':d, 'workers': w})"
   ]
  },
  {
   "cell_type": "code",
   "execution_count": 8,
   "metadata": {},
   "outputs": [
    {
     "data": {
      "text/plain": [
       "<matplotlib.axes._subplots.AxesSubplot at 0x7f72cb89c320>"
      ]
     },
     "execution_count": 8,
     "metadata": {},
     "output_type": "execute_result"
    },
    {
     "data": {
      "image/png": "[encoded data removed]",
      "text/plain": [
       "<matplotlib.figure.Figure at 0x7f72cbd466a0>"
      ]
     },
     "metadata": {},
     "output_type": "display_data"
    }
   ],
   "source": [
    "    \n",
    "workers = pd.DataFrame(results)\n",
    "workers.set_index('date', inplace = True)\n",
    "workers.plot()"
   ]
  },
  {
   "cell_type": "markdown",
   "metadata": {},
   "source": [
    "### Selection bias\n",
    "\n",
    "The analysis above indicated that we should expect to see around 10K-15K workers on Mechanical Turk, with an average half-life of around a year and a half. Over the last two years, this means around 35K-40K workers total. \n",
    "\n",
    "Out of these workers , every month, we survey around $24*4*30 \\approx 3K$ workers, for a total of around 80K surveys so far.\n",
    "\n",
    "If every worker had uniform chance of participating, we would have expected that on average we would see each worker twice.\n",
    "\n",
    "\n",
    "\n"
   ]
  },
  {
   "cell_type": "code",
   "execution_count": 9,
   "metadata": {},
   "outputs": [
    {
     "data": {
      "text/plain": [
       "79932"
      ]
     },
     "execution_count": 9,
     "metadata": {},
     "output_type": "execute_result"
    }
   ],
   "source": [
    "len(df)"
   ]
  },
  {
   "cell_type": "code",
   "execution_count": 10,
   "metadata": {},
   "outputs": [
    {
     "data": {
      "text/plain": [
       "52629358bb4b600cd895af4db743e93a    34\n",
       "8d581e715b2ca964b55dc6ec3a02f7bc    27\n",
       "6debc0eceec45c93a8ad66f0359985d2    27\n",
       "b2eb9a410e941c1325823ecbceaef077    27\n",
       "f5897a5c69cd5c423a68fa0197ee0494    26\n",
       "cc15e2c74af011007361cef2b44fd33f    26\n",
       "1e4879a728be7fae0d8181abaea1130c    26\n",
       "94ecb8b915f9c6b5ed89678d78dba6f1    26\n",
       "d0affb3378f77c9500772f1d90efb7a1    26\n",
       "98a18b3a53eb273babecb5ff88bee6dc    26\n",
       "9209bd16839ff33192078642796f4bfe    26\n",
       "b1f852d1ef0dfceda899291ab02cc02a    26\n",
       "217879bd34b347905ace684b75025c31    26\n",
       "e5c4b601c2c07256dc55d8f631f73435    26\n",
       "b5dc717d9945a468fb14ae696303ef49    26\n",
       "51ae3104189737180aa3e0bb89f9010c    26\n",
       "1eea49ef4ad993a73014bd8f43a8064f    26\n",
       "5b044cf509da1d8444b6f60c465240ef    26\n",
       "9a62370e8624c6a4042f8be623a03bce    25\n",
       "f04872a22a48af0c0c6bcdf02c4a8b59    25\n",
       "8c23a41762a5cf37dcf6f9563ea1a054    25\n",
       "2f78fc62fa7c0751776991010210fcdd    25\n",
       "8e4ce5263b2b43ec70f532b6d58522f8    25\n",
       "49f024fa54e56dc620653bac007e88ca    25\n",
       "8c4f8c21aeddff5e706d66126195d973    25\n",
       "a82df0f35d79cb92b986f092f88854b8    25\n",
       "a950480dc6dfc26d05a482ac803544c2    25\n",
       "57462530fea33841b33f34776ba5d9dc    24\n",
       "7de3c6385f4fb3d78be89b693db121df    24\n",
       "b6f3b853309e6a3a41d62f10962cfaed    24\n",
       "                                    ..\n",
       "d074d87ee6fd9d17be113ebee61eb74b     1\n",
       "8c556a60ea6a19db2f1dbefce5172389     1\n",
       "d18b705bf2a09529bdc257a2e362a9e8     1\n",
       "d8e79697da4e56bb3c39baabac9a8bd1     1\n",
       "572a83b46b14162cb3c3508d977217a3     1\n",
       "5ffc0e03384b96267b425ac256464163     1\n",
       "6c06974b8a70db203e910cb23058578c     1\n",
       "a85a25f349fe5e81f590b5a56bc58cc9     1\n",
       "c0a34d0ed85669ab37681d2819046d92     1\n",
       "859af8f730284ba7c89885a35ddf42b7     1\n",
       "273573ef9b7c0fc12e1a9c0d6d0ecb52     1\n",
       "c3e26fb8729912d90185b060785612a2     1\n",
       "d8484b3771bc442451c9da2ae172853a     1\n",
       "69bc28a93fb2f724c90933ebe5705b0a     1\n",
       "6743fcd92c3820b972d1cef78e4805b8     1\n",
       "7282291b2b369d5aa4e83a8aba9fa51f     1\n",
       "c02edf66e9f49c9d6b10a3d93b93ddbf     1\n",
       "490c6aa9bb5073517b0de36e8f96b31c     1\n",
       "62e9f7335bbee22f59f12d885c8e7c11     1\n",
       "082a802436538777b5780fc16919d4ef     1\n",
       "39e1c649a94fdb167e58dc7a2e2163a9     1\n",
       "09daf4d68c51291769f5a4dd0bc23c14     1\n",
       "5d1201bf83e27d83e7b2bc0a23692bf5     1\n",
       "ff74babbe70ff2fbf073061bc7b6230f     1\n",
       "afcd233d4ecbb6cf67842e688f345534     1\n",
       "cc21596f32eb9d3ae61fc4639e2af5c3     1\n",
       "10fab8356f93caa22fff706187cb5267     1\n",
       "c3cc896330e73dd1ee97eaa1ba608173     1\n",
       "5c854d533daf92d751729af76e9c8199     1\n",
       "97e96f052a4c6aa0398923092d9ba95e     1\n",
       "Name: worker_id, Length: 37830, dtype: int64"
      ]
     },
     "execution_count": 10,
     "metadata": {},
     "output_type": "execute_result"
    }
   ],
   "source": [
    "# How often do we see each worker?\n",
    "df['worker_id'].value_counts()"
   ]
  },
  {
   "cell_type": "code",
   "execution_count": 11,
   "metadata": {},
   "outputs": [
    {
     "data": {
      "text/plain": [
       "1     25070\n",
       "2      5642\n",
       "3      2364\n",
       "4      1274\n",
       "5       790\n",
       "6       564\n",
       "7       429\n",
       "8       324\n",
       "9       239\n",
       "10      199\n",
       "11      157\n",
       "12      134\n",
       "13       98\n",
       "14       93\n",
       "16       83\n",
       "15       72\n",
       "18       56\n",
       "17       53\n",
       "19       37\n",
       "20       36\n",
       "21       36\n",
       "22       21\n",
       "23       21\n",
       "26       14\n",
       "24       11\n",
       "25        9\n",
       "27        3\n",
       "Name: worker_id, dtype: int64"
      ]
     },
     "execution_count": 11,
     "metadata": {},
     "output_type": "execute_result"
    }
   ],
   "source": [
    "# Let's compute the frequency of captures\n",
    "x = df['worker_id'].value_counts().value_counts()\n",
    "x.drop(34) # dropping the outlier, this is a data point that should not have existed"
   ]
  },
  {
   "cell_type": "code",
   "execution_count": 12,
   "metadata": {},
   "outputs": [
    {
     "data": {
      "text/plain": [
       "pandas.core.series.Series"
      ]
     },
     "execution_count": 12,
     "metadata": {},
     "output_type": "execute_result"
    }
   ],
   "source": [
    "type(x)"
   ]
  },
  {
   "cell_type": "code",
   "execution_count": 13,
   "metadata": {},
   "outputs": [
    {
     "data": {
      "text/plain": [
       "<matplotlib.axes._subplots.AxesSubplot at 0x7f72c9847518>"
      ]
     },
     "execution_count": 13,
     "metadata": {},
     "output_type": "execute_result"
    },
    {
     "data": {
      "image/png": "[encoded data removed]",
      "text/plain": [
       "<matplotlib.figure.Figure at 0x7f72d5984550>"
      ]
     },
     "metadata": {},
     "output_type": "display_data"
    }
   ],
   "source": [
    "cnt = pd.DataFrame(x).reset_index()\n",
    "cnt['index'] = cnt['index']/cnt['index'].max()\n",
    "cnt.plot.scatter(x='index', y='worker_id', logy=True, logx=True)"
   ]
  },
  {
   "cell_type": "code",
   "execution_count": 14,
   "metadata": {},
   "outputs": [
    {
     "name": "stderr",
     "output_type": "stream",
     "text": [
      "/usr/local/lib/python3.5/dist-packages/scipy/stats/_continuous_distns.py:404: RuntimeWarning: invalid value encountered in sqrt\n",
      "  sk = 2*(b-a)*np.sqrt(a + b + 1) / (a + b + 2) / np.sqrt(a*b)\n",
      "/usr/local/lib/python3.5/dist-packages/scipy/optimize/minpack.py:161: RuntimeWarning: The iteration is not making good progress, as measured by the \n",
      "  improvement from the last ten iterations.\n",
      "  warnings.warn(msg, RuntimeWarning)\n"
     ]
    },
    {
     "data": {
      "text/plain": [
       "(0.30834766860975854,\n",
       " 38.474277602030057,\n",
       " 0.029411764705882349,\n",
       " 2.4469911900863766)"
      ]
     },
     "execution_count": 14,
     "metadata": {},
     "output_type": "execute_result"
    }
   ],
   "source": [
    "import scipy\n",
    "import random\n",
    "\n",
    "data = []\n",
    "mx_freq = max(x.index)\n",
    "for i,v in x.iteritems():\n",
    "    tmp = [i/mx_freq] * v\n",
    "    data.extend(tmp)\n",
    "    \n",
    "random.shuffle(data)\n",
    "\n",
    "scipy.stats.beta.fit(data, scale=1, loc=0)"
   ]
  },
  {
   "cell_type": "code",
   "execution_count": 15,
   "metadata": {},
   "outputs": [
    {
     "data": {
      "text/plain": [
       "37830"
      ]
     },
     "execution_count": 15,
     "metadata": {},
     "output_type": "execute_result"
    }
   ],
   "source": [
    "len(data)"
   ]
  },
  {
   "cell_type": "code",
   "execution_count": 50,
   "metadata": {
    "collapsed": true
   },
   "outputs": [],
   "source": [
    "import numpy as np\n",
    "import scipy.stats as st\n",
    "import statsmodels as sm\n",
    "import warnings\n",
    "import sys\n",
    "\n",
    "# Create models from data\n",
    "def best_fit_distribution(data, bins=27, ax=None):\n",
    "    \"\"\"Model data by finding best fit distribution to data\"\"\"\n",
    "    # Get histogram of original data\n",
    "    y, x = np.histogram(data, bins=bins, density=True)\n",
    "    x = (x + np.roll(x, -1))[:-1] / 2.0\n",
    "\n",
    "    # Distributions to check\n",
    "    DISTRIBUTIONS = [        \n",
    "        st.alpha,st.anglit,st.arcsine,st.beta,st.betaprime,st.bradford,st.burr,st.cauchy,st.chi,st.chi2,st.cosine,\n",
    "        st.dgamma,st.dweibull,st.erlang,st.expon,st.exponnorm,st.exponweib,st.exponpow,st.f,st.fatiguelife,st.fisk,\n",
    "        st.foldcauchy,st.foldnorm,st.frechet_r,st.frechet_l,st.genlogistic,st.genpareto,st.gennorm,st.genexpon,\n",
    "        st.genextreme,st.gausshyper,st.gamma,st.gengamma,st.genhalflogistic,st.gilbrat,st.gompertz,st.gumbel_r,\n",
    "        st.gumbel_l,st.halfcauchy,st.halflogistic,st.halfnorm,st.halfgennorm,st.hypsecant,st.invgamma,st.invgauss,\n",
    "        st.invweibull,st.johnsonsb,st.johnsonsu,st.ksone,st.kstwobign,st.laplace,st.levy,st.levy_l,st.levy_stable,\n",
    "        st.logistic,st.loggamma,st.loglaplace,st.lognorm,st.lomax,st.maxwell,st.mielke,st.nakagami,st.ncx2,st.ncf,\n",
    "        st.nct,st.norm,st.pareto,st.pearson3,st.powerlaw,st.powerlognorm,st.powernorm,st.rdist,st.reciprocal,\n",
    "        st.rayleigh,st.rice,st.recipinvgauss,st.semicircular,st.t,st.triang,st.truncexpon,st.truncnorm,st.tukeylambda,\n",
    "        st.uniform,st.vonmises,st.vonmises_line,st.wald,st.weibull_min,st.weibull_max,st.wrapcauchy\n",
    "    ]\n",
    "\n",
    "    # Best holders\n",
    "    best_distribution = st.norm\n",
    "    best_params = (0.0, 1.0)\n",
    "    best_sse = np.inf\n",
    "    #best_p = np.inf\n",
    "\n",
    "    # Estimate distribution parameters from data\n",
    "    for distribution in DISTRIBUTIONS:\n",
    "        # print(distribution)\n",
    "\n",
    "        # Try to fit the distribution\n",
    "        try:\n",
    "            # Ignore warnings from data that can't be fit\n",
    "            with warnings.catch_warnings():\n",
    "                warnings.filterwarnings('ignore')\n",
    "\n",
    "                # fit dist to data\n",
    "                params = distribution.fit(data)\n",
    "\n",
    "                # Separate parts of parameters\n",
    "                arg = params[:-2]\n",
    "                loc = params[-2]\n",
    "                scale = params[-1]\n",
    "\n",
    "                # Calculate fitted PDF and error with fit in distribution\n",
    "                pdf = distribution.pdf(x, loc=loc, scale=scale, *arg)\n",
    "                #cdf = distribution.cdf(x, loc=loc, scale=scale, *arg)\n",
    "                sse = np.sum(np.power(y - pdf, 2.0))\n",
    "                aic = 2*len(params) + np.sum ( distribution.logpdf(data, loc=loc, scale=scale, *arg) )\n",
    "                #ks = st.kstest(y, cdf)\n",
    "\n",
    "                # if axis pass in add to plot\n",
    "                try:\n",
    "                    if ax:\n",
    "                        pd.Series(pdf, x).plot(ax=ax)\n",
    "                    end\n",
    "                except Exception:\n",
    "                    pass\n",
    "\n",
    "                # identify if this distribution is better\n",
    "                if best_sse > sse > 0:\n",
    "                    best_distribution = distribution\n",
    "                    best_params = params\n",
    "                    best_sse = sse\n",
    "                    print(best_distribution.name, best_params, best_sse, aic)\n",
    "\n",
    "        except Exception as e:\n",
    "            print(sys.exc_info()[0])\n",
    "            pass\n",
    "\n",
    "    return (best_distribution.name, best_params)\n"
   ]
  },
  {
   "cell_type": "code",
   "execution_count": 51,
   "metadata": {
    "collapsed": true
   },
   "outputs": [],
   "source": [
    "def make_pdf(dist, params, size=10000):\n",
    "    \"\"\"Generate distributions's Propbability Distribution Function \"\"\"\n",
    "\n",
    "    # Separate parts of parameters\n",
    "    arg = params[:-2]\n",
    "    loc = params[-2]\n",
    "    scale = params[-1]\n",
    "\n",
    "    # Get sane start and end points of distribution\n",
    "    start = dist.ppf(0.01, *arg, loc=loc, scale=scale) if arg else dist.ppf(0.01, loc=loc, scale=scale)\n",
    "    end = dist.ppf(0.99, *arg, loc=loc, scale=scale) if arg else dist.ppf(0.99, loc=loc, scale=scale)\n",
    "\n",
    "    # Build PDF and turn into pandas Series\n",
    "    x = np.linspace(start, end, size)\n",
    "    y = dist.pdf(x, loc=loc, scale=scale, *arg)\n",
    "    pdf = pd.Series(y, x)\n",
    "\n",
    "    return pdf"
   ]
  },
  {
   "cell_type": "code",
   "execution_count": 52,
   "metadata": {
    "collapsed": true
   },
   "outputs": [],
   "source": [
    "import matplotlib\n",
    "import matplotlib.pyplot as plt\n",
    "\n",
    "matplotlib.rcParams['figure.figsize'] = (16.0, 12.0)\n",
    "matplotlib.style.use('ggplot')"
   ]
  },
  {
   "cell_type": "code",
   "execution_count": 58,
   "metadata": {},
   "outputs": [
    {
     "data": {
      "text/plain": [
       "<matplotlib.figure.Figure at 0x7f72c8412128>"
      ]
     },
     "metadata": {},
     "output_type": "display_data"
    },
    {
     "data": {
      "image/png": "[encoded data removed]",
      "text/plain": [
       "<matplotlib.figure.Figure at 0x7f72c84a1668>"
      ]
     },
     "metadata": {},
     "output_type": "display_data"
    }
   ],
   "source": [
    "plt.figure(figsize=(12,8))\n",
    "ax = pd.DataFrame(data).plot(kind='hist', bins=27, normed=True, alpha=0.5, logx=True,logy=True)\n",
    "# Save plot limits\n",
    "dataYLim = ax.get_ylim()"
   ]
  },
  {
   "cell_type": "code",
   "execution_count": 55,
   "metadata": {},
   "outputs": [
    {
     "name": "stdout",
     "output_type": "stream",
     "text": [
      "alpha (1.5171746093497123, 0.02941176468887937, 3.4175196984915953e-11) 514.978629692 352039.304339\n",
      "anglit (0.26809672392663975, 0.93192095000127173) 479.956095066 -1772.54494758\n",
      "arcsine (0.029411764705882349, 1.0589469713057769) 419.696719581 477807.206452\n",
      "beta (0.20337358267676048, 346.82047576214723, 0.029411764705882349, 6.716969605098452) 319.851452739 739411.755846\n",
      "burr (1.1516997982427111, 0.21795810021864337, 0.029411764705882349, 0.019108807957074609) 270.939024039 740499.280826\n",
      "chi2 (1.0646874163926314, 0.029411764705882349, 0.020938240466301591) 80.0277928739 502777.493349\n",
      "expon (0.029411764614961325, 0.032735166424507606) 43.0608687397 91528.6805843\n",
      "exponnorm (4129.2769960190208, 0.02938024480156886, 7.9059532400431843e-06) 42.8611005799 91493.1816168\n",
      "<class 'NotImplementedError'>\n",
      "lomax (37.619882049806293, 0.029411764705861806, 0.98231328888058034) 23.2367330444 93752.3937591\n",
      "pearson3 (2.1909271012757943, 0.044851466921127736, 0.016913631009504517) 20.689929355 230756.671044\n"
     ]
    }
   ],
   "source": [
    "# Find best fit distribution\n",
    "best_fit_name, best_fir_paramms = best_fit_distribution(data, 27, ax)\n",
    "best_dist = getattr(st, best_fit_name)\n",
    "\n",
    "# Update plots\n",
    "ax.set_ylim(dataYLim)\n",
    "ax.set_title(u'All Fitted Distributions')\n",
    "ax.set_xlabel(u'Count')\n",
    "ax.set_ylabel('Frequency')\n",
    "\n",
    "# Make PDF\n",
    "pdf = make_pdf(best_dist, best_fir_paramms)"
   ]
  },
  {
   "cell_type": "code",
   "execution_count": null,
   "metadata": {},
   "outputs": [],
   "source": [
    "for i in x.index.values:\n",
    "    try:\n",
    "        print(i+1,x[i+1]/x[i])\n",
    "    except:\n",
    "        pass"
   ]
  },
  {
   "cell_type": "code",
   "execution_count": null,
   "metadata": {},
   "outputs": [],
   "source": [
    "df['worker_id'].value_counts().value_counts(normalize=True).sort_index().reset_index().plot.scatter(x='index', y='worker_id', logy=True)"
   ]
  }
 ],
 "metadata": {
  "kernelspec": {
   "display_name": "Python 3",
   "language": "python",
   "name": "python3"
  },
  "language_info": {
   "codemirror_mode": {
    "name": "ipython",
    "version": 3
   },
   "file_extension": ".py",
   "mimetype": "text/x-python",
   "name": "python",
   "nbconvert_exporter": "python",
   "pygments_lexer": "ipython3",
   "version": "3.5.2"
  }
 },
 "nbformat": 4,
 "nbformat_minor": 1
}
