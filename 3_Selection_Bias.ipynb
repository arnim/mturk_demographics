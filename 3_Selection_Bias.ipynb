{
 "cells": [
  {
   "cell_type": "markdown",
   "metadata": {},
   "source": [
    "### Loading data\n",
    "\n",
    "Below we have the code that retrieves the data from the  Mechanical Turk Tracker Demographics API."
   ]
  },
  {
   "cell_type": "code",
   "execution_count": 5,
   "metadata": {},
   "outputs": [
    {
     "data": {
      "text/plain": [
       "gender                             object\n",
       "hit_answered_date          datetime64[ns]\n",
       "hit_creation_date          datetime64[ns]\n",
       "household_income                 category\n",
       "household_size                   category\n",
       "location_city                      object\n",
       "location_country                 category\n",
       "location_region                    object\n",
       "marital_status                   category\n",
       "post_to_completion_secs           float64\n",
       "worker_id                          object\n",
       "year_of_birth                       int64\n",
       "date                               object\n",
       "time                               object\n",
       "dtype: object"
      ]
     },
     "execution_count": 5,
     "metadata": {},
     "output_type": "execute_result"
    }
   ],
   "source": [
    "import pandas as pd\n",
    "df = pd.read_csv(\"mturk_surveys.csv\")\n",
    "df.drop(df.columns[0], axis=1, inplace=True) # drop the \"index\" column\n",
    "# We now transform our API answer into a flat table\n",
    "# and set the right data types\n",
    "df[\"hit_answered_date\"]=pd.to_datetime(df[\"hit_answered_date\"])\n",
    "df[\"hit_creation_date\"]=pd.to_datetime(df[\"hit_creation_date\"])\n",
    "df[\"household_income\"]=df[\"household_income\"].astype(\"category\")\n",
    "df[\"household_size\"]=df[\"household_size\"].astype(\"category\")\n",
    "df[\"location_country\"]=df[\"location_country\"].astype(\"category\")\n",
    "df[\"marital_status\"]=df[\"marital_status\"].astype(\"category\")\n",
    "df['date'] = df['hit_answered_date'].apply(lambda x : x.date())\n",
    "df['time'] = df['hit_answered_date'].apply(lambda x : x.time())\n",
    "df.dtypes"
   ]
  },
  {
   "cell_type": "code",
   "execution_count": 6,
   "metadata": {},
   "outputs": [
    {
     "name": "stdout",
     "output_type": "stream",
     "text": [
      "2015-03-26 11:47:28.877000\n",
      "2017-06-17 02:38:50.413000\n",
      "813\n"
     ]
    }
   ],
   "source": [
    "import datetime\n",
    "minDate = min(df['hit_answered_date'])\n",
    "maxDate = max(df['hit_answered_date'])\n",
    "days = (maxDate - minDate).days\n",
    "print(minDate)\n",
    "print(maxDate)\n",
    "print(days)"
   ]
  },
  {
   "cell_type": "code",
   "execution_count": 7,
   "metadata": {
    "collapsed": true
   },
   "outputs": [],
   "source": [
    "from time import gmtime, strftime\n",
    "def t():\n",
    "    print(strftime(\"%Y-%m-%d %H:%M:%S\", gmtime()))\n",
    "    "
   ]
  },
  {
   "cell_type": "code",
   "execution_count": 8,
   "metadata": {},
   "outputs": [
    {
     "data": {
      "text/html": [
       "<div>\n",
       "<style>\n",
       "    .dataframe thead tr:only-child th {\n",
       "        text-align: right;\n",
       "    }\n",
       "\n",
       "    .dataframe thead th {\n",
       "        text-align: left;\n",
       "    }\n",
       "\n",
       "    .dataframe tbody tr th {\n",
       "        vertical-align: top;\n",
       "    }\n",
       "</style>\n",
       "<table border=\"1\" class=\"dataframe\">\n",
       "  <thead>\n",
       "    <tr style=\"text-align: right;\">\n",
       "      <th></th>\n",
       "      <th>gender</th>\n",
       "      <th>hit_answered_date</th>\n",
       "      <th>hit_creation_date</th>\n",
       "      <th>household_income</th>\n",
       "      <th>household_size</th>\n",
       "      <th>location_city</th>\n",
       "      <th>location_country</th>\n",
       "      <th>location_region</th>\n",
       "      <th>marital_status</th>\n",
       "      <th>post_to_completion_secs</th>\n",
       "      <th>worker_id</th>\n",
       "      <th>year_of_birth</th>\n",
       "      <th>date</th>\n",
       "      <th>time</th>\n",
       "    </tr>\n",
       "  </thead>\n",
       "  <tbody>\n",
       "    <tr>\n",
       "      <th>0</th>\n",
       "      <td>female</td>\n",
       "      <td>2017-06-17 02:38:50.413</td>\n",
       "      <td>2017-06-17 02:35:15</td>\n",
       "      <td>$25,000-$39,999</td>\n",
       "      <td>2</td>\n",
       "      <td>chicago</td>\n",
       "      <td>US</td>\n",
       "      <td>il</td>\n",
       "      <td>married</td>\n",
       "      <td>215.0</td>\n",
       "      <td>abdb4a49fa215a85850ca6b53273f9b6</td>\n",
       "      <td>1961</td>\n",
       "      <td>2017-06-17</td>\n",
       "      <td>02:38:50.413000</td>\n",
       "    </tr>\n",
       "    <tr>\n",
       "      <th>1</th>\n",
       "      <td>male</td>\n",
       "      <td>2017-06-17 02:24:05.938</td>\n",
       "      <td>2017-06-17 02:20:13</td>\n",
       "      <td>$100,000 or more</td>\n",
       "      <td>2</td>\n",
       "      <td>des moines</td>\n",
       "      <td>US</td>\n",
       "      <td>ia</td>\n",
       "      <td>cohabitating</td>\n",
       "      <td>232.0</td>\n",
       "      <td>1e31723e90a79fe2c3028fa9be9cf3c1</td>\n",
       "      <td>1981</td>\n",
       "      <td>2017-06-17</td>\n",
       "      <td>02:24:05.938000</td>\n",
       "    </tr>\n",
       "    <tr>\n",
       "      <th>2</th>\n",
       "      <td>female</td>\n",
       "      <td>2017-06-17 02:15:22.549</td>\n",
       "      <td>2017-06-17 01:35:17</td>\n",
       "      <td>$60,000-$74,999</td>\n",
       "      <td>2</td>\n",
       "      <td>tampa</td>\n",
       "      <td>US</td>\n",
       "      <td>fl</td>\n",
       "      <td>married</td>\n",
       "      <td>2405.0</td>\n",
       "      <td>bf977b75ea523d069c2a1d842d3834cf</td>\n",
       "      <td>1992</td>\n",
       "      <td>2017-06-17</td>\n",
       "      <td>02:15:22.549000</td>\n",
       "    </tr>\n",
       "    <tr>\n",
       "      <th>3</th>\n",
       "      <td>female</td>\n",
       "      <td>2017-06-17 02:13:46.783</td>\n",
       "      <td>2017-06-17 02:05:14</td>\n",
       "      <td>$15,000-$24,999</td>\n",
       "      <td>3</td>\n",
       "      <td>wilmington</td>\n",
       "      <td>US</td>\n",
       "      <td>de</td>\n",
       "      <td>single</td>\n",
       "      <td>512.0</td>\n",
       "      <td>9fb008169ac71be7b23798754c4432f4</td>\n",
       "      <td>1995</td>\n",
       "      <td>2017-06-17</td>\n",
       "      <td>02:13:46.783000</td>\n",
       "    </tr>\n",
       "    <tr>\n",
       "      <th>4</th>\n",
       "      <td>male</td>\n",
       "      <td>2017-06-17 02:03:30.117</td>\n",
       "      <td>2017-06-17 01:50:17</td>\n",
       "      <td>$40,000-$59,999</td>\n",
       "      <td>2</td>\n",
       "      <td>latrobe</td>\n",
       "      <td>US</td>\n",
       "      <td>pa</td>\n",
       "      <td>cohabitating</td>\n",
       "      <td>793.0</td>\n",
       "      <td>17cf9f32fdf07181fb90d63352a3ce5e</td>\n",
       "      <td>1986</td>\n",
       "      <td>2017-06-17</td>\n",
       "      <td>02:03:30.117000</td>\n",
       "    </tr>\n",
       "  </tbody>\n",
       "</table>\n",
       "</div>"
      ],
      "text/plain": [
       "   gender       hit_answered_date   hit_creation_date  household_income  \\\n",
       "0  female 2017-06-17 02:38:50.413 2017-06-17 02:35:15   $25,000-$39,999   \n",
       "1    male 2017-06-17 02:24:05.938 2017-06-17 02:20:13  $100,000 or more   \n",
       "2  female 2017-06-17 02:15:22.549 2017-06-17 01:35:17   $60,000-$74,999   \n",
       "3  female 2017-06-17 02:13:46.783 2017-06-17 02:05:14   $15,000-$24,999   \n",
       "4    male 2017-06-17 02:03:30.117 2017-06-17 01:50:17   $40,000-$59,999   \n",
       "\n",
       "  household_size location_city location_country location_region  \\\n",
       "0              2       chicago               US              il   \n",
       "1              2    des moines               US              ia   \n",
       "2              2         tampa               US              fl   \n",
       "3              3    wilmington               US              de   \n",
       "4              2       latrobe               US              pa   \n",
       "\n",
       "  marital_status  post_to_completion_secs                         worker_id  \\\n",
       "0        married                    215.0  abdb4a49fa215a85850ca6b53273f9b6   \n",
       "1   cohabitating                    232.0  1e31723e90a79fe2c3028fa9be9cf3c1   \n",
       "2        married                   2405.0  bf977b75ea523d069c2a1d842d3834cf   \n",
       "3         single                    512.0  9fb008169ac71be7b23798754c4432f4   \n",
       "4   cohabitating                    793.0  17cf9f32fdf07181fb90d63352a3ce5e   \n",
       "\n",
       "   year_of_birth        date             time  \n",
       "0           1961  2017-06-17  02:38:50.413000  \n",
       "1           1981  2017-06-17  02:24:05.938000  \n",
       "2           1992  2017-06-17  02:15:22.549000  \n",
       "3           1995  2017-06-17  02:13:46.783000  \n",
       "4           1986  2017-06-17  02:03:30.117000  "
      ]
     },
     "execution_count": 8,
     "metadata": {},
     "output_type": "execute_result"
    }
   ],
   "source": [
    "df.head(5)"
   ]
  },
  {
   "cell_type": "markdown",
   "metadata": {},
   "source": [
    "### Exploratory plots"
   ]
  },
  {
   "cell_type": "code",
   "execution_count": 9,
   "metadata": {
    "collapsed": true
   },
   "outputs": [],
   "source": [
    "%matplotlib inline\n",
    "import matplotlib as mpl\n",
    "import matplotlib.pyplot as plt\n",
    "import seaborn as sns\n",
    "\n",
    "sns.set_style(\"whitegrid\")\n",
    "mpl.rc(\"figure\", figsize=(16, 8))"
   ]
  },
  {
   "cell_type": "markdown",
   "metadata": {},
   "source": [
    "### New Worker IDs discovered"
   ]
  },
  {
   "cell_type": "code",
   "execution_count": 10,
   "metadata": {
    "collapsed": true
   },
   "outputs": [],
   "source": [
    "def getWorkerIDs(df, startDate, endDate):\n",
    "    '''\n",
    "    Returns the set of distinct workers that participated in the surveys between the two dates\n",
    "    '''\n",
    "    return set(df[\"worker_id\"][(df['hit_answered_date']>=startDate) & (df['hit_answered_date']<endDate)])\n"
   ]
  },
  {
   "cell_type": "code",
   "execution_count": 11,
   "metadata": {},
   "outputs": [],
   "source": [
    "dates = sorted(set(df['date']))\n",
    "\n",
    "results = []\n",
    "for d in dates:\n",
    "    w = len(getWorkerIDs(df, minDate, d))\n",
    "    results.append( {'date':d, 'workers': w})"
   ]
  },
  {
   "cell_type": "code",
   "execution_count": 14,
   "metadata": {},
   "outputs": [
    {
     "data": {
      "text/plain": [
       "<matplotlib.axes._subplots.AxesSubplot at 0x7ff38d542f60>"
      ]
     },
     "execution_count": 14,
     "metadata": {},
     "output_type": "execute_result"
    },
    {
     "data": {
      "image/png": "[encoded data removed]",
      "text/plain": [
       "<matplotlib.figure.Figure at 0x7ff38d546198>"
      ]
     },
     "metadata": {},
     "output_type": "display_data"
    }
   ],
   "source": [
    "    \n",
    "workers = pd.DataFrame(results)\n",
    "workers.set_index('date', inplace = True)\n",
    "workers.plot()"
   ]
  },
  {
   "cell_type": "markdown",
   "metadata": {},
   "source": [
    "### Selection bias\n",
    "\n",
    "The analysis above indicated that we should expect to see around 10K-15K workers on Mechanical Turk, with an average half-life of around a year and a half. Over the last two years, this means around 35K-40K workers total. \n",
    "\n",
    "Out of these workers , every month, we survey around $24*4*30 \\approx 3K$ workers, for a total of around 80K surveys so far.\n",
    "\n",
    "If every worker had uniform chance of participating, we would have expected that on average we would see each worker twice.\n",
    "\n",
    "\n",
    "\n"
   ]
  },
  {
   "cell_type": "code",
   "execution_count": 15,
   "metadata": {},
   "outputs": [
    {
     "data": {
      "text/plain": [
       "79932"
      ]
     },
     "execution_count": 15,
     "metadata": {},
     "output_type": "execute_result"
    }
   ],
   "source": [
    "len(df)"
   ]
  },
  {
   "cell_type": "code",
   "execution_count": 16,
   "metadata": {},
   "outputs": [
    {
     "data": {
      "text/plain": [
       "52629358bb4b600cd895af4db743e93a    34\n",
       "6debc0eceec45c93a8ad66f0359985d2    27\n",
       "b2eb9a410e941c1325823ecbceaef077    27\n",
       "8d581e715b2ca964b55dc6ec3a02f7bc    27\n",
       "f5897a5c69cd5c423a68fa0197ee0494    26\n",
       "5b044cf509da1d8444b6f60c465240ef    26\n",
       "217879bd34b347905ace684b75025c31    26\n",
       "b1f852d1ef0dfceda899291ab02cc02a    26\n",
       "1eea49ef4ad993a73014bd8f43a8064f    26\n",
       "51ae3104189737180aa3e0bb89f9010c    26\n",
       "94ecb8b915f9c6b5ed89678d78dba6f1    26\n",
       "98a18b3a53eb273babecb5ff88bee6dc    26\n",
       "9209bd16839ff33192078642796f4bfe    26\n",
       "b5dc717d9945a468fb14ae696303ef49    26\n",
       "1e4879a728be7fae0d8181abaea1130c    26\n",
       "e5c4b601c2c07256dc55d8f631f73435    26\n",
       "cc15e2c74af011007361cef2b44fd33f    26\n",
       "d0affb3378f77c9500772f1d90efb7a1    26\n",
       "2f78fc62fa7c0751776991010210fcdd    25\n",
       "8c23a41762a5cf37dcf6f9563ea1a054    25\n",
       "a82df0f35d79cb92b986f092f88854b8    25\n",
       "49f024fa54e56dc620653bac007e88ca    25\n",
       "f04872a22a48af0c0c6bcdf02c4a8b59    25\n",
       "8e4ce5263b2b43ec70f532b6d58522f8    25\n",
       "9a62370e8624c6a4042f8be623a03bce    25\n",
       "a950480dc6dfc26d05a482ac803544c2    25\n",
       "8c4f8c21aeddff5e706d66126195d973    25\n",
       "c7457847474b38d030089865bfdd0a2f    24\n",
       "17f982691d3c6aebf9cb047d06dc2f12    24\n",
       "b6f3b853309e6a3a41d62f10962cfaed    24\n",
       "                                    ..\n",
       "832bf4598daea38ffca820a0a9651a95     1\n",
       "86f831c7d37351494c77900538ba1748     1\n",
       "ed330ac94a60beed47fd6de1249d729f     1\n",
       "7861102e5893ee6ef535851722fb7a6c     1\n",
       "a8742a95e648be97baf35fb185e1e881     1\n",
       "462914f0574ae1216e8785447a1d91f3     1\n",
       "a586d1767a2f4317322bf422b750bfb6     1\n",
       "3ab1017bf5cdbfee54b73f59fc797a4a     1\n",
       "4aeac5414336f828efada0bb4f4da76f     1\n",
       "61adabe6c0dc4574106b84538e4e260b     1\n",
       "749a31c9422d698cc45be16ee8cf24e1     1\n",
       "f78f3745111985ffa17958af60ec8d0b     1\n",
       "6f657e4478c7bdbd291eaefbe21409ac     1\n",
       "162e1ad530998302453447571bddc3d3     1\n",
       "d4eb091624b6fb855b4709d291278724     1\n",
       "0920622087cbfe50c73fd89528cb3073     1\n",
       "d648e767e0368bd1e06b8672dda607f0     1\n",
       "754529e9997bc3fea8838c772db65691     1\n",
       "10c6033c2fe641e4b769b94a11c7e2ab     1\n",
       "99edaf1930e086e977dbb038fd6219fc     1\n",
       "0cfbf39a91d9797684dee744f49644f4     1\n",
       "27ea10d41b4d1a6c8fb58e790ed34d9f     1\n",
       "119034355e8ae99feee30f2a1b8b1a81     1\n",
       "aec23866faf0f3edd72e4fdd927e8983     1\n",
       "f7ddfaa559152f6ac45fac243b8cd3ce     1\n",
       "0df9e3a1fcbfe3707b5d9a10ce75322d     1\n",
       "fceff19f532745da0b881b324171c282     1\n",
       "74170c3cc15e742cf7f7eeb559a5145c     1\n",
       "a7be7090df773b2ea9d27608c3058372     1\n",
       "01ab3a27deffa177edf0f2fd71de2e93     1\n",
       "Name: worker_id, Length: 37830, dtype: int64"
      ]
     },
     "execution_count": 16,
     "metadata": {},
     "output_type": "execute_result"
    }
   ],
   "source": [
    "# How often do we see each worker?\n",
    "df['worker_id'].value_counts()"
   ]
  },
  {
   "cell_type": "code",
   "execution_count": 19,
   "metadata": {},
   "outputs": [
    {
     "data": {
      "text/plain": [
       "1     25070\n",
       "2      5642\n",
       "3      2364\n",
       "4      1274\n",
       "5       790\n",
       "6       564\n",
       "7       429\n",
       "8       324\n",
       "9       239\n",
       "10      199\n",
       "11      157\n",
       "12      134\n",
       "13       98\n",
       "14       93\n",
       "16       83\n",
       "15       72\n",
       "18       56\n",
       "17       53\n",
       "19       37\n",
       "20       36\n",
       "21       36\n",
       "22       21\n",
       "23       21\n",
       "26       14\n",
       "24       11\n",
       "25        9\n",
       "27        3\n",
       "34        1\n",
       "Name: worker_id, dtype: int64"
      ]
     },
     "execution_count": 19,
     "metadata": {},
     "output_type": "execute_result"
    }
   ],
   "source": [
    "# Let's compute the frequency of captures\n",
    "x = df['worker_id'].value_counts().value_counts()\n",
    "x"
   ]
  },
  {
   "cell_type": "code",
   "execution_count": 20,
   "metadata": {},
   "outputs": [
    {
     "data": {
      "text/plain": [
       "<matplotlib.axes._subplots.AxesSubplot at 0x7ff38d5180f0>"
      ]
     },
     "execution_count": 20,
     "metadata": {},
     "output_type": "execute_result"
    },
    {
     "data": {
      "image/png": "[encoded data removed]",
      "text/plain": [
       "<matplotlib.figure.Figure at 0x7ff38d4a2518>"
      ]
     },
     "metadata": {},
     "output_type": "display_data"
    }
   ],
   "source": [
    "cnt = pd.DataFrame(x).reset_index()\n",
    "cnt.plot.scatter(x='index', y='worker_id', logy=True, logx=True)"
   ]
  },
  {
   "cell_type": "code",
   "execution_count": 21,
   "metadata": {},
   "outputs": [
    {
     "data": {
      "text/plain": [
       "<matplotlib.axes._subplots.AxesSubplot at 0x7ff38d346550>"
      ]
     },
     "execution_count": 21,
     "metadata": {},
     "output_type": "execute_result"
    },
    {
     "data": {
      "image/png": "[encoded data removed]",
      "text/plain": [
       "<matplotlib.figure.Figure at 0x7ff38d2fd668>"
      ]
     },
     "metadata": {},
     "output_type": "display_data"
    }
   ],
   "source": [
    "import scipy, scipy.stats\n",
    "x = scipy.linspace(1,35,35)\n",
    "pmf = scipy.stats.binom.pmf(x,80000,1/50000)\n",
    "df_binom = pd.DataFrame(pmf)\n",
    "df_binom.plot(logy=True, logx=True)"
   ]
  },
  {
   "cell_type": "code",
   "execution_count": 22,
   "metadata": {},
   "outputs": [
    {
     "data": {
      "text/plain": [
       "1     0.662702\n",
       "2     0.149141\n",
       "3     0.062490\n",
       "4     0.033677\n",
       "5     0.020883\n",
       "6     0.014909\n",
       "7     0.011340\n",
       "8     0.008565\n",
       "9     0.006318\n",
       "10    0.005260\n",
       "11    0.004150\n",
       "12    0.003542\n",
       "13    0.002591\n",
       "14    0.002458\n",
       "15    0.001903\n",
       "16    0.002194\n",
       "17    0.001401\n",
       "18    0.001480\n",
       "19    0.000978\n",
       "20    0.000952\n",
       "21    0.000952\n",
       "22    0.000555\n",
       "23    0.000555\n",
       "24    0.000291\n",
       "25    0.000238\n",
       "26    0.000370\n",
       "27    0.000079\n",
       "34    0.000026\n",
       "Name: worker_id, dtype: float64"
      ]
     },
     "execution_count": 22,
     "metadata": {},
     "output_type": "execute_result"
    }
   ],
   "source": [
    "x = df['worker_id'].value_counts().value_counts(normalize=True).sort_index()\n",
    "x"
   ]
  },
  {
   "cell_type": "code",
   "execution_count": 23,
   "metadata": {},
   "outputs": [
    {
     "data": {
      "text/plain": [
       "array([ 1,  2,  3,  4,  5,  6,  7,  8,  9, 10, 11, 12, 13, 14, 15, 16, 17,\n",
       "       18, 19, 20, 21, 22, 23, 24, 25, 26, 27, 34])"
      ]
     },
     "execution_count": 23,
     "metadata": {},
     "output_type": "execute_result"
    }
   ],
   "source": [
    "x.index.values"
   ]
  },
  {
   "cell_type": "code",
   "execution_count": 24,
   "metadata": {},
   "outputs": [
    {
     "name": "stdout",
     "output_type": "stream",
     "text": [
      "2 0.225049860391\n",
      "3 0.419000354484\n",
      "4 0.538917089679\n",
      "5 0.620094191523\n",
      "6 0.713924050633\n",
      "7 0.760638297872\n",
      "8 0.755244755245\n",
      "9 0.737654320988\n",
      "10 0.832635983264\n",
      "11 0.788944723618\n",
      "12 0.853503184713\n",
      "13 0.731343283582\n",
      "14 0.948979591837\n",
      "15 0.774193548387\n",
      "16 1.15277777778\n",
      "17 0.638554216867\n",
      "18 1.05660377358\n",
      "19 0.660714285714\n",
      "20 0.972972972973\n",
      "21 1.0\n",
      "22 0.583333333333\n",
      "23 1.0\n",
      "24 0.52380952381\n",
      "25 0.818181818182\n",
      "26 1.55555555556\n",
      "27 0.214285714286\n"
     ]
    }
   ],
   "source": [
    "for i in x.index.values:\n",
    "    try:\n",
    "        print(i+1,x[i+1]/x[i])\n",
    "    except:\n",
    "        pass"
   ]
  },
  {
   "cell_type": "code",
   "execution_count": 25,
   "metadata": {},
   "outputs": [
    {
     "data": {
      "text/plain": [
       "<matplotlib.axes._subplots.AxesSubplot at 0x7ff38d205e48>"
      ]
     },
     "execution_count": 25,
     "metadata": {},
     "output_type": "execute_result"
    },
    {
     "data": {
      "image/png": "[encoded data removed]",
      "text/plain": [
       "<matplotlib.figure.Figure at 0x7ff38d20c898>"
      ]
     },
     "metadata": {},
     "output_type": "display_data"
    }
   ],
   "source": [
    "df['worker_id'].value_counts().value_counts(normalize=True).sort_index().reset_index().plot.scatter(x='index', y='worker_id', logy=True)"
   ]
  },
  {
   "cell_type": "markdown",
   "metadata": {},
   "source": [
    "### Activity Parameter\n",
    "\n",
    "We now add one parameter in our model, to capture the fact that activity in the platform is not equal among all workers.\n",
    "\n",
    "In most online platforms, activity follows a power-law distribution: Most people participate occassionally, but a small number of users are active substantially more. \n",
    "\n",
    "We endow each of our user with an activity parameter $a$, which defines the fraction of time units that the user devotes in the platform. We asumme that $a$ is power-law distributed, based on evidence from other online platforms, and from our numbers above. Assuming that a user is active a minimum of $x_{min}$ and a maximum of $x_{max}$ time units, we have that the probability distribution of the activity parameters for the workers follows the distribution:\n",
    "\n",
    "* pdf: $p(a=x) = C \\cdot x^\\alpha$, with $C=(\\alpha-1) / (x_{max}^{\\alpha-1} - x_{min}^{\\alpha-1})$\n",
    "\n",
    "* CDF: $P(x>a) =  (x^{\\alpha-1} - x_{min}^{\\alpha-1}) /  (x_{max}^{\\alpha-1} - x_{min}^{\\alpha-1})$\n",
    "\n",
    "$E[x] = \\frac{\\alpha − 1}{\\alpha - 2}$ for $\\alpha>2$. See http://tuvalu.santafe.edu/~aaronc/courses/7000/csci7000-001_2011_L2.pdf (Eq 3) and http://up-rs-esp.github.io/bpl/\n",
    "\n",
    "So, if we have a population of $N$ users (not all of them active at the same time, though), at any given minute, we can expect $N \\frac{\\alpha − 1}{\\alpha - 2}$ of them to be available for sampling at any given moment, and our estimates need to be adjusted by multiplying our earlier estimates with  $\\frac{\\alpha − 2}{\\alpha - 1}$."
   ]
  },
  {
   "cell_type": "code",
   "execution_count": null,
   "metadata": {
    "collapsed": true
   },
   "outputs": [],
   "source": [
    "import math\n",
    "\n",
    "def pdf(x,a, x_min, x_max):\n",
    "    b = 1-a\n",
    "    return  (b * math.pow(x, -a)) /  ((math.pow(x_max, b) - math.pow(x_min, b)))\n",
    "\n",
    "def cdf(x,a, x_min, x_max):\n",
    "    b = 1-a\n",
    "    return  (math.pow(x,b)- math.pow(x_min, b)) /  (math.pow(x_max, b) - math.pow(x_min, b))\n",
    "\n",
    "a, xmin , xmax = 3.25, 1, 100\n",
    "points = []\n",
    "for x in range(xmin, xmax+1):\n",
    "    points.append( {'x': x/xmax, 'cdf': 1-cdf(x, a, xmin, xmax), 'pdf': pdf(x, a, xmin, xmax)})\n",
    "    \n",
    "pdf = pd.DataFrame(points)\n",
    "pdf.set_index('x')['cdf'].plot(logx=True, logy=True)"
   ]
  },
  {
   "cell_type": "markdown",
   "metadata": {},
   "source": [
    "#### Generally-active vs Active-now population\n",
    "\n",
    "If we pick a random time to sample, then the probability that a user is active is given by $\\frac{a}{a_{max}}\\cdot p(a)$, where $a$ is the level of activity for that user, and $p(a)$ is the probability that a user has such an activity level.\n",
    "\n",
    "Integrating over all activity values:\n",
    "\n",
    "$\\int_{a_{min}}^{a_{max}} \\left(\\frac{a}{a_{max}}\\right)^2 p(a) da$\n",
    "\n",
    "= (\\alpha-1)/(\\alpha-2) "
   ]
  },
  {
   "cell_type": "markdown",
   "metadata": {},
   "source": [
    "\n",
    "\n",
    "\n",
    "\n"
   ]
  },
  {
   "cell_type": "markdown",
   "metadata": {},
   "source": [
    "#### Appearance in two samples\n",
    "\n",
    "So for a random user, we know that $p(a)$ is the probability of having activity level $a$, and the probability of the user being active in two sampling periods is $\\left(\\frac{a}{a_{max}}\\right)^2$.\n",
    "\n",
    "Integrating over all activity values:\n",
    "\n",
    "$\\int_{a_{min}}^{a_{max}} \\left(\\frac{a}{a_{max}}\\right)^2 p(a) da$"
   ]
  },
  {
   "cell_type": "code",
   "execution_count": null,
   "metadata": {
    "collapsed": true
   },
   "outputs": [],
   "source": []
  }
 ],
 "metadata": {
  "kernelspec": {
   "display_name": "Python 3",
   "language": "python",
   "name": "python3"
  },
  "language_info": {
   "codemirror_mode": {
    "name": "ipython",
    "version": 3
   },
   "file_extension": ".py",
   "mimetype": "text/x-python",
   "name": "python",
   "nbconvert_exporter": "python",
   "pygments_lexer": "ipython3",
   "version": "3.5.2"
  }
 },
 "nbformat": 4,
 "nbformat_minor": 1
}
